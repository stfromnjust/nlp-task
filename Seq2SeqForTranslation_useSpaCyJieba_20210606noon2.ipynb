{
  "nbformat": 4,
  "nbformat_minor": 0,
  "metadata": {
    "accelerator": "GPU",
    "colab": {
      "name": "Seq2SeqForTranslation.ipynb",
      "provenance": [],
      "collapsed_sections": [],
      "include_colab_link": true
    },
    "kernelspec": {
      "display_name": "Python 3",
      "language": "python",
      "name": "python3"
    },
    "language_info": {
      "codemirror_mode": {
        "name": "ipython",
        "version": 3
      },
      "file_extension": ".py",
      "mimetype": "text/x-python",
      "name": "python",
      "nbconvert_exporter": "python",
      "pygments_lexer": "ipython3",
      "version": "3.6.8"
    }
  },
  "cells": [
    {
      "cell_type": "markdown",
      "metadata": {
        "id": "view-in-github",
        "colab_type": "text"
      },
      "source": [
        "<a href=\"https://colab.research.google.com/github/stfromnjust/nlp-task/blob/main/Seq2SeqForTranslation_useSpaCyJieba_20210606noon2.ipynb\" target=\"_parent\"><img src=\"https://colab.research.google.com/assets/colab-badge.svg\" alt=\"Open In Colab\"/></a>"
      ]
    },
    {
      "cell_type": "markdown",
      "metadata": {
        "id": "LyLu9jiPmg2v"
      },
      "source": [
        "# 下载数据 必要配置"
      ]
    },
    {
      "cell_type": "code",
      "metadata": {
        "id": "jUbIsnYUgAvA",
        "colab": {
          "base_uri": "https://localhost:8080/"
        },
        "outputId": "c9402ad3-a63a-4793-b9b6-eea53802409e"
      },
      "source": [
        "!apt install lshw -y\n",
        "!lshw -C display"
      ],
      "execution_count": 1,
      "outputs": [
        {
          "output_type": "stream",
          "text": [
            "Reading package lists... Done\n",
            "Building dependency tree       \n",
            "Reading state information... Done\n",
            "The following additional packages will be installed:\n",
            "  libpci3 pciutils usbutils\n",
            "The following NEW packages will be installed:\n",
            "  libpci3 lshw pciutils usbutils\n",
            "0 upgraded, 4 newly installed, 0 to remove and 39 not upgraded.\n",
            "Need to get 723 kB of archives.\n",
            "After this operation, 2,883 kB of additional disk space will be used.\n",
            "Get:1 http://archive.ubuntu.com/ubuntu bionic-updates/main amd64 libpci3 amd64 1:3.5.2-1ubuntu1.1 [24.1 kB]\n",
            "Get:2 http://archive.ubuntu.com/ubuntu bionic-updates/main amd64 lshw amd64 02.18-0.1ubuntu6.18.04.2 [234 kB]\n",
            "Get:3 http://archive.ubuntu.com/ubuntu bionic-updates/main amd64 pciutils amd64 1:3.5.2-1ubuntu1.1 [257 kB]\n",
            "Get:4 http://archive.ubuntu.com/ubuntu bionic/main amd64 usbutils amd64 1:007-4build1 [208 kB]\n",
            "Fetched 723 kB in 1s (612 kB/s)\n",
            "Selecting previously unselected package libpci3:amd64.\n",
            "(Reading database ... 160772 files and directories currently installed.)\n",
            "Preparing to unpack .../libpci3_1%3a3.5.2-1ubuntu1.1_amd64.deb ...\n",
            "Unpacking libpci3:amd64 (1:3.5.2-1ubuntu1.1) ...\n",
            "Selecting previously unselected package lshw.\n",
            "Preparing to unpack .../lshw_02.18-0.1ubuntu6.18.04.2_amd64.deb ...\n",
            "Unpacking lshw (02.18-0.1ubuntu6.18.04.2) ...\n",
            "Selecting previously unselected package pciutils.\n",
            "Preparing to unpack .../pciutils_1%3a3.5.2-1ubuntu1.1_amd64.deb ...\n",
            "Unpacking pciutils (1:3.5.2-1ubuntu1.1) ...\n",
            "Selecting previously unselected package usbutils.\n",
            "Preparing to unpack .../usbutils_1%3a007-4build1_amd64.deb ...\n",
            "Unpacking usbutils (1:007-4build1) ...\n",
            "Setting up lshw (02.18-0.1ubuntu6.18.04.2) ...\n",
            "Setting up usbutils (1:007-4build1) ...\n",
            "Setting up libpci3:amd64 (1:3.5.2-1ubuntu1.1) ...\n",
            "Setting up pciutils (1:3.5.2-1ubuntu1.1) ...\n",
            "Processing triggers for libc-bin (2.27-3ubuntu1.2) ...\n",
            "/sbin/ldconfig.real: /usr/local/lib/python3.7/dist-packages/ideep4py/lib/libmkldnn.so.0 is not a symbolic link\n",
            "\n",
            "Processing triggers for man-db (2.8.3-2ubuntu0.1) ...\n",
            "  *-display\n",
            "       description: 3D controller\n",
            "       product: GP100GL [Tesla P100 PCIe 16GB]\n",
            "       vendor: NVIDIA Corporation\n",
            "       physical id: 4\n",
            "       bus info: pci@0000:00:04.0\n",
            "       version: a1\n",
            "       width: 64 bits\n",
            "       clock: 33MHz\n",
            "       capabilities: msi pm bus_master cap_list\n",
            "       configuration: driver=nvidia latency=0\n",
            "       resources: iomemory:40-3f iomemory:80-7f irq:35 memory:c0000000-c0ffffff memory:400000000-7ffffffff memory:800000000-801ffffff ioport:c000(size=128)\n"
          ],
          "name": "stdout"
        }
      ]
    },
    {
      "cell_type": "code",
      "metadata": {
        "id": "kJeO6mpHlHTs",
        "outputId": "81baf44e-937f-4933-acd9-5a61671e3858",
        "colab": {
          "base_uri": "https://localhost:8080/"
        }
      },
      "source": [
        "!/opt/bin/nvidia-smi"
      ],
      "execution_count": 107,
      "outputs": [
        {
          "output_type": "stream",
          "text": [
            "Sun Jun  6 09:08:24 2021       \n",
            "+-----------------------------------------------------------------------------+\n",
            "| NVIDIA-SMI 460.32.03    Driver Version: 460.32.03    CUDA Version: 11.2     |\n",
            "|-------------------------------+----------------------+----------------------+\n",
            "| GPU  Name        Persistence-M| Bus-Id        Disp.A | Volatile Uncorr. ECC |\n",
            "| Fan  Temp  Perf  Pwr:Usage/Cap|         Memory-Usage | GPU-Util  Compute M. |\n",
            "|                               |                      |               MIG M. |\n",
            "|===============================+======================+======================|\n",
            "|   0  Tesla P100-PCIE...  Off  | 00000000:00:04.0 Off |                    0 |\n",
            "| N/A   48C    P0    35W / 250W |   2907MiB / 16280MiB |      0%      Default |\n",
            "|                               |                      |                  N/A |\n",
            "+-------------------------------+----------------------+----------------------+\n",
            "                                                                               \n",
            "+-----------------------------------------------------------------------------+\n",
            "| Processes:                                                                  |\n",
            "|  GPU   GI   CI        PID   Type   Process name                  GPU Memory |\n",
            "|        ID   ID                                                   Usage      |\n",
            "|=============================================================================|\n",
            "+-----------------------------------------------------------------------------+\n"
          ],
          "name": "stdout"
        }
      ]
    },
    {
      "cell_type": "code",
      "metadata": {
        "id": "6q7dDydT7n2d",
        "colab": {
          "base_uri": "https://localhost:8080/"
        },
        "outputId": "0a949c84-5d2a-4f8a-8b11-3c7559a29417"
      },
      "source": [
        "!wget https://github.com/stfromnjust/nlp-task/raw/main/cmn-eng.zip\n",
        "!unzip -d ./cmn-eng cmn-eng.zip"
      ],
      "execution_count": 2,
      "outputs": [
        {
          "output_type": "stream",
          "text": [
            "--2021-06-06 07:27:59--  https://github.com/stfromnjust/nlp-task/raw/main/cmn-eng.zip\n",
            "Resolving github.com (github.com)... 192.30.255.112\n",
            "Connecting to github.com (github.com)|192.30.255.112|:443... connected.\n",
            "HTTP request sent, awaiting response... 302 Found\n",
            "Location: https://raw.githubusercontent.com/stfromnjust/nlp-task/main/cmn-eng.zip [following]\n",
            "--2021-06-06 07:27:59--  https://raw.githubusercontent.com/stfromnjust/nlp-task/main/cmn-eng.zip\n",
            "Resolving raw.githubusercontent.com (raw.githubusercontent.com)... 185.199.110.133, 185.199.111.133, 185.199.108.133, ...\n",
            "Connecting to raw.githubusercontent.com (raw.githubusercontent.com)|185.199.110.133|:443... connected.\n",
            "HTTP request sent, awaiting response... 200 OK\n",
            "Length: 1049235 (1.0M) [application/zip]\n",
            "Saving to: ‘cmn-eng.zip’\n",
            "\n",
            "cmn-eng.zip         100%[===================>]   1.00M  --.-KB/s    in 0.04s   \n",
            "\n",
            "2021-06-06 07:27:59 (22.6 MB/s) - ‘cmn-eng.zip’ saved [1049235/1049235]\n",
            "\n",
            "Archive:  cmn-eng.zip\n",
            "   creating: ./cmn-eng/cmn-eng/\n",
            "  inflating: ./cmn-eng/cmn-eng/cmn.txt  \n",
            "  inflating: ./cmn-eng/cmn-eng/_about.txt  \n"
          ],
          "name": "stdout"
        }
      ]
    },
    {
      "cell_type": "code",
      "metadata": {
        "id": "Zo7QCacp7n2s"
      },
      "source": [
        "seed = 2030"
      ],
      "execution_count": 3,
      "outputs": []
    },
    {
      "cell_type": "code",
      "metadata": {
        "id": "q2fEi0_oNVGl",
        "colab": {
          "base_uri": "https://localhost:8080/"
        },
        "outputId": "d954f7f0-418f-443d-c307-6663e322360f"
      },
      "source": [
        "!pip install opencc\n",
        "!pip install torchviz"
      ],
      "execution_count": 4,
      "outputs": [
        {
          "output_type": "stream",
          "text": [
            "Collecting opencc\n",
            "\u001b[?25l  Downloading https://files.pythonhosted.org/packages/25/a1/83402033399c7bc61482f45e186156f6c51c8ca5cf4a66f22039a586a520/OpenCC-1.1.2-cp37-cp37m-manylinux1_x86_64.whl (765kB)\n",
            "\r\u001b[K     |▍                               | 10kB 15.2MB/s eta 0:00:01\r\u001b[K     |▉                               | 20kB 19.4MB/s eta 0:00:01\r\u001b[K     |█▎                              | 30kB 17.0MB/s eta 0:00:01\r\u001b[K     |█▊                              | 40kB 15.4MB/s eta 0:00:01\r\u001b[K     |██▏                             | 51kB 9.1MB/s eta 0:00:01\r\u001b[K     |██▋                             | 61kB 10.5MB/s eta 0:00:01\r\u001b[K     |███                             | 71kB 8.8MB/s eta 0:00:01\r\u001b[K     |███▍                            | 81kB 9.6MB/s eta 0:00:01\r\u001b[K     |███▉                            | 92kB 10.3MB/s eta 0:00:01\r\u001b[K     |████▎                           | 102kB 8.7MB/s eta 0:00:01\r\u001b[K     |████▊                           | 112kB 8.7MB/s eta 0:00:01\r\u001b[K     |█████▏                          | 122kB 8.7MB/s eta 0:00:01\r\u001b[K     |█████▋                          | 133kB 8.7MB/s eta 0:00:01\r\u001b[K     |██████                          | 143kB 8.7MB/s eta 0:00:01\r\u001b[K     |██████▍                         | 153kB 8.7MB/s eta 0:00:01\r\u001b[K     |██████▉                         | 163kB 8.7MB/s eta 0:00:01\r\u001b[K     |███████▎                        | 174kB 8.7MB/s eta 0:00:01\r\u001b[K     |███████▊                        | 184kB 8.7MB/s eta 0:00:01\r\u001b[K     |████████▏                       | 194kB 8.7MB/s eta 0:00:01\r\u001b[K     |████████▋                       | 204kB 8.7MB/s eta 0:00:01\r\u001b[K     |█████████                       | 215kB 8.7MB/s eta 0:00:01\r\u001b[K     |█████████▍                      | 225kB 8.7MB/s eta 0:00:01\r\u001b[K     |█████████▉                      | 235kB 8.7MB/s eta 0:00:01\r\u001b[K     |██████████▎                     | 245kB 8.7MB/s eta 0:00:01\r\u001b[K     |██████████▊                     | 256kB 8.7MB/s eta 0:00:01\r\u001b[K     |███████████▏                    | 266kB 8.7MB/s eta 0:00:01\r\u001b[K     |███████████▌                    | 276kB 8.7MB/s eta 0:00:01\r\u001b[K     |████████████                    | 286kB 8.7MB/s eta 0:00:01\r\u001b[K     |████████████▍                   | 296kB 8.7MB/s eta 0:00:01\r\u001b[K     |████████████▉                   | 307kB 8.7MB/s eta 0:00:01\r\u001b[K     |█████████████▎                  | 317kB 8.7MB/s eta 0:00:01\r\u001b[K     |█████████████▊                  | 327kB 8.7MB/s eta 0:00:01\r\u001b[K     |██████████████▏                 | 337kB 8.7MB/s eta 0:00:01\r\u001b[K     |██████████████▌                 | 348kB 8.7MB/s eta 0:00:01\r\u001b[K     |███████████████                 | 358kB 8.7MB/s eta 0:00:01\r\u001b[K     |███████████████▍                | 368kB 8.7MB/s eta 0:00:01\r\u001b[K     |███████████████▉                | 378kB 8.7MB/s eta 0:00:01\r\u001b[K     |████████████████▎               | 389kB 8.7MB/s eta 0:00:01\r\u001b[K     |████████████████▊               | 399kB 8.7MB/s eta 0:00:01\r\u001b[K     |█████████████████▏              | 409kB 8.7MB/s eta 0:00:01\r\u001b[K     |█████████████████▌              | 419kB 8.7MB/s eta 0:00:01\r\u001b[K     |██████████████████              | 430kB 8.7MB/s eta 0:00:01\r\u001b[K     |██████████████████▍             | 440kB 8.7MB/s eta 0:00:01\r\u001b[K     |██████████████████▉             | 450kB 8.7MB/s eta 0:00:01\r\u001b[K     |███████████████████▎            | 460kB 8.7MB/s eta 0:00:01\r\u001b[K     |███████████████████▊            | 471kB 8.7MB/s eta 0:00:01\r\u001b[K     |████████████████████            | 481kB 8.7MB/s eta 0:00:01\r\u001b[K     |████████████████████▌           | 491kB 8.7MB/s eta 0:00:01\r\u001b[K     |█████████████████████           | 501kB 8.7MB/s eta 0:00:01\r\u001b[K     |█████████████████████▍          | 512kB 8.7MB/s eta 0:00:01\r\u001b[K     |█████████████████████▉          | 522kB 8.7MB/s eta 0:00:01\r\u001b[K     |██████████████████████▎         | 532kB 8.7MB/s eta 0:00:01\r\u001b[K     |██████████████████████▊         | 542kB 8.7MB/s eta 0:00:01\r\u001b[K     |███████████████████████         | 552kB 8.7MB/s eta 0:00:01\r\u001b[K     |███████████████████████▌        | 563kB 8.7MB/s eta 0:00:01\r\u001b[K     |████████████████████████        | 573kB 8.7MB/s eta 0:00:01\r\u001b[K     |████████████████████████▍       | 583kB 8.7MB/s eta 0:00:01\r\u001b[K     |████████████████████████▉       | 593kB 8.7MB/s eta 0:00:01\r\u001b[K     |█████████████████████████▎      | 604kB 8.7MB/s eta 0:00:01\r\u001b[K     |█████████████████████████▊      | 614kB 8.7MB/s eta 0:00:01\r\u001b[K     |██████████████████████████      | 624kB 8.7MB/s eta 0:00:01\r\u001b[K     |██████████████████████████▌     | 634kB 8.7MB/s eta 0:00:01\r\u001b[K     |███████████████████████████     | 645kB 8.7MB/s eta 0:00:01\r\u001b[K     |███████████████████████████▍    | 655kB 8.7MB/s eta 0:00:01\r\u001b[K     |███████████████████████████▉    | 665kB 8.7MB/s eta 0:00:01\r\u001b[K     |████████████████████████████▎   | 675kB 8.7MB/s eta 0:00:01\r\u001b[K     |████████████████████████████▋   | 686kB 8.7MB/s eta 0:00:01\r\u001b[K     |█████████████████████████████   | 696kB 8.7MB/s eta 0:00:01\r\u001b[K     |█████████████████████████████▌  | 706kB 8.7MB/s eta 0:00:01\r\u001b[K     |██████████████████████████████  | 716kB 8.7MB/s eta 0:00:01\r\u001b[K     |██████████████████████████████▍ | 727kB 8.7MB/s eta 0:00:01\r\u001b[K     |██████████████████████████████▉ | 737kB 8.7MB/s eta 0:00:01\r\u001b[K     |███████████████████████████████▎| 747kB 8.7MB/s eta 0:00:01\r\u001b[K     |███████████████████████████████▋| 757kB 8.7MB/s eta 0:00:01\r\u001b[K     |████████████████████████████████| 768kB 8.7MB/s \n",
            "\u001b[?25hInstalling collected packages: opencc\n",
            "Successfully installed opencc-1.1.2\n",
            "Collecting torchviz\n",
            "  Downloading https://files.pythonhosted.org/packages/79/e7/643808913211d6c1fc96a3a4333bf4c9276858fab00bcafaf98ea58a97be/torchviz-0.0.2.tar.gz\n",
            "Requirement already satisfied: torch in /usr/local/lib/python3.7/dist-packages (from torchviz) (1.8.1+cu101)\n",
            "Requirement already satisfied: graphviz in /usr/local/lib/python3.7/dist-packages (from torchviz) (0.10.1)\n",
            "Requirement already satisfied: typing-extensions in /usr/local/lib/python3.7/dist-packages (from torch->torchviz) (3.7.4.3)\n",
            "Requirement already satisfied: numpy in /usr/local/lib/python3.7/dist-packages (from torch->torchviz) (1.19.5)\n",
            "Building wheels for collected packages: torchviz\n",
            "  Building wheel for torchviz (setup.py) ... \u001b[?25l\u001b[?25hdone\n",
            "  Created wheel for torchviz: filename=torchviz-0.0.2-cp37-none-any.whl size=4152 sha256=b71582143d8e004e35cb36753ec649924e50ff75c9c3865e3432dff3f130c0c6\n",
            "  Stored in directory: /root/.cache/pip/wheels/01/26/58/026ffd533dbe8b3972eb423da9c7949beca68d1c98ed9e8624\n",
            "Successfully built torchviz\n",
            "Installing collected packages: torchviz\n",
            "Successfully installed torchviz-0.0.2\n"
          ],
          "name": "stdout"
        }
      ]
    },
    {
      "cell_type": "code",
      "metadata": {
        "id": "05LtExs57n20"
      },
      "source": [
        "import torch\n",
        "import torch.nn as nn\n",
        "import torch.optim as optim\n",
        "import torch.nn.functional as F\n",
        "from torch.utils.data import Dataset, DataLoader\n",
        "from torchtext.legacy.data import *\n",
        "\n",
        "\n",
        "import time\n",
        "import math\n",
        "import random\n",
        "import jieba\n",
        "import spacy\n",
        "import opencc"
      ],
      "execution_count": 5,
      "outputs": []
    },
    {
      "cell_type": "code",
      "metadata": {
        "id": "B7h691pQdmyW",
        "colab": {
          "base_uri": "https://localhost:8080/"
        },
        "outputId": "a0a5fd67-b54c-438d-dd87-4a3388d82c69"
      },
      "source": [
        "device = torch.device('cuda' if torch.cuda.is_available() else 'cpu')\n",
        "device"
      ],
      "execution_count": 6,
      "outputs": [
        {
          "output_type": "execute_result",
          "data": {
            "text/plain": [
              "device(type='cuda')"
            ]
          },
          "metadata": {
            "tags": []
          },
          "execution_count": 6
        }
      ]
    },
    {
      "cell_type": "markdown",
      "metadata": {
        "id": "QW9iTQeF7n2-"
      },
      "source": [
        "# 读取数据"
      ]
    },
    {
      "cell_type": "code",
      "metadata": {
        "id": "9TBhsBe27n3A",
        "colab": {
          "base_uri": "https://localhost:8080/",
          "height": 103
        },
        "outputId": "847137a5-0e63-42fc-ed95-688ee0f21ece"
      },
      "source": [
        "# 每一行数据如下\n",
        "# 'Hi.\\t嗨。\\tCC-BY 2.0 (France) Attribution: tatoeba.org #538123 (CM) & #891077 (Martha)'\n",
        "with open('./cmn-eng/cmn-eng/cmn.txt', 'r', encoding='utf-8') as f:\n",
        "    data = f.read()\n",
        "data = data.strip()\n",
        "data = data.split('\\n')\n",
        "print('样本数:\\n', len(data))\n",
        "print('\\n样本示例:')\n",
        "data[0]"
      ],
      "execution_count": 7,
      "outputs": [
        {
          "output_type": "stream",
          "text": [
            "样本数:\n",
            " 24818\n",
            "\n",
            "样本示例:\n"
          ],
          "name": "stdout"
        },
        {
          "output_type": "execute_result",
          "data": {
            "application/vnd.google.colaboratory.intrinsic+json": {
              "type": "string"
            },
            "text/plain": [
              "'Hi.\\t嗨。\\tCC-BY 2.0 (France) Attribution: tatoeba.org #538123 (CM) & #891077 (Martha)'"
            ]
          },
          "metadata": {
            "tags": []
          },
          "execution_count": 7
        }
      ]
    },
    {
      "cell_type": "code",
      "metadata": {
        "id": "vXXhro447n3F",
        "colab": {
          "base_uri": "https://localhost:8080/"
        },
        "outputId": "e30da7bb-bc8c-44cd-8bb4-52269b0986db"
      },
      "source": [
        "# 分割英文数据和中文数据\n",
        "# 繁体中文转简体中文\n",
        "cc = opencc.OpenCC('t2s')\n",
        "\n",
        "en_data = [line.split('\\t')[0].lower() for line in data]\n",
        "ch_data = [cc.convert(line.split('\\t')[1]) for line in data]\n",
        "\n",
        "print('英文数据:\\n', en_data[:10])\n",
        "print('\\n中文数据:\\n', ch_data[:10])"
      ],
      "execution_count": 8,
      "outputs": [
        {
          "output_type": "stream",
          "text": [
            "英文数据:\n",
            " ['hi.', 'hi.', 'run.', 'wait!', 'wait!', 'hello!', 'i try.', 'i won!', 'oh no!', 'cheers!']\n",
            "\n",
            "中文数据:\n",
            " ['嗨。', '你好。', '你用跑的。', '等等！', '等一下！', '你好。', '让我来。', '我赢了。', '不会吧。', '干杯!']\n"
          ],
          "name": "stdout"
        }
      ]
    },
    {
      "cell_type": "markdown",
      "metadata": {
        "id": "Vx-jKO_vuZbM"
      },
      "source": [
        "# 分词"
      ]
    },
    {
      "cell_type": "code",
      "metadata": {
        "id": "k1ioMRh17n3O",
        "colab": {
          "base_uri": "https://localhost:8080/"
        },
        "outputId": "73096e73-75d0-48e1-c9b8-518f470c9445"
      },
      "source": [
        "# 中文使用jieba分词\n",
        "ch_token_list = []\n",
        "for line in ch_data:\n",
        "  ch_token_list.append(list(jieba.cut(line)) + ['<eos>'])\n",
        "\n",
        "# 英文使用spacy分词\n",
        "nlp = spacy.load('en')\n",
        "en_token_list = []\n",
        "for line in en_data:\n",
        "  doc = nlp(line)\n",
        "  en_new = []\n",
        "  for token in doc:\n",
        "    en_new.append(token.text)\n",
        "  en_token_list.append(en_new + ['<eos>'])\n",
        "\n",
        "# 测试\n",
        "print('英文数据:\\n', en_token_list[:3])\n",
        "print('\\n中文数据:\\n', ch_token_list[:3])"
      ],
      "execution_count": 9,
      "outputs": [
        {
          "output_type": "stream",
          "text": [
            "Building prefix dict from the default dictionary ...\n",
            "Dumping model to file cache /tmp/jieba.cache\n",
            "Loading model cost 0.997 seconds.\n",
            "Prefix dict has been built successfully.\n"
          ],
          "name": "stderr"
        },
        {
          "output_type": "stream",
          "text": [
            "英文数据:\n",
            " [['hi', '.', '<eos>'], ['hi', '.', '<eos>'], ['run', '.', '<eos>']]\n",
            "\n",
            "中文数据:\n",
            " [['嗨', '。', '<eos>'], ['你好', '。', '<eos>'], ['你', '用', '跑', '的', '。', '<eos>']]\n"
          ],
          "name": "stdout"
        }
      ]
    },
    {
      "cell_type": "markdown",
      "metadata": {
        "id": "jwip6aLDueJb"
      },
      "source": [
        "# 建立词典"
      ]
    },
    {
      "cell_type": "code",
      "metadata": {
        "colab": {
          "base_uri": "https://localhost:8080/"
        },
        "id": "-j9z6q06phw3",
        "outputId": "2c0acc3f-7bc3-4ca7-f2cf-aaebac962747"
      },
      "source": [
        "ch_TEXT = Field()\n",
        "ch_TEXT.build_vocab(ch_token_list[:21622], specials=['<pad>', '<unk>', '<bos>', '<eos>'])\n",
        "en_TEXT = Field()\n",
        "en_TEXT.build_vocab(en_token_list[:21622], specials=['<pad>', '<unk>', '<bos>', '<eos>'])\n",
        "\n",
        "print('中文词典: ')\n",
        "print(len(ch_TEXT.vocab))\n",
        "print(ch_TEXT)\n",
        "print(ch_TEXT.vocab.itos[:20])\n",
        "print(ch_TEXT.vocab.stoi['<unk>'])\n",
        "print('\\n英文词典: ')\n",
        "print(len(en_TEXT.vocab))\n",
        "print(en_TEXT)\n",
        "print(en_TEXT.vocab.itos[:20])\n",
        "print(en_TEXT.vocab.stoi['<unk>'])"
      ],
      "execution_count": 10,
      "outputs": [
        {
          "output_type": "stream",
          "text": [
            "中文词典: \n",
            "10742\n",
            "<torchtext.legacy.data.field.Field object at 0x7f7f58835210>\n",
            "['<unk>', '<pad>', '<bos>', '<eos>', '。', '我', '的', '了', '你', '他', '？', '在', '汤姆', '是', '她', '吗', '我们', '，', '不', '很']\n",
            "0\n",
            "\n",
            "英文词典: \n",
            "6288\n",
            "<torchtext.legacy.data.field.Field object at 0x7f7f651d10d0>\n",
            "['<unk>', '<pad>', '<bos>', '<eos>', '.', 'i', 'the', 'to', 'you', 'a', '?', 'is', 'he', \"n't\", 'tom', 'do', 'it', 'in', \"'s\", 'of']\n",
            "0\n"
          ],
          "name": "stdout"
        }
      ]
    },
    {
      "cell_type": "code",
      "metadata": {
        "id": "jLIjhvZt7n3e",
        "colab": {
          "base_uri": "https://localhost:8080/"
        },
        "outputId": "f477caca-31cb-4724-c667-b872f5bba227"
      },
      "source": [
        "# 利用字典，映射数据 \n",
        "en_num_data = [[en_TEXT.vocab.stoi[token] for token in line ] for line in en_token_list]\n",
        "ch_num_data = [[ch_TEXT.vocab.stoi[token] for token in line] for line in ch_token_list]\n",
        "\n",
        "print('char:', en_data[1])\n",
        "print('index:', en_num_data[1])"
      ],
      "execution_count": 11,
      "outputs": [
        {
          "output_type": "stream",
          "text": [
            "char: hi.\n",
            "index: [1878, 4, 3]\n"
          ],
          "name": "stdout"
        }
      ]
    },
    {
      "cell_type": "markdown",
      "metadata": {
        "id": "IZ5ZtQfN7n3j"
      },
      "source": [
        "# 表示为Dataset"
      ]
    },
    {
      "cell_type": "code",
      "metadata": {
        "id": "PPTYSlOw7n3k"
      },
      "source": [
        "class TranslationDataset(Dataset):\n",
        "    def __init__(self, src_data, trg_data):\n",
        "        self.src_data = src_data\n",
        "        self.trg_data = trg_data\n",
        "\n",
        "        assert len(src_data) == len(trg_data), \\\n",
        "            \"numbers of src_data  and trg_data must be equal!\"\n",
        "\n",
        "    def __len__(self):\n",
        "        return len(self.src_data)\n",
        "\n",
        "    def __getitem__(self, idx):\n",
        "        src_sample =self.src_data[idx]\n",
        "        src_len = len(self.src_data[idx])\n",
        "        trg_sample = self.trg_data[idx]\n",
        "        trg_len = len(self.trg_data[idx])\n",
        "        return {\"src\": src_sample, \"src_len\": src_len, \"trg\": trg_sample, \"trg_len\": trg_len}"
      ],
      "execution_count": 12,
      "outputs": []
    },
    {
      "cell_type": "code",
      "metadata": {
        "id": "yUKfKfpc7n3p"
      },
      "source": [
        "def padding_batch(batch):\n",
        "    \"\"\"\n",
        "    input: -> list of dict\n",
        "        [{'src': [1, 2, 3], 'trg': [1, 2, 3]}, {'src': [1, 2, 2, 3], 'trg': [1, 2, 2, 3]}]\n",
        "    output: -> dict of tensor \n",
        "        {\n",
        "            \"src\": [[1, 2, 3, 0], [1, 2, 2, 3]].T\n",
        "            \"trg\": [[1, 2, 3, 0], [1, 2, 2, 3]].T\n",
        "        }\n",
        "    \"\"\"\n",
        "    src_lens = [d[\"src_len\"] for d in batch]\n",
        "    trg_lens = [d[\"trg_len\"] for d in batch]\n",
        "    \n",
        "    src_max = max([d[\"src_len\"] for d in batch])\n",
        "    trg_max = max([d[\"trg_len\"] for d in batch])\n",
        "    for d in batch:\n",
        "        d[\"src\"].extend([en_TEXT.vocab.stoi[\"<pad>\"]] * (src_max-d[\"src_len\"]))\n",
        "        d[\"trg\"].extend([ch_TEXT.vocab.stoi[\"<pad>\"]] * (trg_max-d[\"trg_len\"]))\n",
        "    srcs = torch.tensor([pair[\"src\"] for pair in batch], dtype=torch.long, device=device)\n",
        "    trgs = torch.tensor([pair[\"trg\"] for pair in batch], dtype=torch.long, device=device)\n",
        "    \n",
        "    batch = {\"src\":srcs.T, \"src_len\":src_lens, \"trg\":trgs.T, \"trg_len\":trg_lens}\n",
        "    return batch"
      ],
      "execution_count": 13,
      "outputs": []
    },
    {
      "cell_type": "markdown",
      "metadata": {
        "id": "Es1g11r09g9v"
      },
      "source": [
        "# Attention机制"
      ]
    },
    {
      "cell_type": "code",
      "metadata": {
        "id": "SBpm6azx_FLe"
      },
      "source": [
        "class Encoder(nn.Module):\n",
        "    def __init__(self, input_dim, emb_dim, hid_dim, n_layers, dropout=0.5, bidirectional=True):\n",
        "        super(Encoder, self).__init__()\n",
        "        \n",
        "        self.hid_dim = hid_dim\n",
        "        self.n_layers = n_layers\n",
        "        \n",
        "        self.embedding = nn.Embedding(input_dim, emb_dim)\n",
        "        self.gru = nn.GRU(emb_dim, hid_dim, n_layers, dropout=dropout, bidirectional=bidirectional)\n",
        "        \n",
        "    def forward(self, input_seqs, input_lengths, hidden):\n",
        "        # input_seqs = [seq_len, batch]\n",
        "        embedded = self.embedding(input_seqs)\n",
        "        # embedded = [seq_len, batch, embed_dim]\n",
        "        packed = torch.nn.utils.rnn.pack_padded_sequence(embedded, input_lengths, enforce_sorted=False)\n",
        "        \n",
        "        outputs, hidden = self.gru(packed, hidden)        \n",
        "        outputs, output_lengths = torch.nn.utils.rnn.pad_packed_sequence(outputs)\n",
        "        # outputs = [seq_len, batch, hid_dim * n directions]\n",
        "        # output_lengths = [batch]\n",
        "        return outputs, hidden"
      ],
      "execution_count": 58,
      "outputs": []
    },
    {
      "cell_type": "code",
      "metadata": {
        "id": "rMbsHQa38Kv1"
      },
      "source": [
        "class Attn(nn.Module):\n",
        "    def __init__(self, method, hidden_size):\n",
        "        super(Attn, self).__init__()\n",
        "        self.method = method\n",
        "        if self.method not in ['dot', 'general', 'concat']:\n",
        "            raise ValueError(self.method, \"is not an appropriate attention method.\")\n",
        "        self.hidden_size = hidden_size\n",
        "        if self.method == 'general':\n",
        "            self.attn = nn.Linear(self.hidden_size, hidden_size)\n",
        "        elif self.method == 'concat':\n",
        "            self.attn = nn.Linear(self.hidden_size * 2, hidden_size)\n",
        "            self.v = nn.Parameter(torch.FloatTensor(hidden_size))\n",
        "\n",
        "    def dot_score(self, hidden, encoder_output):\n",
        "        return torch.sum(hidden * encoder_output, dim=2)  # [seq_len, batch]\n",
        "\n",
        "    def general_score(self, hidden, encoder_output):\n",
        "        energy = self.attn(encoder_output)  # [seq_len, batch, hid_dim]\n",
        "        return torch.sum(hidden * energy, dim=2)  # [seq_len, batch]\n",
        "\n",
        "    def concat_score(self, hidden, encoder_output):\n",
        "        # hidden.expand(encoder_output.size(0), -1, -1) -> [seq_len, batch, N]\n",
        "        energy = self.attn(torch.cat((hidden.expand(encoder_output.size(0), -1, -1), encoder_output), 2)).tanh()\n",
        "        # energy = [sql_len, batch, hidden_size]\n",
        "        return torch.sum(self.v * energy, dim=2)  # [seq_len, batch]\n",
        "\n",
        "    def forward(self, hidden, encoder_outputs):\n",
        "        # hidden = [1, batch,  n_directions * hid_dim]\n",
        "        # encoder_outputs = [seq_len, batch, hid dim * n directions]\n",
        "        if self.method == 'general':\n",
        "            attn_energies = self.general_score(hidden, encoder_outputs)\n",
        "        elif self.method == 'concat':\n",
        "            attn_energies = self.concat_score(hidden, encoder_outputs)\n",
        "        elif self.method == 'dot':\n",
        "            attn_energies = self.dot_score(hidden, encoder_outputs)\n",
        "\n",
        "        attn_energies = attn_energies.t()  # [batch, seq_len]\n",
        " \n",
        "        return F.softmax(attn_energies, dim=1).unsqueeze(1)  # softmax归一化# [batch, 1, seq_len]"
      ],
      "execution_count": 59,
      "outputs": []
    },
    {
      "cell_type": "code",
      "metadata": {
        "id": "lLbqgxNg8XT4"
      },
      "source": [
        "class AttnDecoder(nn.Module):\n",
        "    def __init__(self, output_dim, emb_dim, hid_dim, n_layers=1, dropout=0.5, bidirectional=True, attn_method=\"general\"):\n",
        "        super(AttnDecoder, self).__init__()\n",
        "\n",
        "        self.output_dim = output_dim\n",
        "        self.emb_dim = emb_dim\n",
        "        self.hid_dim = hid_dim\n",
        "        self.n_layers = n_layers\n",
        "        self.dropout = dropout\n",
        "\n",
        "        self.embedding = nn.Embedding(output_dim, emb_dim)\n",
        "        self.embedding_dropout = nn.Dropout(dropout)\n",
        "        self.gru = nn.GRU(emb_dim, hid_dim, n_layers, dropout=dropout, bidirectional=bidirectional)\n",
        "        \n",
        "        if bidirectional:\n",
        "            self.concat = nn.Linear(hid_dim * 2 * 2, hid_dim*2)\n",
        "            self.out = nn.Linear(hid_dim*2, output_dim)\n",
        "            self.attn = Attn(attn_method, hid_dim*2)\n",
        "        else:\n",
        "            self.concat = nn.Linear(hid_dim * 2, hid_dim)\n",
        "            self.out = nn.Linear(hid_dim, output_dim)\n",
        "            self.attn = Attn(attn_method, hid_dim)\n",
        "        self.softmax = nn.LogSoftmax(dim=1)\n",
        "\n",
        "    def forward(self, token_inputs, last_hidden, encoder_outputs):\n",
        "        batch_size = token_inputs.size(0)\n",
        "        embedded = self.embedding(token_inputs)\n",
        "        embedded = self.embedding_dropout(embedded)\n",
        "        embedded = embedded.view(1, batch_size, -1) # [1, B, hid_dim]\n",
        "\n",
        "        gru_output, hidden = self.gru(embedded, last_hidden)\n",
        "        # gru_output = [1, batch,  n_directions * hid_dim]\n",
        "        # hidden = [n_layers * n_directions, batch, hid_dim]\n",
        "\n",
        "        # encoder_outputs = [sql_len, batch, hid dim * n directions]\n",
        "        attn_weights = self.attn(gru_output, encoder_outputs)\n",
        "        # attn_weights = [batch, 1, sql_len]\n",
        "        context = attn_weights.bmm(encoder_outputs.transpose(0, 1))\n",
        "        # [batch, 1, hid_dim * n directions]\n",
        "\n",
        "        # LuongAttention\n",
        "        gru_output = gru_output.squeeze(0) # [batch, n_directions * hid_dim]\n",
        "        context = context.squeeze(1)       # [batch, n_directions * hid_dim]\n",
        "        concat_input = torch.cat((gru_output, context), 1)  # [batch, n_directions * hid_dim * 2]\n",
        "        concat_output = torch.tanh(self.concat(concat_input))  # [batch, n_directions*hid_dim]\n",
        "\n",
        "        output = self.out(concat_output)  # [batch, output_dim]\n",
        "        output = self.softmax(output)\n",
        "\n",
        "        return output, hidden, attn_weights"
      ],
      "execution_count": 60,
      "outputs": []
    },
    {
      "cell_type": "code",
      "metadata": {
        "id": "y94lk1qX_Cxn"
      },
      "source": [
        "class Seq2Seq(nn.Module):\n",
        "    def __init__(self, \n",
        "                 encoder, \n",
        "                 decoder, \n",
        "                 device, \n",
        "                 predict=False, \n",
        "                 basic_dict=None,\n",
        "                 max_len=50\n",
        "                 ):\n",
        "        super(Seq2Seq, self).__init__()\n",
        "        \n",
        "        self.device = device\n",
        "\n",
        "        self.encoder = encoder\n",
        "        self.decoder = decoder\n",
        "\n",
        "        self.predict = predict  # 训练阶段还是预测阶段\n",
        "        self.basic_dict = basic_dict  # decoder的字典，存放特殊token对应的id\n",
        "        self.max_len = max_len  # 翻译时最大输出长度\n",
        "        self.attn_info = []\n",
        "\n",
        "        assert encoder.hid_dim == decoder.hid_dim, \\\n",
        "            \"Hidden dimensions of encoder and decoder must be equal!\"\n",
        "        assert encoder.n_layers == decoder.n_layers, \\\n",
        "            \"Encoder and decoder must have equal number of layers!\"\n",
        "        assert encoder.gru.bidirectional == decoder.gru.bidirectional, \\\n",
        "            \"Decoder and encoder must had same value of bidirectional attribute!\"\n",
        "        \n",
        "    def forward(self, input_batches, input_lengths, target_batches=None, target_lengths=None, teacher_forcing_ratio=0.5):\n",
        "        # input_batches = [seq_len, batch]\n",
        "        # target_batches = [seq_len, batch]\n",
        "        batch_size = input_batches.size(1)\n",
        "        \n",
        "        BOS_token = self.basic_dict[\"<bos>\"]\n",
        "        EOS_token = self.basic_dict[\"<eos>\"]\n",
        "        PAD_token = self.basic_dict[\"<pad>\"]\n",
        "\n",
        "        # 初始化\n",
        "        enc_n_layers = self.encoder.gru.num_layers\n",
        "        enc_n_directions = 2 if self.encoder.gru.bidirectional else 1\n",
        "        encoder_hidden = torch.zeros(enc_n_layers*enc_n_directions, batch_size, self.encoder.hid_dim, device=self.device)\n",
        "        \n",
        "        # encoder_outputs = [input_lengths, batch, hid_dim * n directions]\n",
        "        # encoder_hidden = [n_layers*n_directions, batch, hid_dim]\n",
        "        encoder_outputs, encoder_hidden = self.encoder(\n",
        "            input_batches, input_lengths, encoder_hidden)\n",
        "\n",
        "        # 初始化\n",
        "        decoder_input = torch.tensor([BOS_token] * batch_size, dtype=torch.long, device=self.device)\n",
        "        decoder_hidden = encoder_hidden\n",
        "\n",
        "        if self.predict:\n",
        "            # 一次只输入一句话\n",
        "            assert batch_size == 1, \"batch_size of predict phase must be 1!\"\n",
        "            output_tokens = []\n",
        "            self.attn_info = []\n",
        "\n",
        "            while True:\n",
        "                decoder_output, decoder_hidden, decoder_attn = self.decoder(\n",
        "                    decoder_input, decoder_hidden, encoder_outputs\n",
        "                )\n",
        "                self.attn_info.append(decoder_attn[0][0].tolist())\n",
        "                # [1, 1]\n",
        "                topv, topi = decoder_output.topk(1)\n",
        "                decoder_input = topi.squeeze(1).detach()\n",
        "                output_token = topi.squeeze().detach().item()\n",
        "                if output_token == EOS_token or len(output_tokens) == self.max_len:\n",
        "                    break\n",
        "                output_tokens.append(output_token)\n",
        "                # 可视化需要return output_tokens, decoder_attn\n",
        "            return output_tokens\n",
        "\n",
        "        else:\n",
        "            max_target_length = max(target_lengths)\n",
        "            all_decoder_outputs = torch.zeros((max_target_length, batch_size, self.decoder.output_dim), device=self.device)\n",
        "            self.attn_info = []\n",
        "\n",
        "            for t in range(max_target_length):\n",
        "                use_teacher_forcing = True if random.random() < teacher_forcing_ratio else False\n",
        "                if use_teacher_forcing:\n",
        "                    # decoder_output = [batch, output_dim]\n",
        "                    # decoder_hidden = [n_layers*n_directions, batch, hid_dim]\n",
        "                    decoder_output, decoder_hidden, decoder_attn = self.decoder(\n",
        "                        decoder_input, decoder_hidden, encoder_outputs\n",
        "                    )\n",
        "                    all_decoder_outputs[t] = decoder_output\n",
        "                    decoder_input = target_batches[t]  # 下一个输入来自训练数据\n",
        "                else:\n",
        "                    decoder_output, decoder_hidden, decoder_attn = self.decoder(\n",
        "                        decoder_input, decoder_hidden, encoder_outputs\n",
        "                    )\n",
        "                    # [batch, 1]\n",
        "                    topv, topi = decoder_output.topk(1)\n",
        "                    all_decoder_outputs[t] = decoder_output\n",
        "                    decoder_input = topi.squeeze(1).detach()  # 下一个输入来自模型预测\n",
        "            \n",
        "            loss_fn = nn.NLLLoss(ignore_index=PAD_token)\n",
        "            loss = loss_fn(\n",
        "                all_decoder_outputs.reshape(-1, self.decoder.output_dim),  # [batch*seq_len, output_dim]\n",
        "                target_batches.reshape(-1)               # [batch*seq_len]\n",
        "            )\n",
        "            return loss"
      ],
      "execution_count": 61,
      "outputs": []
    },
    {
      "cell_type": "markdown",
      "metadata": {
        "id": "DGIK_4IO7n4G"
      },
      "source": [
        "# 训练和预测代码"
      ]
    },
    {
      "cell_type": "code",
      "metadata": {
        "id": "TvUaEp0Y7n4H"
      },
      "source": [
        "def epoch_time(start_time, end_time):\n",
        "    elapsed_time = end_time - start_time\n",
        "    elapsed_mins = int(elapsed_time / 60)\n",
        "    elapsed_secs = int(elapsed_time - (elapsed_mins * 60))\n",
        "    return elapsed_mins, elapsed_secs"
      ],
      "execution_count": 62,
      "outputs": []
    },
    {
      "cell_type": "code",
      "metadata": {
        "id": "FcB6O0cJ7n4P"
      },
      "source": [
        "def train(\n",
        "    model,\n",
        "    data_loader, \n",
        "    optimizer, \n",
        "    clip=1, \n",
        "    teacher_forcing_ratio=0.5, \n",
        "    print_every=None  # None不打印\n",
        "    ):\n",
        "    model.predict = False\n",
        "    model.train()\n",
        "\n",
        "    if print_every == 0:\n",
        "        print_every = 1\n",
        "\n",
        "    print_loss_total = 0  # 每次打印都重置\n",
        "    start = time.time()\n",
        "    epoch_loss = 0\n",
        "    for i, batch in enumerate(data_loader):\n",
        "\n",
        "        # shape = [seq_len, batch]\n",
        "        input_batchs = batch[\"src\"]\n",
        "        target_batchs = batch[\"trg\"]\n",
        "        # list\n",
        "        input_lens = batch[\"src_len\"]\n",
        "        target_lens = batch[\"trg_len\"]\n",
        "        \n",
        "        optimizer.zero_grad()\n",
        "        \n",
        "        loss = model(input_batchs, input_lens, target_batchs, target_lens, teacher_forcing_ratio)\n",
        "        print_loss_total += loss.item()\n",
        "        epoch_loss += loss.item()\n",
        "        loss.backward()\n",
        "\n",
        "        # 梯度裁剪\n",
        "        torch.nn.utils.clip_grad_norm_(model.parameters(), clip)\n",
        "\n",
        "        optimizer.step()\n",
        "\n",
        "        if print_every and (i+1) % print_every == 0:\n",
        "            print_loss_avg = print_loss_total / print_every\n",
        "            print_loss_total = 0\n",
        "            print('\\tCurrent Loss: %.4f' % print_loss_avg)\n",
        "\n",
        "    return epoch_loss / len(data_loader)"
      ],
      "execution_count": 63,
      "outputs": []
    },
    {
      "cell_type": "code",
      "metadata": {
        "id": "DgYv7rsp7n4V"
      },
      "source": [
        "def evaluate(\n",
        "    model,\n",
        "    data_loader, \n",
        "    print_every=None\n",
        "    ):\n",
        "    model.predict = False\n",
        "    model.eval()\n",
        "    if print_every == 0:\n",
        "        print_every = 1\n",
        "\n",
        "    print_loss_total = 0  # 每次打印都重置\n",
        "    start = time.time()\n",
        "    epoch_loss = 0\n",
        "    with torch.no_grad():\n",
        "        for i, batch in enumerate(data_loader):\n",
        "\n",
        "            # shape = [seq_len, batch]\n",
        "            input_batchs = batch[\"src\"]\n",
        "            target_batchs = batch[\"trg\"]\n",
        "            # list\n",
        "            input_lens = batch[\"src_len\"]\n",
        "            target_lens = batch[\"trg_len\"]\n",
        "\n",
        "            loss = model(input_batchs, input_lens, target_batchs, target_lens, teacher_forcing_ratio=0)\n",
        "            print_loss_total += loss.item()\n",
        "            epoch_loss += loss.item()\n",
        "\n",
        "            if print_every and (i+1) % print_every == 0:\n",
        "                print_loss_avg = print_loss_total / print_every\n",
        "                print_loss_total = 0\n",
        "                print('\\tCurrent Loss: %.4f' % print_loss_avg)\n",
        "\n",
        "    return epoch_loss / len(data_loader)"
      ],
      "execution_count": 64,
      "outputs": []
    },
    {
      "cell_type": "code",
      "metadata": {
        "id": "ldcZM35r7n4h"
      },
      "source": [
        "def translate(\n",
        "    model,\n",
        "    sample, \n",
        "    idx2token=None\n",
        "    ):\n",
        "    model.predict = True\n",
        "    model.eval()\n",
        "\n",
        "    # shape = [seq_len, 1]\n",
        "    input_batch = sample[\"src\"]\n",
        "    # list\n",
        "    input_len = sample[\"src_len\"]\n",
        "\n",
        "    output_tokens = model(input_batch, input_len)\n",
        "    output_tokens = [idx2token[t] for t in output_tokens]\n",
        "\n",
        "    return output_tokens, model.attn_info"
      ],
      "execution_count": 65,
      "outputs": []
    },
    {
      "cell_type": "code",
      "metadata": {
        "id": "jSpzIxecnqNZ"
      },
      "source": [
        "from nltk.translate.bleu_score import corpus_bleu\n",
        "\n",
        "def cal_bleu(\n",
        "    model,\n",
        "    data_loader,\n",
        "):\n",
        "  model.predict = False\n",
        "  model.eval()\n",
        "  candidate_corpus = []\n",
        "  references_corpus = []\n",
        "  with torch.no_grad():\n",
        "    for i, batch in enumerate(data_loader):\n",
        "      # shape = [seq_len, batch]\n",
        "      input_batches = batch[\"src\"]\n",
        "      target_batches = batch[\"trg\"]\n",
        "      # list\n",
        "      input_lens = batch[\"src_len\"]\n",
        "      target_lens = batch[\"trg_len\"]\n",
        "      \n",
        "      input_batches = input_batches.t()\n",
        "      for j in range(input_batches.shape[0]):\n",
        "        sample = {}\n",
        "        en_tokens = [t for t in input_batches[j] if t != 1] \n",
        "        sample[\"src\"] = torch.tensor(en_tokens, dtype=torch.long, device=device).reshape(-1, 1)\n",
        "        sample[\"src_len\"] = [len(en_tokens)]\n",
        "        output_tokens, attn_info = translate(model, sample, ch_TEXT.vocab.itos)\n",
        "        candidate_corpus.append(output_tokens)\n",
        "\n",
        "      # 转置\n",
        "      target_batches = target_batches.t()\n",
        "      for j in range(target_batches.shape[0]):\n",
        "        ch_src = [ch_TEXT.vocab.itos[t] for t in target_batches[j] if t !=1 and t !=3]\n",
        "        references_corpus.append([ch_src])\n",
        "  return corpus_bleu(references_corpus, candidate_corpus)\n",
        "      "
      ],
      "execution_count": 66,
      "outputs": []
    },
    {
      "cell_type": "markdown",
      "metadata": {
        "id": "kLS0uKiu9WtW"
      },
      "source": [
        "# 开始训练"
      ]
    },
    {
      "cell_type": "code",
      "metadata": {
        "id": "3ALxD62K8a-s"
      },
      "source": [
        "INPUT_DIM = len(en_TEXT.vocab)\n",
        "OUTPUT_DIM = len(ch_TEXT.vocab)\n",
        "# 超参数\n",
        "BATCH_SIZE = 32\n",
        "ENC_EMB_DIM = 256\n",
        "DEC_EMB_DIM = 256\n",
        "HID_DIM = 512\n",
        "N_LAYERS = 3\n",
        "ENC_DROPOUT = 0.5\n",
        "DEC_DROPOUT = 0.5\n",
        "LEARNING_RATE = 1e-4\n",
        "N_EPOCHS = 70\n",
        "CLIP = 1\n",
        "\n",
        "bidirectional = True\n",
        "attn_method = \"general\"\n",
        "enc = Encoder(INPUT_DIM, ENC_EMB_DIM, HID_DIM, N_LAYERS, ENC_DROPOUT, bidirectional)\n",
        "dec = AttnDecoder(OUTPUT_DIM, DEC_EMB_DIM, HID_DIM, N_LAYERS, DEC_DROPOUT, bidirectional, attn_method)\n",
        "model = Seq2Seq(enc, dec, device, basic_dict=ch_TEXT.vocab.stoi).to(device)\n",
        "\n",
        "optimizer = optim.Adam(model.parameters(), lr=LEARNING_RATE)"
      ],
      "execution_count": 67,
      "outputs": []
    },
    {
      "cell_type": "code",
      "metadata": {
        "id": "A1HXlUlz9_oV"
      },
      "source": [
        "# 数据集\n",
        "train_set = TranslationDataset(en_num_data[:21622], ch_num_data[:21622])\n",
        "test_set = TranslationDataset(en_num_data[21622:], ch_num_data[21622:])\n",
        "\n",
        "train_loader = DataLoader(train_set, batch_size = BATCH_SIZE, collate_fn=padding_batch)\n",
        "test_loader = DataLoader(test_set, batch_size = BATCH_SIZE, collate_fn=padding_batch)"
      ],
      "execution_count": 68,
      "outputs": []
    },
    {
      "cell_type": "code",
      "metadata": {
        "id": "GbnYsq9p-GbI",
        "colab": {
          "base_uri": "https://localhost:8080/",
          "height": 380
        },
        "outputId": "78c00144-2a2a-4fdb-bfda-b2c9c80c55b8"
      },
      "source": [
        "best_valid_loss = float('inf')\n",
        "loss_x = []\n",
        "bleu_x = []\n",
        "train_loss_y = []\n",
        "valid_loss_y = []\n",
        "test_loss_y = []\n",
        "train_bleu_y = []\n",
        "test_bleu_y = []\n",
        "\n",
        "for epoch in range(N_EPOCHS):\n",
        "    \n",
        "    start_time = time.time()\n",
        "    train_loss = train(model, train_loader, optimizer, CLIP)\n",
        "    valid_loss = evaluate(model, train_loader)\n",
        "    test_loss = evaluate(model, test_loader)\n",
        "\n",
        "    end_time = time.time()\n",
        "    \n",
        "    if valid_loss < best_valid_loss:\n",
        "        best_valid_loss = valid_loss\n",
        "        torch.save(model.state_dict(), \"en2ch-attn-model.pt\")\n",
        "\n",
        "    if epoch % 2 == 0:\n",
        "        epoch_mins, epoch_secs = epoch_time(start_time, end_time)\n",
        "        print(f'Epoch: {epoch+1:02} | Time: {epoch_mins}m {epoch_secs}s')\n",
        "        print(f'\\tTrain Loss: {train_loss:.3f} | Val. Loss: {valid_loss:.3f} | Test Loss: {test_loss:.3f}')\n",
        "        # 可视化\n",
        "        loss_x.append(epoch + 1)\n",
        "        train_loss_y.append(train_loss) \n",
        "        valid_loss_y.append(valid_loss)\n",
        "        test_loss_y.append(test_loss)\n",
        "        if epoch % 4 == 0:\n",
        "          train_bleu = cal_bleu(model, train_loader)\n",
        "          test_bleu = cal_bleu(model, test_loader)\n",
        "          print(f'\\tTrain Bleu:{train_bleu:.3f} | Test Bleu: {test_bleu:.3f}')\n",
        "          # 可视化\n",
        "          bleu_x.append(epoch + 1)\n",
        "          train_bleu_y.append(train_bleu)\n",
        "          test_bleu_y.append(test_bleu)"
      ],
      "execution_count": 69,
      "outputs": [
        {
          "output_type": "error",
          "ename": "KeyboardInterrupt",
          "evalue": "ignored",
          "traceback": [
            "\u001b[0;31m---------------------------------------------------------------------------\u001b[0m",
            "\u001b[0;31mKeyboardInterrupt\u001b[0m                         Traceback (most recent call last)",
            "\u001b[0;32m<ipython-input-69-b281d6a23289>\u001b[0m in \u001b[0;36m<module>\u001b[0;34m()\u001b[0m\n\u001b[1;32m     11\u001b[0m \u001b[0;34m\u001b[0m\u001b[0m\n\u001b[1;32m     12\u001b[0m     \u001b[0mstart_time\u001b[0m \u001b[0;34m=\u001b[0m \u001b[0mtime\u001b[0m\u001b[0;34m.\u001b[0m\u001b[0mtime\u001b[0m\u001b[0;34m(\u001b[0m\u001b[0;34m)\u001b[0m\u001b[0;34m\u001b[0m\u001b[0;34m\u001b[0m\u001b[0m\n\u001b[0;32m---> 13\u001b[0;31m     \u001b[0mtrain_loss\u001b[0m \u001b[0;34m=\u001b[0m \u001b[0mtrain\u001b[0m\u001b[0;34m(\u001b[0m\u001b[0mmodel\u001b[0m\u001b[0;34m,\u001b[0m \u001b[0mtrain_loader\u001b[0m\u001b[0;34m,\u001b[0m \u001b[0moptimizer\u001b[0m\u001b[0;34m,\u001b[0m \u001b[0mCLIP\u001b[0m\u001b[0;34m)\u001b[0m\u001b[0;34m\u001b[0m\u001b[0;34m\u001b[0m\u001b[0m\n\u001b[0m\u001b[1;32m     14\u001b[0m     \u001b[0mvalid_loss\u001b[0m \u001b[0;34m=\u001b[0m \u001b[0mevaluate\u001b[0m\u001b[0;34m(\u001b[0m\u001b[0mmodel\u001b[0m\u001b[0;34m,\u001b[0m \u001b[0mtrain_loader\u001b[0m\u001b[0;34m)\u001b[0m\u001b[0;34m\u001b[0m\u001b[0;34m\u001b[0m\u001b[0m\n\u001b[1;32m     15\u001b[0m     \u001b[0mtest_loss\u001b[0m \u001b[0;34m=\u001b[0m \u001b[0mevaluate\u001b[0m\u001b[0;34m(\u001b[0m\u001b[0mmodel\u001b[0m\u001b[0;34m,\u001b[0m \u001b[0mtest_loader\u001b[0m\u001b[0;34m)\u001b[0m\u001b[0;34m\u001b[0m\u001b[0;34m\u001b[0m\u001b[0m\n",
            "\u001b[0;32m<ipython-input-63-f5b13f811c6b>\u001b[0m in \u001b[0;36mtrain\u001b[0;34m(model, data_loader, optimizer, clip, teacher_forcing_ratio, print_every)\u001b[0m\n\u001b[1;32m     30\u001b[0m         \u001b[0mprint_loss_total\u001b[0m \u001b[0;34m+=\u001b[0m \u001b[0mloss\u001b[0m\u001b[0;34m.\u001b[0m\u001b[0mitem\u001b[0m\u001b[0;34m(\u001b[0m\u001b[0;34m)\u001b[0m\u001b[0;34m\u001b[0m\u001b[0;34m\u001b[0m\u001b[0m\n\u001b[1;32m     31\u001b[0m         \u001b[0mepoch_loss\u001b[0m \u001b[0;34m+=\u001b[0m \u001b[0mloss\u001b[0m\u001b[0;34m.\u001b[0m\u001b[0mitem\u001b[0m\u001b[0;34m(\u001b[0m\u001b[0;34m)\u001b[0m\u001b[0;34m\u001b[0m\u001b[0;34m\u001b[0m\u001b[0m\n\u001b[0;32m---> 32\u001b[0;31m         \u001b[0mloss\u001b[0m\u001b[0;34m.\u001b[0m\u001b[0mbackward\u001b[0m\u001b[0;34m(\u001b[0m\u001b[0;34m)\u001b[0m\u001b[0;34m\u001b[0m\u001b[0;34m\u001b[0m\u001b[0m\n\u001b[0m\u001b[1;32m     33\u001b[0m \u001b[0;34m\u001b[0m\u001b[0m\n\u001b[1;32m     34\u001b[0m         \u001b[0;31m# 梯度裁剪\u001b[0m\u001b[0;34m\u001b[0m\u001b[0;34m\u001b[0m\u001b[0;34m\u001b[0m\u001b[0m\n",
            "\u001b[0;32m/usr/local/lib/python3.7/dist-packages/torch/tensor.py\u001b[0m in \u001b[0;36mbackward\u001b[0;34m(self, gradient, retain_graph, create_graph, inputs)\u001b[0m\n\u001b[1;32m    243\u001b[0m                 \u001b[0mcreate_graph\u001b[0m\u001b[0;34m=\u001b[0m\u001b[0mcreate_graph\u001b[0m\u001b[0;34m,\u001b[0m\u001b[0;34m\u001b[0m\u001b[0;34m\u001b[0m\u001b[0m\n\u001b[1;32m    244\u001b[0m                 inputs=inputs)\n\u001b[0;32m--> 245\u001b[0;31m         \u001b[0mtorch\u001b[0m\u001b[0;34m.\u001b[0m\u001b[0mautograd\u001b[0m\u001b[0;34m.\u001b[0m\u001b[0mbackward\u001b[0m\u001b[0;34m(\u001b[0m\u001b[0mself\u001b[0m\u001b[0;34m,\u001b[0m \u001b[0mgradient\u001b[0m\u001b[0;34m,\u001b[0m \u001b[0mretain_graph\u001b[0m\u001b[0;34m,\u001b[0m \u001b[0mcreate_graph\u001b[0m\u001b[0;34m,\u001b[0m \u001b[0minputs\u001b[0m\u001b[0;34m=\u001b[0m\u001b[0minputs\u001b[0m\u001b[0;34m)\u001b[0m\u001b[0;34m\u001b[0m\u001b[0;34m\u001b[0m\u001b[0m\n\u001b[0m\u001b[1;32m    246\u001b[0m \u001b[0;34m\u001b[0m\u001b[0m\n\u001b[1;32m    247\u001b[0m     \u001b[0;32mdef\u001b[0m \u001b[0mregister_hook\u001b[0m\u001b[0;34m(\u001b[0m\u001b[0mself\u001b[0m\u001b[0;34m,\u001b[0m \u001b[0mhook\u001b[0m\u001b[0;34m)\u001b[0m\u001b[0;34m:\u001b[0m\u001b[0;34m\u001b[0m\u001b[0;34m\u001b[0m\u001b[0m\n",
            "\u001b[0;32m/usr/local/lib/python3.7/dist-packages/torch/autograd/__init__.py\u001b[0m in \u001b[0;36mbackward\u001b[0;34m(tensors, grad_tensors, retain_graph, create_graph, grad_variables, inputs)\u001b[0m\n\u001b[1;32m    145\u001b[0m     Variable._execution_engine.run_backward(\n\u001b[1;32m    146\u001b[0m         \u001b[0mtensors\u001b[0m\u001b[0;34m,\u001b[0m \u001b[0mgrad_tensors_\u001b[0m\u001b[0;34m,\u001b[0m \u001b[0mretain_graph\u001b[0m\u001b[0;34m,\u001b[0m \u001b[0mcreate_graph\u001b[0m\u001b[0;34m,\u001b[0m \u001b[0minputs\u001b[0m\u001b[0;34m,\u001b[0m\u001b[0;34m\u001b[0m\u001b[0;34m\u001b[0m\u001b[0m\n\u001b[0;32m--> 147\u001b[0;31m         allow_unreachable=True, accumulate_grad=True)  # allow_unreachable flag\n\u001b[0m\u001b[1;32m    148\u001b[0m \u001b[0;34m\u001b[0m\u001b[0m\n\u001b[1;32m    149\u001b[0m \u001b[0;34m\u001b[0m\u001b[0m\n",
            "\u001b[0;31mKeyboardInterrupt\u001b[0m: "
          ]
        }
      ]
    },
    {
      "cell_type": "code",
      "metadata": {
        "id": "hGfQRo3Y6Lnm"
      },
      "source": [
        "# 可视化\n",
        "import matplotlib.pyplot as plt\n",
        "plt.title(\"test\")\n",
        "plt.xlabel(\"epoch\")\n",
        "plt.ylabel(\"loss\")\n",
        "plt.plot(loss_x, train_loss_y) \n",
        "plt.show()"
      ],
      "execution_count": null,
      "outputs": []
    },
    {
      "cell_type": "code",
      "metadata": {
        "id": "2aw5nHpOdm5J",
        "colab": {
          "base_uri": "https://localhost:8080/"
        },
        "outputId": "f7179895-0fb9-45a1-acc5-0e82bcc0b11d"
      },
      "source": [
        "print(\"best valid loss：\", best_valid_loss)\n",
        "# 加载最优权重\n",
        "model.load_state_dict(torch.load(\"en2ch-attn-model.pt\"))"
      ],
      "execution_count": 70,
      "outputs": [
        {
          "output_type": "stream",
          "text": [
            "best valid loss： inf\n"
          ],
          "name": "stdout"
        },
        {
          "output_type": "execute_result",
          "data": {
            "text/plain": [
              "<All keys matched successfully>"
            ]
          },
          "metadata": {
            "tags": []
          },
          "execution_count": 70
        }
      ]
    },
    {
      "cell_type": "code",
      "metadata": {
        "colab": {
          "base_uri": "https://localhost:8080/"
        },
        "id": "14phLx9_dit4",
        "outputId": "2ca9a2b5-dd40-49fb-bcf6-b39d9ba70b3e"
      },
      "source": [
        "!wget https://github.com/stfromnjust/nlp-task/raw/main/simheittf.zip\n",
        "!unzip -d ./simheittf simheittf.zip"
      ],
      "execution_count": 89,
      "outputs": [
        {
          "output_type": "stream",
          "text": [
            "--2021-06-06 08:38:04--  https://github.com/stfromnjust/nlp-task/raw/main/simheittf.zip\n",
            "Resolving github.com (github.com)... 192.30.255.112\n",
            "Connecting to github.com (github.com)|192.30.255.112|:443... connected.\n",
            "HTTP request sent, awaiting response... 302 Found\n",
            "Location: https://raw.githubusercontent.com/stfromnjust/nlp-task/main/simheittf.zip [following]\n",
            "--2021-06-06 08:38:04--  https://raw.githubusercontent.com/stfromnjust/nlp-task/main/simheittf.zip\n",
            "Resolving raw.githubusercontent.com (raw.githubusercontent.com)... 185.199.108.133, 185.199.109.133, 185.199.110.133, ...\n",
            "Connecting to raw.githubusercontent.com (raw.githubusercontent.com)|185.199.108.133|:443... connected.\n",
            "HTTP request sent, awaiting response... 200 OK\n",
            "Length: 5129593 (4.9M) [application/zip]\n",
            "Saving to: ‘simheittf.zip’\n",
            "\n",
            "simheittf.zip       100%[===================>]   4.89M  --.-KB/s    in 0.1s    \n",
            "\n",
            "2021-06-06 08:38:05 (37.8 MB/s) - ‘simheittf.zip’ saved [5129593/5129593]\n",
            "\n",
            "Archive:  simheittf.zip\n",
            "   creating: ./simheittf/simheittf/\n",
            "  inflating: ./simheittf/simheittf/simhei.ttf  \n"
          ],
          "name": "stdout"
        }
      ]
    },
    {
      "cell_type": "code",
      "metadata": {
        "id": "RhyuqeKla8lD"
      },
      "source": [
        "import matplotlib.pyplot as plt\n",
        "import numpy as np\n",
        "from matplotlib.font_manager import FontProperties\n",
        "font = FontProperties(fname=r\"./simheittf/simheittf/simhei.ttf\", size=11)\n",
        "\n",
        "def att_show(src,output,att):\n",
        "    x1 = src\n",
        "    x2 = output    \n",
        "    fig, ax = plt.subplots()\n",
        "    fig.set_figheight(len(output))\n",
        "    fig.set_figwidth(len(src))\n",
        "    im = ax.imshow(att)\n",
        "    ax.set_xticks(np.arange(len(x1)))\n",
        "    ax.set_yticks(np.arange(len(x2)))\n",
        "    ax.set_xticklabels(x1, fontproperties=font)\n",
        "    ax.set_yticklabels(x2, fontproperties=font)\n",
        "    plt.colorbar(im)\n",
        "    plt.show()"
      ],
      "execution_count": 100,
      "outputs": []
    },
    {
      "cell_type": "code",
      "metadata": {
        "id": "8hGVhGBydm5R",
        "colab": {
          "base_uri": "https://localhost:8080/",
          "height": 1000
        },
        "outputId": "5a71261a-5850-4928-a36b-80c81ee24029"
      },
      "source": [
        "random.seed(2020)\n",
        "for i in random.sample(range(len(en_num_data)), 10):  # 随机看10个\n",
        "    en_tokens = list(filter(lambda x: x!=1, en_num_data[i]))  # 过滤零\n",
        "    ch_tokens = list(filter(lambda x: x!=3 and x!=1, ch_num_data[i]))  # 和机器翻译作对照\n",
        "    sentence = [en_TEXT.vocab.itos[t] for t in en_tokens]\n",
        "    print(sentence)\n",
        "    print(\"【原文】\")\n",
        "    print(\"\".join(sentence))\n",
        "    translation = [ch_TEXT.vocab.itos[t] for t in ch_tokens]\n",
        "    print(\"【原文】\")\n",
        "    print(\" \".join(translation))\n",
        "    test_sample = {}\n",
        "    test_sample[\"src\"] = torch.tensor(en_tokens, dtype=torch.long, device=device).reshape(-1, 1)\n",
        "    test_sample[\"src_len\"] = [len(en_tokens)]\n",
        "    print(\"【机器翻译】\")\n",
        "    # print(translate(model, test_sample, ch_TEXT.vocab.itos), end=\"\\n\\n\")\n",
        "    output_tokens, attn_info = translate(model, test_sample, ch_TEXT.vocab.itos)\n",
        "    print(output_tokens, end=\"\\n\\n\")\n",
        "    print(attn_info)\n",
        "    att_show(sentence, output_tokens+['<eos>'], attn_info)"
      ],
      "execution_count": 106,
      "outputs": [
        {
          "output_type": "stream",
          "text": [
            "['it', 'took', 'me', 'half', 'an', 'hour', 'to', 'work', 'out', 'this', 'problem', '.', '<eos>']\n",
            "【原文】\n",
            "ittookmehalfanhourtoworkoutthisproblem.<eos>\n",
            "【原文】\n",
            "我花 了 一个半 小时 的 时间 解决 这个 问题 。\n",
            "【机器翻译】\n",
            "['我花', '了', '一个半', '小时', '的', '时间', '解决', '这个', '问题', '。']\n",
            "\n",
            "[[2.2901827202837383e-24, 1.0, 2.4518083743818586e-11, 0.0, 0.0, 0.0, 0.0, 0.0, 0.0, 0.0, 0.0, 0.0, 0.0], [0.0, 0.0, 4.517906688761286e-07, 0.9999995231628418, 1.6132255332437933e-17, 0.0, 0.0, 0.0, 0.0, 0.0, 0.0, 0.0, 0.0], [0.0, 0.0, 0.0, 4.15008145545218e-19, 1.0, 1.6512375911048593e-09, 1.3629836426633284e-32, 0.0, 0.0, 0.0, 0.0, 0.0, 0.0], [0.0, 0.0, 0.0, 0.0, 1.2734640915322866e-22, 0.0014047410804778337, 0.9985051155090332, 9.019759454531595e-05, 2.11463591320675e-13, 1.2017152851620121e-29, 0.0, 0.0, 0.0], [0.0, 0.0, 0.0, 0.0, 0.0, 2.9979379345765136e-41, 1.9281898026159025e-19, 5.887556653760839e-06, 0.999994158744812, 8.791281480569069e-09, 1.6765908417833295e-32, 0.0, 0.0], [0.0, 0.0, 0.0, 0.0, 0.0, 0.0, 0.0, 4.522711146878946e-24, 9.308692483500636e-07, 0.9999990463256836, 2.65043094291873e-16, 0.0, 0.0], [0.0, 0.0, 0.0, 0.0, 0.0, 0.0, 0.0, 3.599663453277304e-33, 5.264803037974275e-10, 1.0, 2.213530470029923e-10, 0.0, 0.0], [0.0, 0.0, 0.0, 0.0, 0.0, 0.0, 0.0, 0.0, 4.162500727900173e-31, 4.2363401007605717e-05, 0.9999576807022095, 2.9336148359163615e-32, 0.0], [0.0, 0.0, 0.0, 0.0, 0.0, 0.0, 0.0, 0.0, 0.0, 2.6340734463054938e-17, 1.0, 1.6353649324688472e-32, 0.0], [0.0, 0.0, 0.0, 0.0, 0.0, 0.0, 0.0, 0.0, 0.0, 3.389812289149664e-17, 1.0, 4.2041687112526405e-31, 0.0], [0.0, 0.0, 0.0, 0.0, 0.0, 0.0, 0.0, 0.0, 5.184804318001823e-44, 2.83844065229234e-15, 1.0, 5.9156604622645675e-30, 0.0]]\n"
          ],
          "name": "stdout"
        },
        {
          "output_type": "display_data",
          "data": {
            "image/png": "[encoded data removed]",
            "text/plain": [
              "<Figure size 936x792 with 2 Axes>"
            ]
          },
          "metadata": {
            "tags": [],
            "needs_background": "light"
          }
        },
        {
          "output_type": "stream",
          "text": [
            "['in', 'this', 'case', ',', 'the', 'adjective', 'goes', 'before', 'the', 'noun', '.', '<eos>']\n",
            "【原文】\n",
            "inthiscase,theadjectivegoesbeforethenoun.<eos>\n",
            "【原文】\n",
            "在 这种 情况 下 ， 形容词 放在 名词 前面 。\n",
            "【机器翻译】\n",
            "['在', '这种', '情况', '下', '，', '形容词', '形容词', '形容词', '名词', '前面', '。']\n",
            "\n",
            "[[1.0, 3.9606557616922444e-11, 9.059380059843796e-29, 0.0, 0.0, 0.0, 0.0, 0.0, 0.0, 0.0, 0.0, 0.0], [0.0, 7.461292549585448e-35, 1.0, 3.775900494420015e-17, 2.9076943134739954e-42, 0.0, 0.0, 0.0, 0.0, 0.0, 0.0, 0.0], [0.0, 0.0, 1.5880976004731262e-13, 1.0, 9.134597522830745e-10, 2.2179605322584916e-24, 2.3723983001019153e-42, 0.0, 0.0, 0.0, 0.0, 0.0], [0.0, 0.0, 0.0, 7.053630993925909e-34, 5.6201437704658665e-21, 3.0119029492681193e-10, 1.0, 5.88702407323943e-23, 0.0, 0.0, 0.0, 0.0], [0.0, 0.0, 0.0, 0.0, 0.0, 2.2670854413659326e-32, 0.9999078512191772, 9.216766193276271e-05, 1.901196766855426e-27, 0.0, 0.0, 0.0], [0.0, 0.0, 0.0, 0.0, 0.0, 0.0, 1.6494134058575582e-07, 0.9999998807907104, 5.200921882869772e-19, 7.538985738067516e-43, 0.0, 0.0], [0.0, 0.0, 0.0, 0.0, 0.0, 0.0, 9.91987984139149e-30, 0.9997944235801697, 0.0002055859222309664, 2.1376870878395963e-22, 0.0, 0.0], [0.0, 0.0, 0.0, 0.0, 0.0, 0.0, 0.0, 8.443701701444309e-18, 0.9999995231628418, 4.1915350834642595e-07, 0.0, 0.0], [0.0, 0.0, 0.0, 0.0, 0.0, 0.0, 0.0, 1.119523239144717e-37, 7.344348705373704e-05, 0.9999265670776367, 0.0, 0.0], [0.0, 0.0, 0.0, 0.0, 0.0, 0.0, 0.0, 0.0, 6.070401800450714e-15, 1.0, 0.0, 0.0], [0.0, 0.0, 0.0, 0.0, 0.0, 0.0, 0.0, 0.0, 9.868477157465727e-21, 1.0, 0.0, 0.0], [0.0, 0.0, 0.0, 0.0, 0.0, 0.0, 0.0, 0.0, 2.5794438147319893e-24, 1.0, 0.0, 0.0]]\n"
          ],
          "name": "stdout"
        },
        {
          "output_type": "display_data",
          "data": {
            "image/png": "[encoded data removed]",
            "text/plain": [
              "<Figure size 864x864 with 2 Axes>"
            ]
          },
          "metadata": {
            "tags": [],
            "needs_background": "light"
          }
        },
        {
          "output_type": "stream",
          "text": [
            "['they', 'did', \"n't\", 'act', 'quickly', '.', '<eos>']\n",
            "【原文】\n",
            "theydidn'tactquickly.<eos>\n",
            "【原文】\n",
            "他们 没有 立刻 行动 。\n",
            "【机器翻译】\n",
            "['他们', '没有', '读书', '退休', '。']\n",
            "\n",
            "[[1.0, 0.0, 0.0, 0.0, 0.0, 0.0, 0.0], [0.0, 0.0, 1.0, 0.0, 0.0, 0.0, 0.0], [0.0, 0.0, 0.0, 1.0, 4.373079201246858e-38, 0.0, 0.0], [0.0, 0.0, 0.0, 0.0, 1.0, 0.0, 0.0], [0.0, 0.0, 0.0, 0.0, 1.0, 0.0, 0.0], [0.0, 0.0, 0.0, 0.0, 1.0, 0.0, 0.0]]\n"
          ],
          "name": "stdout"
        },
        {
          "output_type": "display_data",
          "data": {
            "image/png": "[encoded data removed]",
            "text/plain": [
              "<Figure size 504x432 with 2 Axes>"
            ]
          },
          "metadata": {
            "tags": [],
            "needs_background": "light"
          }
        },
        {
          "output_type": "stream",
          "text": [
            "['she', 'tried', 'to', 'commit', 'suicide', '.', '<eos>']\n",
            "【原文】\n",
            "shetriedtocommitsuicide.<eos>\n",
            "【原文】\n",
            "她 企图 自杀 。\n",
            "【机器翻译】\n",
            "['她', '试图', '赶上', '为的是', '。']\n",
            "\n",
            "[[1.0, 0.0, 0.0, 0.0, 0.0, 0.0, 0.0], [0.0, 1.0, 2.492475565509909e-40, 0.0, 0.0, 0.0, 0.0], [0.0, 0.0, 8.445475209669363e-26, 1.0, 0.0, 0.0, 0.0], [0.0, 0.0, 0.0, 0.9999998807907104, 9.909999931778657e-08, 0.0, 0.0], [0.0, 0.0, 0.0, 0.0, 1.0, 0.0, 0.0], [0.0, 0.0, 0.0, 0.0, 1.0, 0.0, 0.0]]\n"
          ],
          "name": "stdout"
        },
        {
          "output_type": "display_data",
          "data": {
            "image/png": "[encoded data removed]",
            "text/plain": [
              "<Figure size 504x432 with 2 Axes>"
            ]
          },
          "metadata": {
            "tags": [],
            "needs_background": "light"
          }
        },
        {
          "output_type": "stream",
          "text": [
            "['this', 'sofa', 'takes', 'up', 'too', 'much', 'space', '.', '<eos>']\n",
            "【原文】\n",
            "thissofatakesuptoomuchspace.<eos>\n",
            "【原文】\n",
            "这张 沙发 占 了 太 多 空间 。\n",
            "【机器翻译】\n",
            "['这张', '沙发', '占', '了', '太', '多', '空间', '。']\n",
            "\n",
            "[[1.0, 0.0, 0.0, 0.0, 0.0, 0.0, 0.0, 0.0, 0.0], [2.7678862220293458e-33, 1.0, 1.3539289681328543e-19, 1.5414283107572988e-44, 0.0, 0.0, 0.0, 0.0, 0.0], [0.0, 0.0, 4.5233914428405095e-41, 2.4336113679801485e-10, 1.0, 4.006526826885043e-14, 0.0, 0.0, 0.0], [0.0, 0.0, 0.0, 0.0, 4.1842493211142497e-16, 1.0, 9.925469335314574e-09, 0.0, 0.0], [0.0, 0.0, 0.0, 0.0, 6.875201865904565e-38, 1.1127612720152058e-10, 1.0, 1.8497139729087585e-43, 0.0], [0.0, 0.0, 0.0, 0.0, 0.0, 4.49273757213286e-34, 1.0, 2.2420775429197073e-44, 0.0], [0.0, 0.0, 0.0, 0.0, 0.0, 0.0, 1.0, 2.3808060908878642e-42, 0.0], [0.0, 0.0, 0.0, 0.0, 0.0, 0.0, 1.0, 6.757061194974268e-42, 0.0], [0.0, 0.0, 0.0, 0.0, 0.0, 0.0, 1.0, 2.802596928649634e-44, 0.0]]\n"
          ],
          "name": "stdout"
        },
        {
          "output_type": "display_data",
          "data": {
            "image/png": "[encoded data removed]",
            "text/plain": [
              "<Figure size 648x648 with 2 Axes>"
            ]
          },
          "metadata": {
            "tags": [],
            "needs_background": "light"
          }
        },
        {
          "output_type": "stream",
          "text": [
            "['have', 'you', 'ever', 'eaten', 'japanese', 'food', '?', '<eos>']\n",
            "【原文】\n",
            "haveyouevereatenjapanesefood?<eos>\n",
            "【原文】\n",
            "你 吃 过 日本料理 吗 ？\n",
            "【机器翻译】\n",
            "['你', '吃', '过', '日本料理', '吗', '？']\n",
            "\n",
            "[[4.318756046143776e-14, 1.0, 0.0, 0.0, 0.0, 0.0, 0.0, 0.0], [0.0, 0.0, 1.0, 1.4179917801296135e-18, 0.0, 0.0, 0.0, 0.0], [0.0, 0.0, 0.0, 1.9641597986193478e-14, 1.0, 7.516845222331184e-41, 0.0, 0.0], [0.0, 0.0, 0.0, 0.0, 1.7910086569372652e-07, 0.9999997615814209, 4.8398618752638947e-20, 1.1350517561031018e-43], [0.0, 0.0, 0.0, 0.0, 0.0, 1.1225137267997006e-14, 1.0, 1.6777924908834575e-30], [0.0, 0.0, 0.0, 0.0, 0.0, 3.089103228915375e-36, 1.0, 3.007220403882319e-24], [0.0, 0.0, 0.0, 0.0, 0.0, 6.4107531334612e-34, 1.0, 4.869068911834803e-19]]\n"
          ],
          "name": "stdout"
        },
        {
          "output_type": "display_data",
          "data": {
            "image/png": "[encoded data removed]",
            "text/plain": [
              "<Figure size 576x504 with 2 Axes>"
            ]
          },
          "metadata": {
            "tags": [],
            "needs_background": "light"
          }
        },
        {
          "output_type": "stream",
          "text": [
            "['i', 'do', \"n't\", 'plan', 'to', 'stay', 'for', 'very', 'long', '.', '<eos>']\n",
            "【原文】\n",
            "idon'tplantostayforverylong.<eos>\n",
            "【原文】\n",
            "我 没有 打算 停留 太久 。\n",
            "【机器翻译】\n",
            "['我', '没有', '打算', '停留', '太久', '。']\n",
            "\n",
            "[[1.0, 0.0, 0.0, 0.0, 0.0, 0.0, 0.0, 0.0, 0.0, 0.0, 0.0], [0.0, 0.0, 1.0, 0.0, 0.0, 0.0, 0.0, 0.0, 0.0, 0.0, 0.0], [0.0, 0.0, 0.0, 0.9995619654655457, 0.00043802865548059344, 2.8593209523868924e-36, 0.0, 0.0, 0.0, 0.0, 0.0], [0.0, 0.0, 0.0, 0.0, 0.0, 2.8213733571647026e-07, 0.9999997615814209, 1.87964172428192e-21, 0.0, 0.0, 0.0], [0.0, 0.0, 0.0, 0.0, 0.0, 0.0, 2.3679731116554547e-37, 0.13388164341449738, 0.866118311882019, 0.0, 0.0], [0.0, 0.0, 0.0, 0.0, 0.0, 0.0, 0.0, 2.0373590321615552e-23, 1.0, 0.0, 0.0], [0.0, 0.0, 0.0, 0.0, 0.0, 0.0, 0.0, 3.696630995288702e-24, 1.0, 0.0, 0.0]]\n"
          ],
          "name": "stdout"
        },
        {
          "output_type": "display_data",
          "data": {
            "image/png": "[encoded data removed]",
            "text/plain": [
              "<Figure size 792x504 with 2 Axes>"
            ]
          },
          "metadata": {
            "tags": [],
            "needs_background": "light"
          }
        },
        {
          "output_type": "stream",
          "text": [
            "['tom', 'was', 'afraid', 'to', 'ask', 'for', 'help', '.', '<eos>']\n",
            "【原文】\n",
            "tomwasafraidtoaskforhelp.<eos>\n",
            "【原文】\n",
            "汤姆 不敢 求助 。\n",
            "【机器翻译】\n",
            "['汤姆', '不敢', '求助', '。']\n",
            "\n",
            "[[1.0, 0.0, 0.0, 0.0, 0.0, 0.0, 0.0, 0.0, 0.0], [0.0, 0.0, 1.0, 1.4061356272415116e-26, 0.0, 0.0, 0.0, 0.0, 0.0], [0.0, 0.0, 0.0, 0.0, 2.324717332014432e-28, 1.0, 2.8160623979569013e-37, 0.0, 0.0], [0.0, 0.0, 0.0, 0.0, 0.0, 0.0, 1.0, 0.0, 0.0], [0.0, 0.0, 0.0, 0.0, 0.0, 0.0, 1.0, 1.877739942195255e-43, 0.0]]\n"
          ],
          "name": "stdout"
        },
        {
          "output_type": "display_data",
          "data": {
            "image/png": "[encoded data removed]",
            "text/plain": [
              "<Figure size 648x360 with 2 Axes>"
            ]
          },
          "metadata": {
            "tags": [],
            "needs_background": "light"
          }
        },
        {
          "output_type": "stream",
          "text": [
            "['i', 'was', 'just', 'trying', 'to', 'protect', 'you', '.', '<eos>']\n",
            "【原文】\n",
            "iwasjusttryingtoprotectyou.<eos>\n",
            "【原文】\n",
            "我 只是 试著 保护 你 。\n",
            "【机器翻译】\n",
            "['我', '只是', '试著', '保护', '你', '。']\n",
            "\n",
            "[[1.0, 2.852903543518895e-41, 0.0, 0.0, 0.0, 0.0, 0.0, 0.0, 0.0], [0.0, 0.0, 1.0, 0.0, 0.0, 0.0, 0.0, 0.0, 0.0], [0.0, 0.0, 0.0, 9.599496389033502e-16, 1.0, 3.207572184839506e-42, 0.0, 0.0, 0.0], [0.0, 0.0, 0.0, 0.0, 0.0, 1.0, 1.5165148303797338e-10, 0.0, 0.0], [0.0, 0.0, 0.0, 0.0, 0.0, 0.0, 1.0, 0.0, 0.0], [0.0, 0.0, 0.0, 0.0, 0.0, 0.0, 1.0, 0.0, 0.0], [0.0, 0.0, 0.0, 0.0, 0.0, 0.0, 1.0, 0.0, 0.0]]\n"
          ],
          "name": "stdout"
        },
        {
          "output_type": "display_data",
          "data": {
            "image/png": "[encoded data removed]",
            "text/plain": [
              "<Figure size 648x504 with 2 Axes>"
            ]
          },
          "metadata": {
            "tags": [],
            "needs_background": "light"
          }
        },
        {
          "output_type": "stream",
          "text": [
            "['i', 'truly', 'do', 'not', 'understand', 'the', 'question', '.', '<eos>']\n",
            "【原文】\n",
            "itrulydonotunderstandthequestion.<eos>\n",
            "【原文】\n",
            "我 真的 不 懂 这个 问题 。\n",
            "【机器翻译】\n",
            "['我', '真的', '不', '懂', '这个', '问题', '。']\n",
            "\n",
            "[[1.0, 0.0, 0.0, 0.0, 0.0, 0.0, 0.0, 0.0, 0.0], [0.0, 1.0, 1.401298464324817e-45, 0.0, 0.0, 0.0, 0.0, 0.0, 0.0], [0.0, 0.0, 1.033527002443827e-24, 1.0, 1.6133674765205666e-25, 0.0, 0.0, 0.0, 0.0], [0.0, 0.0, 0.0, 0.0, 1.0, 7.015336662280491e-12, 0.0, 0.0, 0.0], [0.0, 0.0, 0.0, 0.0, 3.4191682529525537e-43, 0.023201774805784225, 0.9767981767654419, 0.0, 0.0], [0.0, 0.0, 0.0, 0.0, 0.0, 4.249296061920111e-39, 1.0, 1.401298464324817e-45, 0.0], [0.0, 0.0, 0.0, 0.0, 0.0, 1.56584313390123e-39, 1.0, 0.0, 0.0], [0.0, 0.0, 0.0, 0.0, 0.0, 4.047650614202234e-41, 1.0, 1.922161327722106e-37, 0.0]]\n"
          ],
          "name": "stdout"
        },
        {
          "output_type": "display_data",
          "data": {
            "image/png": "[encoded data removed]",
            "text/plain": [
              "<Figure size 648x576 with 2 Axes>"
            ]
          },
          "metadata": {
            "tags": [],
            "needs_background": "light"
          }
        }
      ]
    },
    {
      "cell_type": "code",
      "metadata": {
        "id": "k0_5yNr-dm5a"
      },
      "source": [
        "def translate_sentence(sentence):\n",
        "  en_tokens = [en_TEXT.vocab.stoi[t] for t in sentence]\n",
        "  test_sample = {}\n",
        "  test_sample[\"src\"] = torch.tensor(en_tokens, dtype=torch.long, device=device).reshape(-1, 1)\n",
        "  test_sample[\"src_len\"] = [len(en_tokens)]\n",
        "  print(\"【机器翻译】\")\n",
        "  print(translate(model, test_sample, ch_TEXT.vocab.itos), end=\"\\n\\n\")"
      ],
      "execution_count": null,
      "outputs": []
    },
    {
      "cell_type": "code",
      "metadata": {
        "id": "_ZCY_T5Jv1tP"
      },
      "source": [
        "test = ['say', 'hi', 'to', 'tom', '!'] + ['<eos>']\n",
        "translate_sentence(test)"
      ],
      "execution_count": null,
      "outputs": []
    },
    {
      "cell_type": "code",
      "metadata": {
        "id": "KOrYdVf-w63Z"
      },
      "source": [
        "en_TEXT.vocab.itos"
      ],
      "execution_count": null,
      "outputs": []
    }
  ]
}