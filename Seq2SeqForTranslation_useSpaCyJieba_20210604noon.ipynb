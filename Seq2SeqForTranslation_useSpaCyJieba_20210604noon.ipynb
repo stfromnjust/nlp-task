{
  "nbformat": 4,
  "nbformat_minor": 0,
  "metadata": {
    "accelerator": "GPU",
    "colab": {
      "name": "Seq2SeqForTranslation.ipynb",
      "provenance": [],
      "collapsed_sections": [],
      "toc_visible": true,
      "include_colab_link": true
    },
    "kernelspec": {
      "display_name": "Python 3",
      "language": "python",
      "name": "python3"
    },
    "language_info": {
      "codemirror_mode": {
        "name": "ipython",
        "version": 3
      },
      "file_extension": ".py",
      "mimetype": "text/x-python",
      "name": "python",
      "nbconvert_exporter": "python",
      "pygments_lexer": "ipython3",
      "version": "3.6.8"
    }
  },
  "cells": [
    {
      "cell_type": "markdown",
      "metadata": {
        "id": "view-in-github",
        "colab_type": "text"
      },
      "source": [
        "<a href=\"https://colab.research.google.com/github/stfromnjust/nlp-task/blob/main/Seq2SeqForTranslation_useSpaCyJieba_20210604noon.ipynb\" target=\"_parent\"><img src=\"https://colab.research.google.com/assets/colab-badge.svg\" alt=\"Open In Colab\"/></a>"
      ]
    },
    {
      "cell_type": "markdown",
      "metadata": {
        "id": "LyLu9jiPmg2v"
      },
      "source": [
        "# 下载数据 必要配置"
      ]
    },
    {
      "cell_type": "code",
      "metadata": {
        "id": "jUbIsnYUgAvA",
        "colab": {
          "base_uri": "https://localhost:8080/"
        },
        "outputId": "e0f57519-cb64-45bc-f55b-7b6c6d28cec3"
      },
      "source": [
        "!apt install lshw -y\n",
        "!lshw -C display"
      ],
      "execution_count": 1,
      "outputs": [
        {
          "output_type": "stream",
          "text": [
            "Reading package lists... Done\n",
            "Building dependency tree       \n",
            "Reading state information... Done\n",
            "The following additional packages will be installed:\n",
            "  libpci3 pciutils usbutils\n",
            "The following NEW packages will be installed:\n",
            "  libpci3 lshw pciutils usbutils\n",
            "0 upgraded, 4 newly installed, 0 to remove and 39 not upgraded.\n",
            "Need to get 723 kB of archives.\n",
            "After this operation, 2,883 kB of additional disk space will be used.\n",
            "Get:1 http://archive.ubuntu.com/ubuntu bionic-updates/main amd64 libpci3 amd64 1:3.5.2-1ubuntu1.1 [24.1 kB]\n",
            "Get:2 http://archive.ubuntu.com/ubuntu bionic-updates/main amd64 lshw amd64 02.18-0.1ubuntu6.18.04.2 [234 kB]\n",
            "Get:3 http://archive.ubuntu.com/ubuntu bionic-updates/main amd64 pciutils amd64 1:3.5.2-1ubuntu1.1 [257 kB]\n",
            "Get:4 http://archive.ubuntu.com/ubuntu bionic/main amd64 usbutils amd64 1:007-4build1 [208 kB]\n",
            "Fetched 723 kB in 1s (830 kB/s)\n",
            "Selecting previously unselected package libpci3:amd64.\n",
            "(Reading database ... 160772 files and directories currently installed.)\n",
            "Preparing to unpack .../libpci3_1%3a3.5.2-1ubuntu1.1_amd64.deb ...\n",
            "Unpacking libpci3:amd64 (1:3.5.2-1ubuntu1.1) ...\n",
            "Selecting previously unselected package lshw.\n",
            "Preparing to unpack .../lshw_02.18-0.1ubuntu6.18.04.2_amd64.deb ...\n",
            "Unpacking lshw (02.18-0.1ubuntu6.18.04.2) ...\n",
            "Selecting previously unselected package pciutils.\n",
            "Preparing to unpack .../pciutils_1%3a3.5.2-1ubuntu1.1_amd64.deb ...\n",
            "Unpacking pciutils (1:3.5.2-1ubuntu1.1) ...\n",
            "Selecting previously unselected package usbutils.\n",
            "Preparing to unpack .../usbutils_1%3a007-4build1_amd64.deb ...\n",
            "Unpacking usbutils (1:007-4build1) ...\n",
            "Setting up lshw (02.18-0.1ubuntu6.18.04.2) ...\n",
            "Setting up usbutils (1:007-4build1) ...\n",
            "Setting up libpci3:amd64 (1:3.5.2-1ubuntu1.1) ...\n",
            "Setting up pciutils (1:3.5.2-1ubuntu1.1) ...\n",
            "Processing triggers for libc-bin (2.27-3ubuntu1.2) ...\n",
            "/sbin/ldconfig.real: /usr/local/lib/python3.7/dist-packages/ideep4py/lib/libmkldnn.so.0 is not a symbolic link\n",
            "\n",
            "Processing triggers for man-db (2.8.3-2ubuntu0.1) ...\n",
            "  *-display\n",
            "       description: 3D controller\n",
            "       product: GP100GL [Tesla P100 PCIe 16GB]\n",
            "       vendor: NVIDIA Corporation\n",
            "       physical id: 4\n",
            "       bus info: pci@0000:00:04.0\n",
            "       version: a1\n",
            "       width: 64 bits\n",
            "       clock: 33MHz\n",
            "       capabilities: msi pm bus_master cap_list\n",
            "       configuration: driver=nvidia latency=0\n",
            "       resources: iomemory:40-3f iomemory:80-7f irq:35 memory:c0000000-c0ffffff memory:400000000-7ffffffff memory:800000000-801ffffff ioport:c000(size=128)\n"
          ],
          "name": "stdout"
        }
      ]
    },
    {
      "cell_type": "code",
      "metadata": {
        "id": "6q7dDydT7n2d",
        "colab": {
          "base_uri": "https://localhost:8080/"
        },
        "outputId": "392c687e-4e78-4d8c-a900-045a6a7e6f03"
      },
      "source": [
        "!wget https://github.com/stfromnjust/nlp-task/raw/main/cmn-eng.zip\n",
        "!unzip -d ./cmn-eng cmn-eng.zip"
      ],
      "execution_count": 2,
      "outputs": [
        {
          "output_type": "stream",
          "text": [
            "--2021-06-04 00:58:47--  https://github.com/stfromnjust/nlp-task/raw/main/cmn-eng.zip\n",
            "Resolving github.com (github.com)... 140.82.112.4\n",
            "Connecting to github.com (github.com)|140.82.112.4|:443... connected.\n",
            "HTTP request sent, awaiting response... 302 Found\n",
            "Location: https://raw.githubusercontent.com/stfromnjust/nlp-task/main/cmn-eng.zip [following]\n",
            "--2021-06-04 00:58:47--  https://raw.githubusercontent.com/stfromnjust/nlp-task/main/cmn-eng.zip\n",
            "Resolving raw.githubusercontent.com (raw.githubusercontent.com)... 185.199.108.133, 185.199.109.133, 185.199.110.133, ...\n",
            "Connecting to raw.githubusercontent.com (raw.githubusercontent.com)|185.199.108.133|:443... connected.\n",
            "HTTP request sent, awaiting response... 200 OK\n",
            "Length: 1049235 (1.0M) [application/zip]\n",
            "Saving to: ‘cmn-eng.zip’\n",
            "\n",
            "cmn-eng.zip         100%[===================>]   1.00M  --.-KB/s    in 0.1s    \n",
            "\n",
            "2021-06-04 00:58:47 (9.65 MB/s) - ‘cmn-eng.zip’ saved [1049235/1049235]\n",
            "\n",
            "Archive:  cmn-eng.zip\n",
            "   creating: ./cmn-eng/cmn-eng/\n",
            "  inflating: ./cmn-eng/cmn-eng/cmn.txt  \n",
            "  inflating: ./cmn-eng/cmn-eng/_about.txt  \n"
          ],
          "name": "stdout"
        }
      ]
    },
    {
      "cell_type": "code",
      "metadata": {
        "id": "Zo7QCacp7n2s"
      },
      "source": [
        "seed = 2030"
      ],
      "execution_count": 3,
      "outputs": []
    },
    {
      "cell_type": "code",
      "metadata": {
        "id": "q2fEi0_oNVGl",
        "colab": {
          "base_uri": "https://localhost:8080/"
        },
        "outputId": "70c25311-5723-4278-87e6-de3a6aaf27a8"
      },
      "source": [
        "!pip install opencc"
      ],
      "execution_count": 4,
      "outputs": [
        {
          "output_type": "stream",
          "text": [
            "Collecting opencc\n",
            "\u001b[?25l  Downloading https://files.pythonhosted.org/packages/25/a1/83402033399c7bc61482f45e186156f6c51c8ca5cf4a66f22039a586a520/OpenCC-1.1.2-cp37-cp37m-manylinux1_x86_64.whl (765kB)\n",
            "\u001b[K     |████████████████████████████████| 768kB 4.0MB/s \n",
            "\u001b[?25hInstalling collected packages: opencc\n",
            "Successfully installed opencc-1.1.2\n"
          ],
          "name": "stdout"
        }
      ]
    },
    {
      "cell_type": "code",
      "metadata": {
        "id": "05LtExs57n20"
      },
      "source": [
        "import torch\n",
        "import torch.nn as nn\n",
        "import torch.optim as optim\n",
        "import torch.nn.functional as F\n",
        "from torch.utils.data import Dataset, DataLoader\n",
        "from torchtext.legacy.data import *\n",
        "\n",
        "\n",
        "import time\n",
        "import math\n",
        "import random\n",
        "import jieba\n",
        "import spacy\n",
        "import opencc"
      ],
      "execution_count": 5,
      "outputs": []
    },
    {
      "cell_type": "code",
      "metadata": {
        "id": "B7h691pQdmyW",
        "colab": {
          "base_uri": "https://localhost:8080/"
        },
        "outputId": "742caf2c-c2c9-4b0d-e21d-8d609915602d"
      },
      "source": [
        "device = torch.device('cuda' if torch.cuda.is_available() else 'cpu')\n",
        "device"
      ],
      "execution_count": 6,
      "outputs": [
        {
          "output_type": "execute_result",
          "data": {
            "text/plain": [
              "device(type='cuda')"
            ]
          },
          "metadata": {
            "tags": []
          },
          "execution_count": 6
        }
      ]
    },
    {
      "cell_type": "markdown",
      "metadata": {
        "id": "QW9iTQeF7n2-"
      },
      "source": [
        "# 读取数据"
      ]
    },
    {
      "cell_type": "code",
      "metadata": {
        "id": "9TBhsBe27n3A",
        "colab": {
          "base_uri": "https://localhost:8080/",
          "height": 103
        },
        "outputId": "66b5e1ae-528a-4efc-9962-404019797fe6"
      },
      "source": [
        "# 每一行数据如下\n",
        "# 'Hi.\\t嗨。\\tCC-BY 2.0 (France) Attribution: tatoeba.org #538123 (CM) & #891077 (Martha)'\n",
        "with open('./cmn-eng/cmn-eng/cmn.txt', 'r', encoding='utf-8') as f:\n",
        "    data = f.read()\n",
        "data = data.strip()\n",
        "data = data.split('\\n')\n",
        "print('样本数:\\n', len(data))\n",
        "print('\\n样本示例:')\n",
        "data[0]"
      ],
      "execution_count": 7,
      "outputs": [
        {
          "output_type": "stream",
          "text": [
            "样本数:\n",
            " 24818\n",
            "\n",
            "样本示例:\n"
          ],
          "name": "stdout"
        },
        {
          "output_type": "execute_result",
          "data": {
            "application/vnd.google.colaboratory.intrinsic+json": {
              "type": "string"
            },
            "text/plain": [
              "'Hi.\\t嗨。\\tCC-BY 2.0 (France) Attribution: tatoeba.org #538123 (CM) & #891077 (Martha)'"
            ]
          },
          "metadata": {
            "tags": []
          },
          "execution_count": 7
        }
      ]
    },
    {
      "cell_type": "code",
      "metadata": {
        "id": "vXXhro447n3F",
        "colab": {
          "base_uri": "https://localhost:8080/"
        },
        "outputId": "eb136007-3c43-4ec9-e840-df6caf5dd8a5"
      },
      "source": [
        "# 分割英文数据和中文数据\n",
        "\n",
        "# 繁体中文转简体中文\n",
        "cc = opencc.OpenCC('t2s')\n",
        "\n",
        "en_data = [line.split('\\t')[0].lower() for line in data]\n",
        "ch_data = [cc.convert(line.split('\\t')[1]) for line in data]\n",
        "print('英文数据:\\n', en_data[:10])\n",
        "print('\\n中文数据:\\n', ch_data[:10])"
      ],
      "execution_count": 8,
      "outputs": [
        {
          "output_type": "stream",
          "text": [
            "英文数据:\n",
            " ['hi.', 'hi.', 'run.', 'wait!', 'wait!', 'hello!', 'i try.', 'i won!', 'oh no!', 'cheers!']\n",
            "\n",
            "中文数据:\n",
            " ['嗨。', '你好。', '你用跑的。', '等等！', '等一下！', '你好。', '让我来。', '我赢了。', '不会吧。', '干杯!']\n"
          ],
          "name": "stdout"
        }
      ]
    },
    {
      "cell_type": "markdown",
      "metadata": {
        "id": "Vx-jKO_vuZbM"
      },
      "source": [
        "# 分词"
      ]
    },
    {
      "cell_type": "code",
      "metadata": {
        "id": "k1ioMRh17n3O",
        "colab": {
          "base_uri": "https://localhost:8080/"
        },
        "outputId": "a426ffd0-b400-4a6b-ee8e-bdbcca0858e8"
      },
      "source": [
        "# 中文使用jieba分词\n",
        "ch_token_list = []\n",
        "for line in ch_data:\n",
        "  ch_token_list.append(list(jieba.cut(line)) + ['<eos>'])\n",
        "\n",
        "# 测试\n",
        "print('\\n中文数据:\\n', ch_token_list[:3])\n",
        "\n",
        "# 英文使用spacy分词\n",
        "nlp = spacy.load('en')\n",
        "en_token_list = []\n",
        "for line in en_data:\n",
        "  doc = nlp(line)\n",
        "  en_new = []\n",
        "  for token in doc:\n",
        "    en_new.append(token.text)\n",
        "  en_token_list.append(en_new + ['<eos>'])\n",
        "\n",
        "# 测试\n",
        "print('英文数据:\\n', en_token_list[:3])"
      ],
      "execution_count": 9,
      "outputs": [
        {
          "output_type": "stream",
          "text": [
            "Building prefix dict from the default dictionary ...\n",
            "Dumping model to file cache /tmp/jieba.cache\n",
            "Loading model cost 0.765 seconds.\n",
            "Prefix dict has been built successfully.\n"
          ],
          "name": "stderr"
        },
        {
          "output_type": "stream",
          "text": [
            "\n",
            "中文数据:\n",
            " [['嗨', '。', '<eos>'], ['你好', '。', '<eos>'], ['你', '用', '跑', '的', '。', '<eos>']]\n",
            "英文数据:\n",
            " [['hi', '.', '<eos>'], ['hi', '.', '<eos>'], ['run', '.', '<eos>']]\n"
          ],
          "name": "stdout"
        }
      ]
    },
    {
      "cell_type": "markdown",
      "metadata": {
        "id": "jwip6aLDueJb"
      },
      "source": [
        "# 建立词典"
      ]
    },
    {
      "cell_type": "code",
      "metadata": {
        "colab": {
          "base_uri": "https://localhost:8080/"
        },
        "id": "-j9z6q06phw3",
        "outputId": "4de6cc88-a864-4f29-e7fc-933cdffb71fd"
      },
      "source": [
        "ch_TEXT = Field()\n",
        "ch_TEXT.build_vocab(ch_token_list[:21622], specials=['<pad>', '<unk>', '<bos>', '<eos>'])\n",
        "en_TEXT = Field()\n",
        "en_TEXT.build_vocab(en_token_list[:21622], specials=['<pad>', '<unk>', '<bos>', '<eos>'])\n",
        "\n",
        "print('中文词典: ')\n",
        "print(len(ch_TEXT.vocab))\n",
        "print(ch_TEXT)\n",
        "print(ch_TEXT.vocab.itos[:20])\n",
        "print(ch_TEXT.vocab.stoi['<unk>'])\n",
        "print('\\n英文词典: ')\n",
        "print(len(en_TEXT.vocab))\n",
        "print(en_TEXT)\n",
        "print(en_TEXT.vocab.itos[:20])\n",
        "print(en_TEXT.vocab.stoi['<unk>'])"
      ],
      "execution_count": 10,
      "outputs": [
        {
          "output_type": "stream",
          "text": [
            "中文词典: \n",
            "10742\n",
            "<torchtext.legacy.data.field.Field object at 0x7fde38eea910>\n",
            "['<unk>', '<pad>', '<bos>', '<eos>', '。', '我', '的', '了', '你', '他', '？', '在', '汤姆', '是', '她', '吗', '我们', '，', '不', '很']\n",
            "0\n",
            "\n",
            "英文词典: \n",
            "6288\n",
            "<torchtext.legacy.data.field.Field object at 0x7fde3b0da110>\n",
            "['<unk>', '<pad>', '<bos>', '<eos>', '.', 'i', 'the', 'to', 'you', 'a', '?', 'is', 'he', \"n't\", 'tom', 'do', 'it', 'in', \"'s\", 'of']\n",
            "0\n"
          ],
          "name": "stdout"
        }
      ]
    },
    {
      "cell_type": "code",
      "metadata": {
        "id": "jLIjhvZt7n3e",
        "colab": {
          "base_uri": "https://localhost:8080/"
        },
        "outputId": "9a9c6eca-0f19-4375-d901-061f30182964"
      },
      "source": [
        "# 利用字典，映射数据 \n",
        "en_num_data = [[en_TEXT.vocab.stoi[token] for token in line ] for line in en_token_list]\n",
        "ch_num_data = [[ch_TEXT.vocab.stoi[token] for token in line] for line in ch_token_list]\n",
        "\n",
        "print('char:', en_data[1])\n",
        "print('index:', en_num_data[1])"
      ],
      "execution_count": 11,
      "outputs": [
        {
          "output_type": "stream",
          "text": [
            "char: hi.\n",
            "index: [1878, 4, 3]\n"
          ],
          "name": "stdout"
        }
      ]
    },
    {
      "cell_type": "markdown",
      "metadata": {
        "id": "IZ5ZtQfN7n3j"
      },
      "source": [
        "# 表示为Dataset"
      ]
    },
    {
      "cell_type": "code",
      "metadata": {
        "id": "PPTYSlOw7n3k"
      },
      "source": [
        "class TranslationDataset(Dataset):\n",
        "    def __init__(self, src_data, trg_data):\n",
        "        self.src_data = src_data\n",
        "        self.trg_data = trg_data\n",
        "\n",
        "        assert len(src_data) == len(trg_data), \\\n",
        "            \"numbers of src_data  and trg_data must be equal!\"\n",
        "\n",
        "    def __len__(self):\n",
        "        return len(self.src_data)\n",
        "\n",
        "    def __getitem__(self, idx):\n",
        "        src_sample =self.src_data[idx]\n",
        "        src_len = len(self.src_data[idx])\n",
        "        trg_sample = self.trg_data[idx]\n",
        "        trg_len = len(self.trg_data[idx])\n",
        "        return {\"src\": src_sample, \"src_len\": src_len, \"trg\": trg_sample, \"trg_len\": trg_len}"
      ],
      "execution_count": 12,
      "outputs": []
    },
    {
      "cell_type": "code",
      "metadata": {
        "id": "yUKfKfpc7n3p"
      },
      "source": [
        "def padding_batch(batch):\n",
        "    \"\"\"\n",
        "    input: -> list of dict\n",
        "        [{'src': [1, 2, 3], 'trg': [1, 2, 3]}, {'src': [1, 2, 2, 3], 'trg': [1, 2, 2, 3]}]\n",
        "    output: -> dict of tensor \n",
        "        {\n",
        "            \"src\": [[1, 2, 3, 0], [1, 2, 2, 3]].T\n",
        "            \"trg\": [[1, 2, 3, 0], [1, 2, 2, 3]].T\n",
        "        }\n",
        "    \"\"\"\n",
        "    src_lens = [d[\"src_len\"] for d in batch]\n",
        "    trg_lens = [d[\"trg_len\"] for d in batch]\n",
        "    \n",
        "    src_max = max([d[\"src_len\"] for d in batch])\n",
        "    trg_max = max([d[\"trg_len\"] for d in batch])\n",
        "    for d in batch:\n",
        "        d[\"src\"].extend([en_TEXT.vocab.stoi[\"<pad>\"]] * (src_max-d[\"src_len\"]))\n",
        "        d[\"trg\"].extend([ch_TEXT.vocab.stoi[\"<pad>\"]] * (trg_max-d[\"trg_len\"]))\n",
        "    srcs = torch.tensor([pair[\"src\"] for pair in batch], dtype=torch.long, device=device)\n",
        "    trgs = torch.tensor([pair[\"trg\"] for pair in batch], dtype=torch.long, device=device)\n",
        "    \n",
        "    batch = {\"src\":srcs.T, \"src_len\":src_lens, \"trg\":trgs.T, \"trg_len\":trg_lens}\n",
        "    return batch"
      ],
      "execution_count": 13,
      "outputs": []
    },
    {
      "cell_type": "markdown",
      "metadata": {
        "id": "Es1g11r09g9v"
      },
      "source": [
        "# Attention机制"
      ]
    },
    {
      "cell_type": "code",
      "metadata": {
        "id": "SBpm6azx_FLe"
      },
      "source": [
        "class Encoder(nn.Module):\n",
        "    def __init__(self, input_dim, emb_dim, hid_dim, n_layers, dropout=0.5, bidirectional=True):\n",
        "        super(Encoder, self).__init__()\n",
        "        \n",
        "        self.hid_dim = hid_dim\n",
        "        self.n_layers = n_layers\n",
        "        \n",
        "        self.embedding = nn.Embedding(input_dim, emb_dim)\n",
        "        self.gru = nn.GRU(emb_dim, hid_dim, n_layers, dropout=dropout, bidirectional=bidirectional)\n",
        "        \n",
        "    def forward(self, input_seqs, input_lengths, hidden):\n",
        "        # input_seqs = [seq_len, batch]\n",
        "        embedded = self.embedding(input_seqs)\n",
        "        # embedded = [seq_len, batch, embed_dim]\n",
        "        packed = torch.nn.utils.rnn.pack_padded_sequence(embedded, input_lengths, enforce_sorted=False)\n",
        "        \n",
        "        outputs, hidden = self.gru(packed, hidden)        \n",
        "        outputs, output_lengths = torch.nn.utils.rnn.pad_packed_sequence(outputs)\n",
        "        # outputs = [seq_len, batch, hid_dim * n directions]\n",
        "        # output_lengths = [batch]\n",
        "        return outputs, hidden"
      ],
      "execution_count": 14,
      "outputs": []
    },
    {
      "cell_type": "code",
      "metadata": {
        "id": "rMbsHQa38Kv1"
      },
      "source": [
        "class Attn(nn.Module):\n",
        "    def __init__(self, method, hidden_size):\n",
        "        super(Attn, self).__init__()\n",
        "        self.method = method\n",
        "        if self.method not in ['dot', 'general', 'concat']:\n",
        "            raise ValueError(self.method, \"is not an appropriate attention method.\")\n",
        "        self.hidden_size = hidden_size\n",
        "        if self.method == 'general':\n",
        "            self.attn = nn.Linear(self.hidden_size, hidden_size)\n",
        "        elif self.method == 'concat':\n",
        "            self.attn = nn.Linear(self.hidden_size * 2, hidden_size)\n",
        "            self.v = nn.Parameter(torch.FloatTensor(hidden_size))\n",
        "\n",
        "    def dot_score(self, hidden, encoder_output):\n",
        "        return torch.sum(hidden * encoder_output, dim=2)  # [seq_len, batch]\n",
        "\n",
        "    def general_score(self, hidden, encoder_output):\n",
        "        energy = self.attn(encoder_output)  # [seq_len, batch, hid_dim]\n",
        "        return torch.sum(hidden * energy, dim=2)  # [seq_len, batch]\n",
        "\n",
        "    def concat_score(self, hidden, encoder_output):\n",
        "        # hidden.expand(encoder_output.size(0), -1, -1) -> [seq_len, batch, N]\n",
        "        energy = self.attn(torch.cat((hidden.expand(encoder_output.size(0), -1, -1), encoder_output), 2)).tanh()\n",
        "        # energy = [sql_len, batch, hidden_size]\n",
        "        return torch.sum(self.v * energy, dim=2)  # [seq_len, batch]\n",
        "\n",
        "    def forward(self, hidden, encoder_outputs):\n",
        "        # hidden = [1, batch,  n_directions * hid_dim]\n",
        "        # encoder_outputs = [seq_len, batch, hid dim * n directions]\n",
        "        if self.method == 'general':\n",
        "            attn_energies = self.general_score(hidden, encoder_outputs)\n",
        "        elif self.method == 'concat':\n",
        "            attn_energies = self.concat_score(hidden, encoder_outputs)\n",
        "        elif self.method == 'dot':\n",
        "            attn_energies = self.dot_score(hidden, encoder_outputs)\n",
        "\n",
        "        attn_energies = attn_energies.t()  # [batch, seq_len]\n",
        " \n",
        "        return F.softmax(attn_energies, dim=1).unsqueeze(1)  # softmax归一化# [batch, 1, seq_len]"
      ],
      "execution_count": 15,
      "outputs": []
    },
    {
      "cell_type": "code",
      "metadata": {
        "id": "lLbqgxNg8XT4"
      },
      "source": [
        "class AttnDecoder(nn.Module):\n",
        "    def __init__(self, output_dim, emb_dim, hid_dim, n_layers=1, dropout=0.5, bidirectional=True, attn_method=\"general\"):\n",
        "        super(AttnDecoder, self).__init__()\n",
        "\n",
        "        self.output_dim = output_dim\n",
        "        self.emb_dim = emb_dim\n",
        "        self.hid_dim = hid_dim\n",
        "        self.n_layers = n_layers\n",
        "        self.dropout = dropout\n",
        "\n",
        "        self.embedding = nn.Embedding(output_dim, emb_dim)\n",
        "        self.embedding_dropout = nn.Dropout(dropout)\n",
        "        self.gru = nn.GRU(emb_dim, hid_dim, n_layers, dropout=dropout, bidirectional=bidirectional)\n",
        "        \n",
        "        if bidirectional:\n",
        "            self.concat = nn.Linear(hid_dim * 2 * 2, hid_dim*2)\n",
        "            self.out = nn.Linear(hid_dim*2, output_dim)\n",
        "            self.attn = Attn(attn_method, hid_dim*2)\n",
        "        else:\n",
        "            self.concat = nn.Linear(hid_dim * 2, hid_dim)\n",
        "            self.out = nn.Linear(hid_dim, output_dim)\n",
        "            self.attn = Attn(attn_method, hid_dim)\n",
        "        self.softmax = nn.LogSoftmax(dim=1)\n",
        "\n",
        "    def forward(self, token_inputs, last_hidden, encoder_outputs):\n",
        "        batch_size = token_inputs.size(0)\n",
        "        embedded = self.embedding(token_inputs)\n",
        "        embedded = self.embedding_dropout(embedded)\n",
        "        embedded = embedded.view(1, batch_size, -1) # [1, B, hid_dim]\n",
        "\n",
        "        gru_output, hidden = self.gru(embedded, last_hidden)\n",
        "        # gru_output = [1, batch,  n_directions * hid_dim]\n",
        "        # hidden = [n_layers * n_directions, batch, hid_dim]\n",
        "\n",
        "        # encoder_outputs = [sql_len, batch, hid dim * n directions]\n",
        "        attn_weights = self.attn(gru_output, encoder_outputs)\n",
        "        # attn_weights = [batch, 1, sql_len]\n",
        "        context = attn_weights.bmm(encoder_outputs.transpose(0, 1))\n",
        "        # [batch, 1, hid_dim * n directions]\n",
        "\n",
        "        # LuongAttention\n",
        "        gru_output = gru_output.squeeze(0) # [batch, n_directions * hid_dim]\n",
        "        context = context.squeeze(1)       # [batch, n_directions * hid_dim]\n",
        "        concat_input = torch.cat((gru_output, context), 1)  # [batch, n_directions * hid_dim * 2]\n",
        "        concat_output = torch.tanh(self.concat(concat_input))  # [batch, n_directions*hid_dim]\n",
        "\n",
        "        output = self.out(concat_output)  # [batch, output_dim]\n",
        "        output = self.softmax(output)\n",
        "\n",
        "        return output, hidden, attn_weights"
      ],
      "execution_count": 16,
      "outputs": []
    },
    {
      "cell_type": "code",
      "metadata": {
        "id": "y94lk1qX_Cxn"
      },
      "source": [
        "class Seq2Seq(nn.Module):\n",
        "    def __init__(self, \n",
        "                 encoder, \n",
        "                 decoder, \n",
        "                 device, \n",
        "                 predict=False, \n",
        "                 basic_dict=None,\n",
        "                 max_len=50\n",
        "                 ):\n",
        "        super(Seq2Seq, self).__init__()\n",
        "        \n",
        "        self.device = device\n",
        "\n",
        "        self.encoder = encoder\n",
        "        self.decoder = decoder\n",
        "\n",
        "        self.predict = predict  # 训练阶段还是预测阶段\n",
        "        self.basic_dict = basic_dict  # decoder的字典，存放特殊token对应的id\n",
        "        self.max_len = max_len  # 翻译时最大输出长度\n",
        "\n",
        "        assert encoder.hid_dim == decoder.hid_dim, \\\n",
        "            \"Hidden dimensions of encoder and decoder must be equal!\"\n",
        "        assert encoder.n_layers == decoder.n_layers, \\\n",
        "            \"Encoder and decoder must have equal number of layers!\"\n",
        "        assert encoder.gru.bidirectional == decoder.gru.bidirectional, \\\n",
        "            \"Decoder and encoder must had same value of bidirectional attribute!\"\n",
        "        \n",
        "    def forward(self, input_batches, input_lengths, target_batches=None, target_lengths=None, teacher_forcing_ratio=0.5):\n",
        "        # input_batches = [seq_len, batch]\n",
        "        # target_batches = [seq_len, batch]\n",
        "        batch_size = input_batches.size(1)\n",
        "        \n",
        "        BOS_token = self.basic_dict[\"<bos>\"]\n",
        "        EOS_token = self.basic_dict[\"<eos>\"]\n",
        "        PAD_token = self.basic_dict[\"<pad>\"]\n",
        "\n",
        "        # 初始化\n",
        "        enc_n_layers = self.encoder.gru.num_layers\n",
        "        enc_n_directions = 2 if self.encoder.gru.bidirectional else 1\n",
        "        encoder_hidden = torch.zeros(enc_n_layers*enc_n_directions, batch_size, self.encoder.hid_dim, device=self.device)\n",
        "        \n",
        "        # encoder_outputs = [input_lengths, batch, hid_dim * n directions]\n",
        "        # encoder_hidden = [n_layers*n_directions, batch, hid_dim]\n",
        "        encoder_outputs, encoder_hidden = self.encoder(\n",
        "            input_batches, input_lengths, encoder_hidden)\n",
        "\n",
        "        # 初始化\n",
        "        decoder_input = torch.tensor([BOS_token] * batch_size, dtype=torch.long, device=self.device)\n",
        "        decoder_hidden = encoder_hidden\n",
        "\n",
        "        if self.predict:\n",
        "            # 一次只输入一句话\n",
        "            assert batch_size == 1, \"batch_size of predict phase must be 1!\"\n",
        "            output_tokens = []\n",
        "\n",
        "            while True:\n",
        "                decoder_output, decoder_hidden, decoder_attn = self.decoder(\n",
        "                    decoder_input, decoder_hidden, encoder_outputs\n",
        "                )\n",
        "                # [1, 1]\n",
        "                topv, topi = decoder_output.topk(1)\n",
        "                decoder_input = topi.squeeze(1).detach()\n",
        "                output_token = topi.squeeze().detach().item()\n",
        "                if output_token == EOS_token or len(output_tokens) == self.max_len:\n",
        "                    break\n",
        "                output_tokens.append(output_token)\n",
        "            return output_tokens\n",
        "\n",
        "        else:\n",
        "            max_target_length = max(target_lengths)\n",
        "            all_decoder_outputs = torch.zeros((max_target_length, batch_size, self.decoder.output_dim), device=self.device)\n",
        "\n",
        "            for t in range(max_target_length):\n",
        "                use_teacher_forcing = True if random.random() < teacher_forcing_ratio else False\n",
        "                if use_teacher_forcing:\n",
        "                    # decoder_output = [batch, output_dim]\n",
        "                    # decoder_hidden = [n_layers*n_directions, batch, hid_dim]\n",
        "                    decoder_output, decoder_hidden, decoder_attn = self.decoder(\n",
        "                        decoder_input, decoder_hidden, encoder_outputs\n",
        "                    )\n",
        "                    all_decoder_outputs[t] = decoder_output\n",
        "                    decoder_input = target_batches[t]  # 下一个输入来自训练数据\n",
        "                else:\n",
        "                    decoder_output, decoder_hidden, decoder_attn = self.decoder(\n",
        "                        decoder_input, decoder_hidden, encoder_outputs\n",
        "                    )\n",
        "                    # [batch, 1]\n",
        "                    topv, topi = decoder_output.topk(1)\n",
        "                    all_decoder_outputs[t] = decoder_output\n",
        "                    decoder_input = topi.squeeze(1).detach()  # 下一个输入来自模型预测\n",
        "            \n",
        "            loss_fn = nn.NLLLoss(ignore_index=PAD_token)\n",
        "            loss = loss_fn(\n",
        "                all_decoder_outputs.reshape(-1, self.decoder.output_dim),  # [batch*seq_len, output_dim]\n",
        "                target_batches.reshape(-1)               # [batch*seq_len]\n",
        "            )\n",
        "            return loss"
      ],
      "execution_count": 18,
      "outputs": []
    },
    {
      "cell_type": "markdown",
      "metadata": {
        "id": "DGIK_4IO7n4G"
      },
      "source": [
        "# 训练和预测代码"
      ]
    },
    {
      "cell_type": "code",
      "metadata": {
        "id": "TvUaEp0Y7n4H"
      },
      "source": [
        "def epoch_time(start_time, end_time):\n",
        "    elapsed_time = end_time - start_time\n",
        "    elapsed_mins = int(elapsed_time / 60)\n",
        "    elapsed_secs = int(elapsed_time - (elapsed_mins * 60))\n",
        "    return elapsed_mins, elapsed_secs"
      ],
      "execution_count": 19,
      "outputs": []
    },
    {
      "cell_type": "code",
      "metadata": {
        "id": "FcB6O0cJ7n4P"
      },
      "source": [
        "def train(\n",
        "    model,\n",
        "    data_loader, \n",
        "    optimizer, \n",
        "    clip=1, \n",
        "    teacher_forcing_ratio=0.5, \n",
        "    print_every=None  # None不打印\n",
        "    ):\n",
        "    model.predict = False\n",
        "    model.train()\n",
        "\n",
        "    if print_every == 0:\n",
        "        print_every = 1\n",
        "\n",
        "    print_loss_total = 0  # 每次打印都重置\n",
        "    start = time.time()\n",
        "    epoch_loss = 0\n",
        "    for i, batch in enumerate(data_loader):\n",
        "\n",
        "        # shape = [seq_len, batch]\n",
        "        input_batchs = batch[\"src\"]\n",
        "        target_batchs = batch[\"trg\"]\n",
        "        # list\n",
        "        input_lens = batch[\"src_len\"]\n",
        "        target_lens = batch[\"trg_len\"]\n",
        "        \n",
        "        optimizer.zero_grad()\n",
        "        \n",
        "        loss = model(input_batchs, input_lens, target_batchs, target_lens, teacher_forcing_ratio)\n",
        "        print_loss_total += loss.item()\n",
        "        epoch_loss += loss.item()\n",
        "        loss.backward()\n",
        "\n",
        "        # 梯度裁剪\n",
        "        torch.nn.utils.clip_grad_norm_(model.parameters(), clip)\n",
        "\n",
        "        optimizer.step()\n",
        "\n",
        "        if print_every and (i+1) % print_every == 0:\n",
        "            print_loss_avg = print_loss_total / print_every\n",
        "            print_loss_total = 0\n",
        "            print('\\tCurrent Loss: %.4f' % print_loss_avg)\n",
        "\n",
        "    return epoch_loss / len(data_loader)"
      ],
      "execution_count": 20,
      "outputs": []
    },
    {
      "cell_type": "code",
      "metadata": {
        "id": "DgYv7rsp7n4V"
      },
      "source": [
        "def evaluate(\n",
        "    model,\n",
        "    data_loader, \n",
        "    print_every=None\n",
        "    ):\n",
        "    model.predict = False\n",
        "    model.eval()\n",
        "    if print_every == 0:\n",
        "        print_every = 1\n",
        "\n",
        "    print_loss_total = 0  # 每次打印都重置\n",
        "    start = time.time()\n",
        "    epoch_loss = 0\n",
        "    with torch.no_grad():\n",
        "        for i, batch in enumerate(data_loader):\n",
        "\n",
        "            # shape = [seq_len, batch]\n",
        "            input_batchs = batch[\"src\"]\n",
        "            target_batchs = batch[\"trg\"]\n",
        "            # list\n",
        "            input_lens = batch[\"src_len\"]\n",
        "            target_lens = batch[\"trg_len\"]\n",
        "\n",
        "            loss = model(input_batchs, input_lens, target_batchs, target_lens, teacher_forcing_ratio=0)\n",
        "            print_loss_total += loss.item()\n",
        "            epoch_loss += loss.item()\n",
        "\n",
        "            if print_every and (i+1) % print_every == 0:\n",
        "                print_loss_avg = print_loss_total / print_every\n",
        "                print_loss_total = 0\n",
        "                print('\\tCurrent Loss: %.4f' % print_loss_avg)\n",
        "\n",
        "    return epoch_loss / len(data_loader)"
      ],
      "execution_count": 21,
      "outputs": []
    },
    {
      "cell_type": "code",
      "metadata": {
        "id": "ldcZM35r7n4h"
      },
      "source": [
        "def translate(\n",
        "    model,\n",
        "    sample, \n",
        "    idx2token=None\n",
        "    ):\n",
        "    model.predict = True\n",
        "    model.eval()\n",
        "\n",
        "    # shape = [seq_len, 1]\n",
        "    input_batch = sample[\"src\"]\n",
        "    # list\n",
        "    input_len = sample[\"src_len\"]\n",
        "\n",
        "    output_tokens = model(input_batch, input_len)\n",
        "    output_tokens = [idx2token[t] for t in output_tokens]\n",
        "\n",
        "    return output_tokens"
      ],
      "execution_count": 22,
      "outputs": []
    },
    {
      "cell_type": "code",
      "metadata": {
        "id": "jSpzIxecnqNZ"
      },
      "source": [
        "from nltk.translate.bleu_score import corpus_bleu\n",
        "\n",
        "def cal_bleu(\n",
        "    model,\n",
        "    data_loader,\n",
        "):\n",
        "  model.predict = False\n",
        "  model.eval()\n",
        "  candidate_corpus = []\n",
        "  references_corpus = []\n",
        "  with torch.no_grad():\n",
        "    for i, batch in enumerate(data_loader):\n",
        "      # shape = [seq_len, batch]\n",
        "      input_batches = batch[\"src\"]\n",
        "      target_batches = batch[\"trg\"]\n",
        "      # list\n",
        "      input_lens = batch[\"src_len\"]\n",
        "      target_lens = batch[\"trg_len\"]\n",
        "      \n",
        "      input_batches = input_batches.t()\n",
        "      for j in range(input_batches.shape[0]):\n",
        "        sample = {}\n",
        "        en_tokens = [t for t in input_batches[j] if t != 1] \n",
        "        sample[\"src\"] = torch.tensor(en_tokens, dtype=torch.long, device=device).reshape(-1, 1)\n",
        "        sample[\"src_len\"] = [len(en_tokens)]\n",
        "        output_tokens = translate(model, sample, ch_TEXT.vocab.itos)\n",
        "        candidate_corpus.append(output_tokens)\n",
        "\n",
        "      # 转置\n",
        "      target_batches = target_batches.t()\n",
        "      for j in range(target_batches.shape[0]):\n",
        "        ch_src = [ch_TEXT.vocab.itos[t] for t in target_batches[j] if t !=1 and t !=3]\n",
        "        references_corpus.append([ch_src])\n",
        "  return corpus_bleu(references_corpus, candidate_corpus)\n",
        "      "
      ],
      "execution_count": 26,
      "outputs": []
    },
    {
      "cell_type": "code",
      "metadata": {
        "id": "P-gZXVIhuLjs",
        "colab": {
          "base_uri": "https://localhost:8080/"
        },
        "outputId": "26391df7-aaee-4005-fe31-15be820bfbfc"
      },
      "source": [
        "cal_bleu(model, train_loader)"
      ],
      "execution_count": 39,
      "outputs": [
        {
          "output_type": "execute_result",
          "data": {
            "text/plain": [
              "0.8669705680440193"
            ]
          },
          "metadata": {
            "tags": []
          },
          "execution_count": 39
        }
      ]
    },
    {
      "cell_type": "code",
      "metadata": {
        "id": "Qt9ZCGbk9EnL",
        "outputId": "cf0be6be-8d15-4f1e-cf5a-56b6ef68a22c",
        "colab": {
          "base_uri": "https://localhost:8080/"
        }
      },
      "source": [
        "cal_bleu(model, test_loader)"
      ],
      "execution_count": 40,
      "outputs": [
        {
          "output_type": "execute_result",
          "data": {
            "text/plain": [
              "0.20741610057215862"
            ]
          },
          "metadata": {
            "tags": []
          },
          "execution_count": 40
        }
      ]
    },
    {
      "cell_type": "markdown",
      "metadata": {
        "id": "kLS0uKiu9WtW"
      },
      "source": [
        "# 开始训练"
      ]
    },
    {
      "cell_type": "code",
      "metadata": {
        "id": "3ALxD62K8a-s"
      },
      "source": [
        "INPUT_DIM = len(en_TEXT.vocab)\n",
        "OUTPUT_DIM = len(ch_TEXT.vocab)\n",
        "# 超参数\n",
        "BATCH_SIZE = 32\n",
        "ENC_EMB_DIM = 256\n",
        "DEC_EMB_DIM = 256\n",
        "HID_DIM = 512\n",
        "N_LAYERS = 3\n",
        "ENC_DROPOUT = 0.5\n",
        "DEC_DROPOUT = 0.5\n",
        "LEARNING_RATE = 1e-4\n",
        "N_EPOCHS = 70\n",
        "CLIP = 1\n",
        "\n",
        "bidirectional = True\n",
        "attn_method = \"general\"\n",
        "enc = Encoder(INPUT_DIM, ENC_EMB_DIM, HID_DIM, N_LAYERS, ENC_DROPOUT, bidirectional)\n",
        "dec = AttnDecoder(OUTPUT_DIM, DEC_EMB_DIM, HID_DIM, N_LAYERS, DEC_DROPOUT, bidirectional, attn_method)\n",
        "model = Seq2Seq(enc, dec, device, basic_dict=ch_TEXT.vocab.stoi).to(device)\n",
        "\n",
        "optimizer = optim.Adam(model.parameters(), lr=LEARNING_RATE)"
      ],
      "execution_count": 27,
      "outputs": []
    },
    {
      "cell_type": "code",
      "metadata": {
        "id": "A1HXlUlz9_oV"
      },
      "source": [
        "# 数据集\n",
        "train_set = TranslationDataset(en_num_data[:21622], ch_num_data[:21622])\n",
        "test_set = TranslationDataset(en_num_data[21622:], ch_num_data[21622:])\n",
        "\n",
        "train_loader = DataLoader(train_set, batch_size = BATCH_SIZE, collate_fn=padding_batch)\n",
        "test_loader = DataLoader(test_set, batch_size = BATCH_SIZE, collate_fn=padding_batch)\n",
        "# train_set = TranslationDataset(en_num_data, ch_num_data)\n",
        "# train_loader = DataLoader(train_set, batch_size=BATCH_SIZE, collate_fn=padding_batch)"
      ],
      "execution_count": 28,
      "outputs": []
    },
    {
      "cell_type": "code",
      "metadata": {
        "id": "GbnYsq9p-GbI",
        "outputId": "8220694d-911a-49b9-b0f8-61cc5cc8dd32",
        "colab": {
          "base_uri": "https://localhost:8080/",
          "height": 1000
        }
      },
      "source": [
        "best_valid_loss = float('inf')\n",
        "\n",
        "for epoch in range(N_EPOCHS):\n",
        "    \n",
        "    start_time = time.time()\n",
        "    train_loss = train(model, train_loader, optimizer, CLIP)\n",
        "    valid_loss = evaluate(model, train_loader)\n",
        "    test_loss = evaluate(model, test_loader)\n",
        "\n",
        "    end_time = time.time()\n",
        "    \n",
        "    if valid_loss < best_valid_loss:\n",
        "        best_valid_loss = valid_loss\n",
        "        torch.save(model.state_dict(), \"en2ch-attn-model.pt\")\n",
        "\n",
        "    if epoch %2 == 0:\n",
        "        epoch_mins, epoch_secs = epoch_time(start_time, end_time)\n",
        "        print(f'Epoch: {epoch+1:02} | Time: {epoch_mins}m {epoch_secs}s')\n",
        "        print(f'\\tTrain Loss: {train_loss:.3f} | Val. Loss: {valid_loss:.3f} | Test Loss: {test_loss:.3f}')\n",
        "        print(f'\\tTrain Bleu:{cal_bleu(model, train_loader):.3f} | Test Bleu: {cal_bleu(model, test_loader):.3f}')"
      ],
      "execution_count": 30,
      "outputs": [
        {
          "output_type": "stream",
          "text": [
            "Epoch: 01 | Time: 0m 57s\n",
            "\tTrain Loss: 4.750 | Val. Loss: 5.823 | Test Loss: 6.038\n",
            "\tTrain Bleu:0.002 | Test Bleu: 0.004\n",
            "Epoch: 03 | Time: 0m 57s\n",
            "\tTrain Loss: 4.003 | Val. Loss: 4.779 | Test Loss: 5.290\n",
            "Epoch: 05 | Time: 0m 57s\n",
            "\tTrain Loss: 3.503 | Val. Loss: 4.369 | Test Loss: 5.195\n",
            "Epoch: 07 | Time: 0m 57s\n",
            "\tTrain Loss: 3.104 | Val. Loss: 3.848 | Test Loss: 4.948\n",
            "Epoch: 09 | Time: 0m 57s\n",
            "\tTrain Loss: 2.777 | Val. Loss: 3.499 | Test Loss: 4.842\n",
            "Epoch: 11 | Time: 0m 57s\n",
            "\tTrain Loss: 2.495 | Val. Loss: 3.238 | Test Loss: 4.799\n",
            "\tTrain Bleu:0.102 | Test Bleu: 0.068\n",
            "Epoch: 13 | Time: 0m 57s\n",
            "\tTrain Loss: 2.246 | Val. Loss: 3.044 | Test Loss: 4.841\n",
            "Epoch: 15 | Time: 0m 57s\n",
            "\tTrain Loss: 2.024 | Val. Loss: 2.734 | Test Loss: 4.704\n",
            "Epoch: 17 | Time: 0m 57s\n",
            "\tTrain Loss: 1.825 | Val. Loss: 2.502 | Test Loss: 4.675\n",
            "Epoch: 19 | Time: 0m 57s\n",
            "\tTrain Loss: 1.638 | Val. Loss: 2.322 | Test Loss: 4.668\n",
            "Epoch: 21 | Time: 0m 57s\n",
            "\tTrain Loss: 1.487 | Val. Loss: 2.016 | Test Loss: 4.575\n",
            "\tTrain Bleu:0.304 | Test Bleu: 0.127\n",
            "Epoch: 23 | Time: 0m 57s\n",
            "\tTrain Loss: 1.332 | Val. Loss: 1.771 | Test Loss: 4.531\n",
            "Epoch: 25 | Time: 0m 57s\n",
            "\tTrain Loss: 1.210 | Val. Loss: 1.677 | Test Loss: 4.593\n",
            "Epoch: 27 | Time: 0m 57s\n",
            "\tTrain Loss: 1.098 | Val. Loss: 1.541 | Test Loss: 4.616\n",
            "Epoch: 29 | Time: 0m 57s\n",
            "\tTrain Loss: 0.984 | Val. Loss: 1.423 | Test Loss: 4.736\n",
            "Epoch: 31 | Time: 0m 57s\n",
            "\tTrain Loss: 0.887 | Val. Loss: 1.304 | Test Loss: 4.749\n",
            "\tTrain Bleu:0.485 | Test Bleu: 0.150\n",
            "Epoch: 33 | Time: 0m 57s\n",
            "\tTrain Loss: 0.801 | Val. Loss: 1.343 | Test Loss: 4.835\n",
            "Epoch: 35 | Time: 0m 56s\n",
            "\tTrain Loss: 0.704 | Val. Loss: 1.403 | Test Loss: 4.998\n",
            "Epoch: 37 | Time: 0m 57s\n",
            "\tTrain Loss: 0.623 | Val. Loss: 1.272 | Test Loss: 5.064\n",
            "Epoch: 39 | Time: 0m 56s\n",
            "\tTrain Loss: 0.556 | Val. Loss: 1.195 | Test Loss: 5.134\n",
            "Epoch: 41 | Time: 0m 56s\n",
            "\tTrain Loss: 0.506 | Val. Loss: 1.175 | Test Loss: 5.222\n",
            "\tTrain Bleu:0.565 | Test Bleu: 0.151\n",
            "Epoch: 43 | Time: 0m 56s\n",
            "\tTrain Loss: 0.454 | Val. Loss: 0.951 | Test Loss: 5.181\n",
            "Epoch: 45 | Time: 0m 56s\n",
            "\tTrain Loss: 0.399 | Val. Loss: 0.642 | Test Loss: 5.169\n",
            "Epoch: 47 | Time: 0m 56s\n",
            "\tTrain Loss: 0.356 | Val. Loss: 0.479 | Test Loss: 5.172\n",
            "Epoch: 49 | Time: 0m 56s\n",
            "\tTrain Loss: 0.313 | Val. Loss: 0.393 | Test Loss: 5.236\n",
            "Epoch: 51 | Time: 0m 56s\n",
            "\tTrain Loss: 0.281 | Val. Loss: 0.334 | Test Loss: 5.272\n",
            "\tTrain Bleu:0.798 | Test Bleu: 0.196\n",
            "Epoch: 53 | Time: 0m 56s\n",
            "\tTrain Loss: 0.250 | Val. Loss: 0.318 | Test Loss: 5.404\n",
            "Epoch: 55 | Time: 0m 56s\n",
            "\tTrain Loss: 0.229 | Val. Loss: 0.290 | Test Loss: 5.451\n",
            "Epoch: 57 | Time: 0m 56s\n",
            "\tTrain Loss: 0.208 | Val. Loss: 0.265 | Test Loss: 5.553\n",
            "Epoch: 59 | Time: 0m 56s\n",
            "\tTrain Loss: 0.188 | Val. Loss: 0.251 | Test Loss: 5.595\n",
            "Epoch: 61 | Time: 0m 56s\n",
            "\tTrain Loss: 0.174 | Val. Loss: 0.330 | Test Loss: 5.707\n",
            "\tTrain Bleu:0.835 | Test Bleu: 0.203\n",
            "Epoch: 63 | Time: 0m 56s\n",
            "\tTrain Loss: 0.160 | Val. Loss: 0.250 | Test Loss: 5.762\n",
            "Epoch: 65 | Time: 0m 56s\n",
            "\tTrain Loss: 0.152 | Val. Loss: 0.194 | Test Loss: 5.748\n",
            "Epoch: 67 | Time: 0m 56s\n",
            "\tTrain Loss: 0.138 | Val. Loss: 0.203 | Test Loss: 5.832\n",
            "Epoch: 69 | Time: 0m 56s\n",
            "\tTrain Loss: 0.131 | Val. Loss: 0.332 | Test Loss: 5.932\n",
            "Epoch: 71 | Time: 0m 56s\n",
            "\tTrain Loss: 0.123 | Val. Loss: 0.557 | Test Loss: 6.115\n",
            "\tTrain Bleu:0.820 | Test Bleu: 0.193\n",
            "Epoch: 73 | Time: 0m 56s\n",
            "\tTrain Loss: 0.113 | Val. Loss: 0.407 | Test Loss: 6.107\n"
          ],
          "name": "stdout"
        },
        {
          "output_type": "error",
          "ename": "KeyboardInterrupt",
          "evalue": "ignored",
          "traceback": [
            "\u001b[0;31m---------------------------------------------------------------------------\u001b[0m",
            "\u001b[0;31mKeyboardInterrupt\u001b[0m                         Traceback (most recent call last)",
            "\u001b[0;32m<ipython-input-30-60f107a332d4>\u001b[0m in \u001b[0;36m<module>\u001b[0;34m()\u001b[0m\n\u001b[1;32m      4\u001b[0m \u001b[0;34m\u001b[0m\u001b[0m\n\u001b[1;32m      5\u001b[0m     \u001b[0mstart_time\u001b[0m \u001b[0;34m=\u001b[0m \u001b[0mtime\u001b[0m\u001b[0;34m.\u001b[0m\u001b[0mtime\u001b[0m\u001b[0;34m(\u001b[0m\u001b[0;34m)\u001b[0m\u001b[0;34m\u001b[0m\u001b[0;34m\u001b[0m\u001b[0m\n\u001b[0;32m----> 6\u001b[0;31m     \u001b[0mtrain_loss\u001b[0m \u001b[0;34m=\u001b[0m \u001b[0mtrain\u001b[0m\u001b[0;34m(\u001b[0m\u001b[0mmodel\u001b[0m\u001b[0;34m,\u001b[0m \u001b[0mtrain_loader\u001b[0m\u001b[0;34m,\u001b[0m \u001b[0moptimizer\u001b[0m\u001b[0;34m,\u001b[0m \u001b[0mCLIP\u001b[0m\u001b[0;34m)\u001b[0m\u001b[0;34m\u001b[0m\u001b[0;34m\u001b[0m\u001b[0m\n\u001b[0m\u001b[1;32m      7\u001b[0m     \u001b[0mvalid_loss\u001b[0m \u001b[0;34m=\u001b[0m \u001b[0mevaluate\u001b[0m\u001b[0;34m(\u001b[0m\u001b[0mmodel\u001b[0m\u001b[0;34m,\u001b[0m \u001b[0mtrain_loader\u001b[0m\u001b[0;34m)\u001b[0m\u001b[0;34m\u001b[0m\u001b[0;34m\u001b[0m\u001b[0m\n\u001b[1;32m      8\u001b[0m     \u001b[0mtest_loss\u001b[0m \u001b[0;34m=\u001b[0m \u001b[0mevaluate\u001b[0m\u001b[0;34m(\u001b[0m\u001b[0mmodel\u001b[0m\u001b[0;34m,\u001b[0m \u001b[0mtest_loader\u001b[0m\u001b[0;34m)\u001b[0m\u001b[0;34m\u001b[0m\u001b[0;34m\u001b[0m\u001b[0m\n",
            "\u001b[0;32m<ipython-input-20-f5b13f811c6b>\u001b[0m in \u001b[0;36mtrain\u001b[0;34m(model, data_loader, optimizer, clip, teacher_forcing_ratio, print_every)\u001b[0m\n\u001b[1;32m     27\u001b[0m         \u001b[0moptimizer\u001b[0m\u001b[0;34m.\u001b[0m\u001b[0mzero_grad\u001b[0m\u001b[0;34m(\u001b[0m\u001b[0;34m)\u001b[0m\u001b[0;34m\u001b[0m\u001b[0;34m\u001b[0m\u001b[0m\n\u001b[1;32m     28\u001b[0m \u001b[0;34m\u001b[0m\u001b[0m\n\u001b[0;32m---> 29\u001b[0;31m         \u001b[0mloss\u001b[0m \u001b[0;34m=\u001b[0m \u001b[0mmodel\u001b[0m\u001b[0;34m(\u001b[0m\u001b[0minput_batchs\u001b[0m\u001b[0;34m,\u001b[0m \u001b[0minput_lens\u001b[0m\u001b[0;34m,\u001b[0m \u001b[0mtarget_batchs\u001b[0m\u001b[0;34m,\u001b[0m \u001b[0mtarget_lens\u001b[0m\u001b[0;34m,\u001b[0m \u001b[0mteacher_forcing_ratio\u001b[0m\u001b[0;34m)\u001b[0m\u001b[0;34m\u001b[0m\u001b[0;34m\u001b[0m\u001b[0m\n\u001b[0m\u001b[1;32m     30\u001b[0m         \u001b[0mprint_loss_total\u001b[0m \u001b[0;34m+=\u001b[0m \u001b[0mloss\u001b[0m\u001b[0;34m.\u001b[0m\u001b[0mitem\u001b[0m\u001b[0;34m(\u001b[0m\u001b[0;34m)\u001b[0m\u001b[0;34m\u001b[0m\u001b[0;34m\u001b[0m\u001b[0m\n\u001b[1;32m     31\u001b[0m         \u001b[0mepoch_loss\u001b[0m \u001b[0;34m+=\u001b[0m \u001b[0mloss\u001b[0m\u001b[0;34m.\u001b[0m\u001b[0mitem\u001b[0m\u001b[0;34m(\u001b[0m\u001b[0;34m)\u001b[0m\u001b[0;34m\u001b[0m\u001b[0;34m\u001b[0m\u001b[0m\n",
            "\u001b[0;32m/usr/local/lib/python3.7/dist-packages/torch/nn/modules/module.py\u001b[0m in \u001b[0;36m_call_impl\u001b[0;34m(self, *input, **kwargs)\u001b[0m\n\u001b[1;32m    887\u001b[0m             \u001b[0mresult\u001b[0m \u001b[0;34m=\u001b[0m \u001b[0mself\u001b[0m\u001b[0;34m.\u001b[0m\u001b[0m_slow_forward\u001b[0m\u001b[0;34m(\u001b[0m\u001b[0;34m*\u001b[0m\u001b[0minput\u001b[0m\u001b[0;34m,\u001b[0m \u001b[0;34m**\u001b[0m\u001b[0mkwargs\u001b[0m\u001b[0;34m)\u001b[0m\u001b[0;34m\u001b[0m\u001b[0;34m\u001b[0m\u001b[0m\n\u001b[1;32m    888\u001b[0m         \u001b[0;32melse\u001b[0m\u001b[0;34m:\u001b[0m\u001b[0;34m\u001b[0m\u001b[0;34m\u001b[0m\u001b[0m\n\u001b[0;32m--> 889\u001b[0;31m             \u001b[0mresult\u001b[0m \u001b[0;34m=\u001b[0m \u001b[0mself\u001b[0m\u001b[0;34m.\u001b[0m\u001b[0mforward\u001b[0m\u001b[0;34m(\u001b[0m\u001b[0;34m*\u001b[0m\u001b[0minput\u001b[0m\u001b[0;34m,\u001b[0m \u001b[0;34m**\u001b[0m\u001b[0mkwargs\u001b[0m\u001b[0;34m)\u001b[0m\u001b[0;34m\u001b[0m\u001b[0;34m\u001b[0m\u001b[0m\n\u001b[0m\u001b[1;32m    890\u001b[0m         for hook in itertools.chain(\n\u001b[1;32m    891\u001b[0m                 \u001b[0m_global_forward_hooks\u001b[0m\u001b[0;34m.\u001b[0m\u001b[0mvalues\u001b[0m\u001b[0;34m(\u001b[0m\u001b[0;34m)\u001b[0m\u001b[0;34m,\u001b[0m\u001b[0;34m\u001b[0m\u001b[0;34m\u001b[0m\u001b[0m\n",
            "\u001b[0;32m<ipython-input-18-3f4926e3a4ea>\u001b[0m in \u001b[0;36mforward\u001b[0;34m(self, input_batches, input_lengths, target_batches, target_lengths, teacher_forcing_ratio)\u001b[0m\n\u001b[1;32m     74\u001b[0m                     \u001b[0;31m# decoder_hidden = [n_layers*n_directions, batch, hid_dim]\u001b[0m\u001b[0;34m\u001b[0m\u001b[0;34m\u001b[0m\u001b[0;34m\u001b[0m\u001b[0m\n\u001b[1;32m     75\u001b[0m                     decoder_output, decoder_hidden, decoder_attn = self.decoder(\n\u001b[0;32m---> 76\u001b[0;31m                         \u001b[0mdecoder_input\u001b[0m\u001b[0;34m,\u001b[0m \u001b[0mdecoder_hidden\u001b[0m\u001b[0;34m,\u001b[0m \u001b[0mencoder_outputs\u001b[0m\u001b[0;34m\u001b[0m\u001b[0;34m\u001b[0m\u001b[0m\n\u001b[0m\u001b[1;32m     77\u001b[0m                     )\n\u001b[1;32m     78\u001b[0m                     \u001b[0mall_decoder_outputs\u001b[0m\u001b[0;34m[\u001b[0m\u001b[0mt\u001b[0m\u001b[0;34m]\u001b[0m \u001b[0;34m=\u001b[0m \u001b[0mdecoder_output\u001b[0m\u001b[0;34m\u001b[0m\u001b[0;34m\u001b[0m\u001b[0m\n",
            "\u001b[0;32m/usr/local/lib/python3.7/dist-packages/torch/nn/modules/module.py\u001b[0m in \u001b[0;36m_call_impl\u001b[0;34m(self, *input, **kwargs)\u001b[0m\n\u001b[1;32m    887\u001b[0m             \u001b[0mresult\u001b[0m \u001b[0;34m=\u001b[0m \u001b[0mself\u001b[0m\u001b[0;34m.\u001b[0m\u001b[0m_slow_forward\u001b[0m\u001b[0;34m(\u001b[0m\u001b[0;34m*\u001b[0m\u001b[0minput\u001b[0m\u001b[0;34m,\u001b[0m \u001b[0;34m**\u001b[0m\u001b[0mkwargs\u001b[0m\u001b[0;34m)\u001b[0m\u001b[0;34m\u001b[0m\u001b[0;34m\u001b[0m\u001b[0m\n\u001b[1;32m    888\u001b[0m         \u001b[0;32melse\u001b[0m\u001b[0;34m:\u001b[0m\u001b[0;34m\u001b[0m\u001b[0;34m\u001b[0m\u001b[0m\n\u001b[0;32m--> 889\u001b[0;31m             \u001b[0mresult\u001b[0m \u001b[0;34m=\u001b[0m \u001b[0mself\u001b[0m\u001b[0;34m.\u001b[0m\u001b[0mforward\u001b[0m\u001b[0;34m(\u001b[0m\u001b[0;34m*\u001b[0m\u001b[0minput\u001b[0m\u001b[0;34m,\u001b[0m \u001b[0;34m**\u001b[0m\u001b[0mkwargs\u001b[0m\u001b[0;34m)\u001b[0m\u001b[0;34m\u001b[0m\u001b[0;34m\u001b[0m\u001b[0m\n\u001b[0m\u001b[1;32m    890\u001b[0m         for hook in itertools.chain(\n\u001b[1;32m    891\u001b[0m                 \u001b[0m_global_forward_hooks\u001b[0m\u001b[0;34m.\u001b[0m\u001b[0mvalues\u001b[0m\u001b[0;34m(\u001b[0m\u001b[0;34m)\u001b[0m\u001b[0;34m,\u001b[0m\u001b[0;34m\u001b[0m\u001b[0;34m\u001b[0m\u001b[0m\n",
            "\u001b[0;32m<ipython-input-16-22662b35ba0a>\u001b[0m in \u001b[0;36mforward\u001b[0;34m(self, token_inputs, last_hidden, encoder_outputs)\u001b[0m\n\u001b[1;32m     29\u001b[0m         \u001b[0membedded\u001b[0m \u001b[0;34m=\u001b[0m \u001b[0membedded\u001b[0m\u001b[0;34m.\u001b[0m\u001b[0mview\u001b[0m\u001b[0;34m(\u001b[0m\u001b[0;36m1\u001b[0m\u001b[0;34m,\u001b[0m \u001b[0mbatch_size\u001b[0m\u001b[0;34m,\u001b[0m \u001b[0;34m-\u001b[0m\u001b[0;36m1\u001b[0m\u001b[0;34m)\u001b[0m \u001b[0;31m# [1, B, hid_dim]\u001b[0m\u001b[0;34m\u001b[0m\u001b[0;34m\u001b[0m\u001b[0m\n\u001b[1;32m     30\u001b[0m \u001b[0;34m\u001b[0m\u001b[0m\n\u001b[0;32m---> 31\u001b[0;31m         \u001b[0mgru_output\u001b[0m\u001b[0;34m,\u001b[0m \u001b[0mhidden\u001b[0m \u001b[0;34m=\u001b[0m \u001b[0mself\u001b[0m\u001b[0;34m.\u001b[0m\u001b[0mgru\u001b[0m\u001b[0;34m(\u001b[0m\u001b[0membedded\u001b[0m\u001b[0;34m,\u001b[0m \u001b[0mlast_hidden\u001b[0m\u001b[0;34m)\u001b[0m\u001b[0;34m\u001b[0m\u001b[0;34m\u001b[0m\u001b[0m\n\u001b[0m\u001b[1;32m     32\u001b[0m         \u001b[0;31m# gru_output = [1, batch,  n_directions * hid_dim]\u001b[0m\u001b[0;34m\u001b[0m\u001b[0;34m\u001b[0m\u001b[0;34m\u001b[0m\u001b[0m\n\u001b[1;32m     33\u001b[0m         \u001b[0;31m# hidden = [n_layers * n_directions, batch, hid_dim]\u001b[0m\u001b[0;34m\u001b[0m\u001b[0;34m\u001b[0m\u001b[0;34m\u001b[0m\u001b[0m\n",
            "\u001b[0;32m/usr/local/lib/python3.7/dist-packages/torch/nn/modules/module.py\u001b[0m in \u001b[0;36m_call_impl\u001b[0;34m(self, *input, **kwargs)\u001b[0m\n\u001b[1;32m    887\u001b[0m             \u001b[0mresult\u001b[0m \u001b[0;34m=\u001b[0m \u001b[0mself\u001b[0m\u001b[0;34m.\u001b[0m\u001b[0m_slow_forward\u001b[0m\u001b[0;34m(\u001b[0m\u001b[0;34m*\u001b[0m\u001b[0minput\u001b[0m\u001b[0;34m,\u001b[0m \u001b[0;34m**\u001b[0m\u001b[0mkwargs\u001b[0m\u001b[0;34m)\u001b[0m\u001b[0;34m\u001b[0m\u001b[0;34m\u001b[0m\u001b[0m\n\u001b[1;32m    888\u001b[0m         \u001b[0;32melse\u001b[0m\u001b[0;34m:\u001b[0m\u001b[0;34m\u001b[0m\u001b[0;34m\u001b[0m\u001b[0m\n\u001b[0;32m--> 889\u001b[0;31m             \u001b[0mresult\u001b[0m \u001b[0;34m=\u001b[0m \u001b[0mself\u001b[0m\u001b[0;34m.\u001b[0m\u001b[0mforward\u001b[0m\u001b[0;34m(\u001b[0m\u001b[0;34m*\u001b[0m\u001b[0minput\u001b[0m\u001b[0;34m,\u001b[0m \u001b[0;34m**\u001b[0m\u001b[0mkwargs\u001b[0m\u001b[0;34m)\u001b[0m\u001b[0;34m\u001b[0m\u001b[0;34m\u001b[0m\u001b[0m\n\u001b[0m\u001b[1;32m    890\u001b[0m         for hook in itertools.chain(\n\u001b[1;32m    891\u001b[0m                 \u001b[0m_global_forward_hooks\u001b[0m\u001b[0;34m.\u001b[0m\u001b[0mvalues\u001b[0m\u001b[0;34m(\u001b[0m\u001b[0;34m)\u001b[0m\u001b[0;34m,\u001b[0m\u001b[0;34m\u001b[0m\u001b[0;34m\u001b[0m\u001b[0m\n",
            "\u001b[0;32m/usr/local/lib/python3.7/dist-packages/torch/nn/modules/rnn.py\u001b[0m in \u001b[0;36mforward\u001b[0;34m(self, input, hx)\u001b[0m\n\u001b[1;32m    820\u001b[0m         \u001b[0;32mif\u001b[0m \u001b[0mbatch_sizes\u001b[0m \u001b[0;32mis\u001b[0m \u001b[0;32mNone\u001b[0m\u001b[0;34m:\u001b[0m\u001b[0;34m\u001b[0m\u001b[0;34m\u001b[0m\u001b[0m\n\u001b[1;32m    821\u001b[0m             result = _VF.gru(input, hx, self._flat_weights, self.bias, self.num_layers,\n\u001b[0;32m--> 822\u001b[0;31m                              self.dropout, self.training, self.bidirectional, self.batch_first)\n\u001b[0m\u001b[1;32m    823\u001b[0m         \u001b[0;32melse\u001b[0m\u001b[0;34m:\u001b[0m\u001b[0;34m\u001b[0m\u001b[0;34m\u001b[0m\u001b[0m\n\u001b[1;32m    824\u001b[0m             result = _VF.gru(input, batch_sizes, hx, self._flat_weights, self.bias,\n",
            "\u001b[0;31mKeyboardInterrupt\u001b[0m: "
          ]
        }
      ]
    },
    {
      "cell_type": "code",
      "metadata": {
        "id": "2aw5nHpOdm5J",
        "outputId": "4fe32a68-683a-4dee-ac2d-0c7aa00c1539",
        "colab": {
          "base_uri": "https://localhost:8080/"
        }
      },
      "source": [
        "print(\"best valid loss：\", best_valid_loss)\n",
        "# 加载最优权重\n",
        "model.load_state_dict(torch.load(\"en2ch-attn-model.pt\"))"
      ],
      "execution_count": 31,
      "outputs": [
        {
          "output_type": "stream",
          "text": [
            "best valid loss： 0.1928323656048477\n"
          ],
          "name": "stdout"
        },
        {
          "output_type": "execute_result",
          "data": {
            "text/plain": [
              "<All keys matched successfully>"
            ]
          },
          "metadata": {
            "tags": []
          },
          "execution_count": 31
        }
      ]
    },
    {
      "cell_type": "code",
      "metadata": {
        "id": "8hGVhGBydm5R",
        "outputId": "906e96ff-bd12-428d-c74d-94e57dedec4f",
        "colab": {
          "base_uri": "https://localhost:8080/"
        }
      },
      "source": [
        "random.seed(2030)\n",
        "for i in random.sample(range(len(en_num_data)), 10):  # 随机看10个\n",
        "    en_tokens = list(filter(lambda x: x!=1, en_num_data[i]))  # 过滤零\n",
        "    ch_tokens = list(filter(lambda x: x!=3 and x!=1, ch_num_data[i]))  # 和机器翻译作对照\n",
        "    sentence = [en_TEXT.vocab.itos[t] for t in en_tokens]\n",
        "    print(sentence)\n",
        "    print(\"【原文】\")\n",
        "    print(\"\".join(sentence))\n",
        "    translation = [ch_TEXT.vocab.itos[t] for t in ch_tokens]\n",
        "    print(\"【原文】\")\n",
        "    print(\" \".join(translation))\n",
        "    test_sample = {}\n",
        "    test_sample[\"src\"] = torch.tensor(en_tokens, dtype=torch.long, device=device).reshape(-1, 1)\n",
        "    test_sample[\"src_len\"] = [len(en_tokens)]\n",
        "    print(\"【机器翻译】\")\n",
        "    print(translate(model, test_sample, ch_TEXT.vocab.itos), end=\"\\n\\n\")"
      ],
      "execution_count": 32,
      "outputs": [
        {
          "output_type": "stream",
          "text": [
            "['how', 'many', 'rackets', 'do', 'you', 'have', '?', '<eos>']\n",
            "【原文】\n",
            "howmanyracketsdoyouhave?<eos>\n",
            "【原文】\n",
            "你 有 多少 支 球拍 ?\n",
            "【机器翻译】\n",
            "['你', '有', '多少', '支', '球拍', '?']\n",
            "\n",
            "['i', 'filled', 'up', 'the', 'vase', 'with', 'water', '.', '<eos>']\n",
            "【原文】\n",
            "ifilledupthevasewithwater.<eos>\n",
            "【原文】\n",
            "我 倒水 进去 花瓶 里 。\n",
            "【机器翻译】\n",
            "['我', '倒水', '进去', '花瓶', '里', '。']\n",
            "\n",
            "['where', 'can', 'we', 'make', 'a', 'phone', 'call', '?', '<eos>']\n",
            "【原文】\n",
            "wherecanwemakeaphonecall?<eos>\n",
            "【原文】\n",
            "我们 能 在 哪里 打电话 ？\n",
            "【机器翻译】\n",
            "['我们', '能', '在', '哪里', '打电话', '？']\n",
            "\n",
            "['i', 'know', 'you', 'do', \"n't\", 'want', 'to', 'talk', 'to', 'me', '.', '<eos>']\n",
            "【原文】\n",
            "iknowyoudon'twanttotalktome.<eos>\n",
            "【原文】\n",
            "我 知道 你 不想 跟 我 说话 。\n",
            "【机器翻译】\n",
            "['我', '知道', '你', '不想', '跟', '我', '说话', '。']\n",
            "\n",
            "['hug', 'tom', '.', '<eos>']\n",
            "【原文】\n",
            "hugtom.<eos>\n",
            "【原文】\n",
            "抱抱 汤姆 ！\n",
            "【机器翻译】\n",
            "['请', '抱紧', '汤姆', '。']\n",
            "\n",
            "['dutch', 'is', 'closely', 'related', 'to', 'german', '.', '<eos>']\n",
            "【原文】\n",
            "dutchiscloselyrelatedtogerman.<eos>\n",
            "【原文】\n",
            "荷兰语 与 德语 关系密切 。\n",
            "【机器翻译】\n",
            "['荷兰语', '与', '德语', '关系密切', '。']\n",
            "\n",
            "['they', 'have', 'many', 'friends', '.', '<eos>']\n",
            "【原文】\n",
            "theyhavemanyfriends.<eos>\n",
            "【原文】\n",
            "他们 有 很多 朋友 。\n",
            "【机器翻译】\n",
            "['他们', '有', '很多', '朋友', '。']\n",
            "\n",
            "['sorry', ',', 'i', \"'ve\", 'got', 'my', 'hands', 'full', 'now', '.', '<eos>']\n",
            "【原文】\n",
            "sorry,i'vegotmyhandsfullnow.<eos>\n",
            "【原文】\n",
            "对不起 ， 现在 我 手上 都 是 东西 了 。\n",
            "【机器翻译】\n",
            "['对不起', '，', '现在', '我', '手上', '都', '是', '东西', '了', '。']\n",
            "\n",
            "['where', 'do', 'i', 'have', 'to', 'change', 'trains', '?', '<eos>']\n",
            "【原文】\n",
            "wheredoihavetochangetrains?<eos>\n",
            "【原文】\n",
            "我要 在 哪里 换 火车 ？\n",
            "【机器翻译】\n",
            "['我要', '在', '哪里', '换', '火车', '？']\n",
            "\n",
            "['he', 'told', 'us', 'an', 'interesting', 'story', '.', '<eos>']\n",
            "【原文】\n",
            "hetoldusaninterestingstory.<eos>\n",
            "【原文】\n",
            "他 给 我们 讲 了 一个 有趣 的 故事 。\n",
            "【机器翻译】\n",
            "['他', '告诉', '了', '我们', '一个', '有趣', '的', '故事', '。']\n",
            "\n"
          ],
          "name": "stdout"
        }
      ]
    },
    {
      "cell_type": "code",
      "metadata": {
        "id": "k0_5yNr-dm5a"
      },
      "source": [
        "def translate_sentence(sentence):\n",
        "  en_tokens = [en_TEXT.vocab.stoi[t] for t in sentence]\n",
        "  test_sample = {}\n",
        "  test_sample[\"src\"] = torch.tensor(en_tokens, dtype=torch.long, device=device).reshape(-1, 1)\n",
        "  test_sample[\"src_len\"] = [len(en_tokens)]\n",
        "  print(\"【机器翻译】\")\n",
        "  print(translate(model, test_sample, ch_TEXT.vocab.itos), end=\"\\n\\n\")\n",
        "\n",
        "\n"
      ],
      "execution_count": 33,
      "outputs": []
    },
    {
      "cell_type": "code",
      "metadata": {
        "id": "_ZCY_T5Jv1tP",
        "outputId": "e8069a57-e9ce-4db5-8973-95cac5c29a2b",
        "colab": {
          "base_uri": "https://localhost:8080/"
        }
      },
      "source": [
        "test = ['say', 'hi', 'to', 'tom', '!'] + ['<eos>']\n",
        "translate_sentence(test)"
      ],
      "execution_count": 38,
      "outputs": [
        {
          "output_type": "stream",
          "text": [
            "【机器翻译】\n",
            "['对', '汤姆', '说话', '得', '！']\n",
            "\n"
          ],
          "name": "stdout"
        }
      ]
    },
    {
      "cell_type": "code",
      "metadata": {
        "id": "KOrYdVf-w63Z"
      },
      "source": [
        "en_TEXT.vocab.itos"
      ],
      "execution_count": null,
      "outputs": []
    }
  ]
}