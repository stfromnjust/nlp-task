{
  "nbformat": 4,
  "nbformat_minor": 0,
  "metadata": {
    "accelerator": "GPU",
    "colab": {
      "name": "Seq2SeqForTranslation.ipynb",
      "provenance": [],
      "collapsed_sections": [],
      "toc_visible": true,
      "include_colab_link": true
    },
    "kernelspec": {
      "display_name": "Python 3",
      "language": "python",
      "name": "python3"
    },
    "language_info": {
      "codemirror_mode": {
        "name": "ipython",
        "version": 3
      },
      "file_extension": ".py",
      "mimetype": "text/x-python",
      "name": "python",
      "nbconvert_exporter": "python",
      "pygments_lexer": "ipython3",
      "version": "3.6.8"
    }
  },
  "cells": [
    {
      "cell_type": "markdown",
      "metadata": {
        "id": "view-in-github",
        "colab_type": "text"
      },
      "source": [
        "<a href=\"https://colab.research.google.com/github/stfromnjust/nlp-task/blob/main/Seq2SeqForTranslation_general.ipynb\" target=\"_parent\"><img src=\"https://colab.research.google.com/assets/colab-badge.svg\" alt=\"Open In Colab\"/></a>"
      ]
    },
    {
      "cell_type": "markdown",
      "metadata": {
        "id": "LyLu9jiPmg2v"
      },
      "source": [
        "# 下载数据 必要配置"
      ]
    },
    {
      "cell_type": "code",
      "metadata": {
        "colab": {
          "base_uri": "https://localhost:8080/"
        },
        "id": "kJeO6mpHlHTs",
        "outputId": "d16c3fa6-bdec-4b31-a951-9d485f32daf8"
      },
      "source": [
        "# 查看GPU配置\n",
        "!/opt/bin/nvidia-smi"
      ],
      "execution_count": 1,
      "outputs": [
        {
          "output_type": "stream",
          "text": [
            "Sun Jun  6 12:28:57 2021       \n",
            "+-----------------------------------------------------------------------------+\n",
            "| NVIDIA-SMI 460.32.03    Driver Version: 460.32.03    CUDA Version: 11.2     |\n",
            "|-------------------------------+----------------------+----------------------+\n",
            "| GPU  Name        Persistence-M| Bus-Id        Disp.A | Volatile Uncorr. ECC |\n",
            "| Fan  Temp  Perf  Pwr:Usage/Cap|         Memory-Usage | GPU-Util  Compute M. |\n",
            "|                               |                      |               MIG M. |\n",
            "|===============================+======================+======================|\n",
            "|   0  Tesla P100-PCIE...  Off  | 00000000:00:04.0 Off |                    0 |\n",
            "| N/A   35C    P0    27W / 250W |      0MiB / 16280MiB |      0%      Default |\n",
            "|                               |                      |                  N/A |\n",
            "+-------------------------------+----------------------+----------------------+\n",
            "                                                                               \n",
            "+-----------------------------------------------------------------------------+\n",
            "| Processes:                                                                  |\n",
            "|  GPU   GI   CI        PID   Type   Process name                  GPU Memory |\n",
            "|        ID   ID                                                   Usage      |\n",
            "|=============================================================================|\n",
            "|  No running processes found                                                 |\n",
            "+-----------------------------------------------------------------------------+\n"
          ],
          "name": "stdout"
        }
      ]
    },
    {
      "cell_type": "code",
      "metadata": {
        "id": "6q7dDydT7n2d",
        "colab": {
          "base_uri": "https://localhost:8080/"
        },
        "outputId": "d01cacdd-e48a-48c8-d67f-aa1c8a2f3776"
      },
      "source": [
        "# 下载数据集\n",
        "!wget https://github.com/stfromnjust/nlp-task/raw/main/cmn-eng.zip\n",
        "!unzip -d ./cmn-eng cmn-eng.zip"
      ],
      "execution_count": 2,
      "outputs": [
        {
          "output_type": "stream",
          "text": [
            "--2021-06-06 12:28:58--  https://github.com/stfromnjust/nlp-task/raw/main/cmn-eng.zip\n",
            "Resolving github.com (github.com)... 140.82.121.4\n",
            "Connecting to github.com (github.com)|140.82.121.4|:443... connected.\n",
            "HTTP request sent, awaiting response... 302 Found\n",
            "Location: https://raw.githubusercontent.com/stfromnjust/nlp-task/main/cmn-eng.zip [following]\n",
            "--2021-06-06 12:28:58--  https://raw.githubusercontent.com/stfromnjust/nlp-task/main/cmn-eng.zip\n",
            "Resolving raw.githubusercontent.com (raw.githubusercontent.com)... 185.199.110.133, 185.199.109.133, 185.199.111.133, ...\n",
            "Connecting to raw.githubusercontent.com (raw.githubusercontent.com)|185.199.110.133|:443... connected.\n",
            "HTTP request sent, awaiting response... 200 OK\n",
            "Length: 1049235 (1.0M) [application/zip]\n",
            "Saving to: ‘cmn-eng.zip’\n",
            "\n",
            "cmn-eng.zip         100%[===================>]   1.00M  --.-KB/s    in 0.05s   \n",
            "\n",
            "2021-06-06 12:28:59 (21.6 MB/s) - ‘cmn-eng.zip’ saved [1049235/1049235]\n",
            "\n",
            "Archive:  cmn-eng.zip\n",
            "   creating: ./cmn-eng/cmn-eng/\n",
            "  inflating: ./cmn-eng/cmn-eng/cmn.txt  \n",
            "  inflating: ./cmn-eng/cmn-eng/_about.txt  \n"
          ],
          "name": "stdout"
        }
      ]
    },
    {
      "cell_type": "code",
      "metadata": {
        "colab": {
          "base_uri": "https://localhost:8080/"
        },
        "id": "14phLx9_dit4",
        "outputId": "37e93146-7995-4e6a-8131-0b53a046075e"
      },
      "source": [
        "# 下载中文字体\n",
        "!wget https://github.com/stfromnjust/nlp-task/raw/main/simheittf.zip\n",
        "!unzip -d ./simheittf simheittf.zip"
      ],
      "execution_count": 3,
      "outputs": [
        {
          "output_type": "stream",
          "text": [
            "--2021-06-06 12:28:59--  https://github.com/stfromnjust/nlp-task/raw/main/simheittf.zip\n",
            "Resolving github.com (github.com)... 140.82.121.3\n",
            "Connecting to github.com (github.com)|140.82.121.3|:443... connected.\n",
            "HTTP request sent, awaiting response... 302 Found\n",
            "Location: https://raw.githubusercontent.com/stfromnjust/nlp-task/main/simheittf.zip [following]\n",
            "--2021-06-06 12:28:59--  https://raw.githubusercontent.com/stfromnjust/nlp-task/main/simheittf.zip\n",
            "Resolving raw.githubusercontent.com (raw.githubusercontent.com)... 185.199.110.133, 185.199.108.133, 185.199.109.133, ...\n",
            "Connecting to raw.githubusercontent.com (raw.githubusercontent.com)|185.199.110.133|:443... connected.\n",
            "HTTP request sent, awaiting response... 200 OK\n",
            "Length: 5129593 (4.9M) [application/zip]\n",
            "Saving to: ‘simheittf.zip’\n",
            "\n",
            "simheittf.zip       100%[===================>]   4.89M  --.-KB/s    in 0.1s    \n",
            "\n",
            "2021-06-06 12:29:00 (47.8 MB/s) - ‘simheittf.zip’ saved [5129593/5129593]\n",
            "\n",
            "Archive:  simheittf.zip\n",
            "   creating: ./simheittf/simheittf/\n",
            "  inflating: ./simheittf/simheittf/simhei.ttf  \n"
          ],
          "name": "stdout"
        }
      ]
    },
    {
      "cell_type": "code",
      "metadata": {
        "id": "Zo7QCacp7n2s"
      },
      "source": [
        "seed = 2030"
      ],
      "execution_count": 4,
      "outputs": []
    },
    {
      "cell_type": "code",
      "metadata": {
        "id": "q2fEi0_oNVGl",
        "colab": {
          "base_uri": "https://localhost:8080/"
        },
        "outputId": "07c54dbd-c736-4760-a01c-2848d3cf2475"
      },
      "source": [
        "!pip install opencc"
      ],
      "execution_count": 5,
      "outputs": [
        {
          "output_type": "stream",
          "text": [
            "Collecting opencc\n",
            "\u001b[?25l  Downloading https://files.pythonhosted.org/packages/25/a1/83402033399c7bc61482f45e186156f6c51c8ca5cf4a66f22039a586a520/OpenCC-1.1.2-cp37-cp37m-manylinux1_x86_64.whl (765kB)\n",
            "\r\u001b[K     |▍                               | 10kB 19.8MB/s eta 0:00:01\r\u001b[K     |▉                               | 20kB 27.1MB/s eta 0:00:01\r\u001b[K     |█▎                              | 30kB 21.5MB/s eta 0:00:01\r\u001b[K     |█▊                              | 40kB 16.9MB/s eta 0:00:01\r\u001b[K     |██▏                             | 51kB 15.9MB/s eta 0:00:01\r\u001b[K     |██▋                             | 61kB 17.9MB/s eta 0:00:01\r\u001b[K     |███                             | 71kB 14.0MB/s eta 0:00:01\r\u001b[K     |███▍                            | 81kB 13.2MB/s eta 0:00:01\r\u001b[K     |███▉                            | 92kB 14.0MB/s eta 0:00:01\r\u001b[K     |████▎                           | 102kB 14.9MB/s eta 0:00:01\r\u001b[K     |████▊                           | 112kB 14.9MB/s eta 0:00:01\r\u001b[K     |█████▏                          | 122kB 14.9MB/s eta 0:00:01\r\u001b[K     |█████▋                          | 133kB 14.9MB/s eta 0:00:01\r\u001b[K     |██████                          | 143kB 14.9MB/s eta 0:00:01\r\u001b[K     |██████▍                         | 153kB 14.9MB/s eta 0:00:01\r\u001b[K     |██████▉                         | 163kB 14.9MB/s eta 0:00:01\r\u001b[K     |███████▎                        | 174kB 14.9MB/s eta 0:00:01\r\u001b[K     |███████▊                        | 184kB 14.9MB/s eta 0:00:01\r\u001b[K     |████████▏                       | 194kB 14.9MB/s eta 0:00:01\r\u001b[K     |████████▋                       | 204kB 14.9MB/s eta 0:00:01\r\u001b[K     |█████████                       | 215kB 14.9MB/s eta 0:00:01\r\u001b[K     |█████████▍                      | 225kB 14.9MB/s eta 0:00:01\r\u001b[K     |█████████▉                      | 235kB 14.9MB/s eta 0:00:01\r\u001b[K     |██████████▎                     | 245kB 14.9MB/s eta 0:00:01\r\u001b[K     |██████████▊                     | 256kB 14.9MB/s eta 0:00:01\r\u001b[K     |███████████▏                    | 266kB 14.9MB/s eta 0:00:01\r\u001b[K     |███████████▌                    | 276kB 14.9MB/s eta 0:00:01\r\u001b[K     |████████████                    | 286kB 14.9MB/s eta 0:00:01\r\u001b[K     |████████████▍                   | 296kB 14.9MB/s eta 0:00:01\r\u001b[K     |████████████▉                   | 307kB 14.9MB/s eta 0:00:01\r\u001b[K     |█████████████▎                  | 317kB 14.9MB/s eta 0:00:01\r\u001b[K     |█████████████▊                  | 327kB 14.9MB/s eta 0:00:01\r\u001b[K     |██████████████▏                 | 337kB 14.9MB/s eta 0:00:01\r\u001b[K     |██████████████▌                 | 348kB 14.9MB/s eta 0:00:01\r\u001b[K     |███████████████                 | 358kB 14.9MB/s eta 0:00:01\r\u001b[K     |███████████████▍                | 368kB 14.9MB/s eta 0:00:01\r\u001b[K     |███████████████▉                | 378kB 14.9MB/s eta 0:00:01\r\u001b[K     |████████████████▎               | 389kB 14.9MB/s eta 0:00:01\r\u001b[K     |████████████████▊               | 399kB 14.9MB/s eta 0:00:01\r\u001b[K     |█████████████████▏              | 409kB 14.9MB/s eta 0:00:01\r\u001b[K     |█████████████████▌              | 419kB 14.9MB/s eta 0:00:01\r\u001b[K     |██████████████████              | 430kB 14.9MB/s eta 0:00:01\r\u001b[K     |██████████████████▍             | 440kB 14.9MB/s eta 0:00:01\r\u001b[K     |██████████████████▉             | 450kB 14.9MB/s eta 0:00:01\r\u001b[K     |███████████████████▎            | 460kB 14.9MB/s eta 0:00:01\r\u001b[K     |███████████████████▊            | 471kB 14.9MB/s eta 0:00:01\r\u001b[K     |████████████████████            | 481kB 14.9MB/s eta 0:00:01\r\u001b[K     |████████████████████▌           | 491kB 14.9MB/s eta 0:00:01\r\u001b[K     |█████████████████████           | 501kB 14.9MB/s eta 0:00:01\r\u001b[K     |█████████████████████▍          | 512kB 14.9MB/s eta 0:00:01\r\u001b[K     |█████████████████████▉          | 522kB 14.9MB/s eta 0:00:01\r\u001b[K     |██████████████████████▎         | 532kB 14.9MB/s eta 0:00:01\r\u001b[K     |██████████████████████▊         | 542kB 14.9MB/s eta 0:00:01\r\u001b[K     |███████████████████████         | 552kB 14.9MB/s eta 0:00:01\r\u001b[K     |███████████████████████▌        | 563kB 14.9MB/s eta 0:00:01\r\u001b[K     |████████████████████████        | 573kB 14.9MB/s eta 0:00:01\r\u001b[K     |████████████████████████▍       | 583kB 14.9MB/s eta 0:00:01\r\u001b[K     |████████████████████████▉       | 593kB 14.9MB/s eta 0:00:01\r\u001b[K     |█████████████████████████▎      | 604kB 14.9MB/s eta 0:00:01\r\u001b[K     |█████████████████████████▊      | 614kB 14.9MB/s eta 0:00:01\r\u001b[K     |██████████████████████████      | 624kB 14.9MB/s eta 0:00:01\r\u001b[K     |██████████████████████████▌     | 634kB 14.9MB/s eta 0:00:01\r\u001b[K     |███████████████████████████     | 645kB 14.9MB/s eta 0:00:01\r\u001b[K     |███████████████████████████▍    | 655kB 14.9MB/s eta 0:00:01\r\u001b[K     |███████████████████████████▉    | 665kB 14.9MB/s eta 0:00:01\r\u001b[K     |████████████████████████████▎   | 675kB 14.9MB/s eta 0:00:01\r\u001b[K     |████████████████████████████▋   | 686kB 14.9MB/s eta 0:00:01\r\u001b[K     |█████████████████████████████   | 696kB 14.9MB/s eta 0:00:01\r\u001b[K     |█████████████████████████████▌  | 706kB 14.9MB/s eta 0:00:01\r\u001b[K     |██████████████████████████████  | 716kB 14.9MB/s eta 0:00:01\r\u001b[K     |██████████████████████████████▍ | 727kB 14.9MB/s eta 0:00:01\r\u001b[K     |██████████████████████████████▉ | 737kB 14.9MB/s eta 0:00:01\r\u001b[K     |███████████████████████████████▎| 747kB 14.9MB/s eta 0:00:01\r\u001b[K     |███████████████████████████████▋| 757kB 14.9MB/s eta 0:00:01\r\u001b[K     |████████████████████████████████| 768kB 14.9MB/s \n",
            "\u001b[?25hInstalling collected packages: opencc\n",
            "Successfully installed opencc-1.1.2\n"
          ],
          "name": "stdout"
        }
      ]
    },
    {
      "cell_type": "code",
      "metadata": {
        "id": "05LtExs57n20"
      },
      "source": [
        "import torch\n",
        "import torch.nn as nn\n",
        "import torch.optim as optim\n",
        "import torch.nn.functional as F\n",
        "from torch.utils.data import Dataset, DataLoader\n",
        "from torchtext.legacy.data import *\n",
        "\n",
        "import time\n",
        "import math\n",
        "import random\n",
        "import numpy as np\n",
        "\n",
        "import jieba\n",
        "import spacy\n",
        "import opencc\n",
        "from nltk.translate.bleu_score import corpus_bleu\n",
        "\n",
        "import matplotlib.pyplot as plt\n",
        "from matplotlib.font_manager import FontProperties"
      ],
      "execution_count": 6,
      "outputs": []
    },
    {
      "cell_type": "code",
      "metadata": {
        "id": "B7h691pQdmyW",
        "colab": {
          "base_uri": "https://localhost:8080/"
        },
        "outputId": "8ad913b0-1460-42c0-fc21-bfe7fc5af5f9"
      },
      "source": [
        "device = torch.device('cuda' if torch.cuda.is_available() else 'cpu')\n",
        "device"
      ],
      "execution_count": 7,
      "outputs": [
        {
          "output_type": "execute_result",
          "data": {
            "text/plain": [
              "device(type='cuda')"
            ]
          },
          "metadata": {
            "tags": []
          },
          "execution_count": 7
        }
      ]
    },
    {
      "cell_type": "markdown",
      "metadata": {
        "id": "QW9iTQeF7n2-"
      },
      "source": [
        "# 读取数据"
      ]
    },
    {
      "cell_type": "code",
      "metadata": {
        "id": "9TBhsBe27n3A",
        "colab": {
          "base_uri": "https://localhost:8080/",
          "height": 103
        },
        "outputId": "c3992151-3811-4daa-d9db-719a72b5df74"
      },
      "source": [
        "# 每一行数据如下\n",
        "# 'Hi.\\t嗨。\\tCC-BY 2.0 (France) Attribution: tatoeba.org #538123 (CM) & #891077 (Martha)'\n",
        "with open('./cmn-eng/cmn-eng/cmn.txt', 'r', encoding='utf-8') as f:\n",
        "    data = f.read()\n",
        "data = data.strip()\n",
        "data = data.split('\\n')\n",
        "print('样本数:\\n', len(data))\n",
        "print('\\n样本示例:')\n",
        "data[0]"
      ],
      "execution_count": 8,
      "outputs": [
        {
          "output_type": "stream",
          "text": [
            "样本数:\n",
            " 24818\n",
            "\n",
            "样本示例:\n"
          ],
          "name": "stdout"
        },
        {
          "output_type": "execute_result",
          "data": {
            "application/vnd.google.colaboratory.intrinsic+json": {
              "type": "string"
            },
            "text/plain": [
              "'Hi.\\t嗨。\\tCC-BY 2.0 (France) Attribution: tatoeba.org #538123 (CM) & #891077 (Martha)'"
            ]
          },
          "metadata": {
            "tags": []
          },
          "execution_count": 8
        }
      ]
    },
    {
      "cell_type": "code",
      "metadata": {
        "id": "vXXhro447n3F",
        "colab": {
          "base_uri": "https://localhost:8080/"
        },
        "outputId": "bc2eecd8-fcb2-4293-f920-c8b33f9ee79c"
      },
      "source": [
        "# 分割英文数据和中文数据\n",
        "# 繁体中文转简体中文\n",
        "# 英文改为全小写\n",
        "cc = opencc.OpenCC('t2s')\n",
        "\n",
        "en_data = [line.split('\\t')[0].lower() for line in data]\n",
        "ch_data = [cc.convert(line.split('\\t')[1]) for line in data]\n",
        "\n",
        "print('英文数据:\\n', en_data[:10])\n",
        "print('\\n中文数据:\\n', ch_data[:10])"
      ],
      "execution_count": 9,
      "outputs": [
        {
          "output_type": "stream",
          "text": [
            "英文数据:\n",
            " ['hi.', 'hi.', 'run.', 'wait!', 'wait!', 'hello!', 'i try.', 'i won!', 'oh no!', 'cheers!']\n",
            "\n",
            "中文数据:\n",
            " ['嗨。', '你好。', '你用跑的。', '等等！', '等一下！', '你好。', '让我来。', '我赢了。', '不会吧。', '干杯!']\n"
          ],
          "name": "stdout"
        }
      ]
    },
    {
      "cell_type": "markdown",
      "metadata": {
        "id": "Vx-jKO_vuZbM"
      },
      "source": [
        "# 分词"
      ]
    },
    {
      "cell_type": "code",
      "metadata": {
        "id": "k1ioMRh17n3O",
        "colab": {
          "base_uri": "https://localhost:8080/"
        },
        "outputId": "c8fd8def-6043-467c-cbeb-02f71f8348d6"
      },
      "source": [
        "# 中文使用jieba分词\n",
        "ch_token_list = []\n",
        "for line in ch_data:\n",
        "  ch_token_list.append(list(jieba.cut(line)) + ['<eos>'])\n",
        "\n",
        "# 英文使用spacy分词\n",
        "nlp = spacy.load('en')\n",
        "en_token_list = []\n",
        "for line in en_data:\n",
        "  doc = nlp(line)\n",
        "  en_new = []\n",
        "  for token in doc:\n",
        "    en_new.append(token.text)\n",
        "  en_token_list.append(en_new + ['<eos>'])\n",
        "\n",
        "# 测试\n",
        "print('英文数据:\\n', en_token_list[:3])\n",
        "print('中文数据:\\n', ch_token_list[:3])"
      ],
      "execution_count": 10,
      "outputs": [
        {
          "output_type": "stream",
          "text": [
            "Building prefix dict from the default dictionary ...\n",
            "Dumping model to file cache /tmp/jieba.cache\n",
            "Loading model cost 0.801 seconds.\n",
            "Prefix dict has been built successfully.\n"
          ],
          "name": "stderr"
        },
        {
          "output_type": "stream",
          "text": [
            "英文数据:\n",
            " [['hi', '.', '<eos>'], ['hi', '.', '<eos>'], ['run', '.', '<eos>']]\n",
            "中文数据:\n",
            " [['嗨', '。', '<eos>'], ['你好', '。', '<eos>'], ['你', '用', '跑', '的', '。', '<eos>']]\n"
          ],
          "name": "stdout"
        }
      ]
    },
    {
      "cell_type": "markdown",
      "metadata": {
        "id": "jwip6aLDueJb"
      },
      "source": [
        "# 建立词典"
      ]
    },
    {
      "cell_type": "code",
      "metadata": {
        "colab": {
          "base_uri": "https://localhost:8080/"
        },
        "id": "-j9z6q06phw3",
        "outputId": "2f22a629-1176-4604-8274-4d13970e27e1"
      },
      "source": [
        "# 利用torchtext的build_vocab函数创建词典\n",
        "ch_TEXT = Field()\n",
        "ch_TEXT.build_vocab(ch_token_list[:21622], specials=['<pad>', '<unk>', '<bos>', '<eos>'])\n",
        "en_TEXT = Field()\n",
        "en_TEXT.build_vocab(en_token_list[:21622], specials=['<pad>', '<unk>', '<bos>', '<eos>'])\n",
        "\n",
        "print('英文词典: ')\n",
        "print('英文词数量: ', len(en_TEXT.vocab))\n",
        "print('英文词典前20个: ', en_TEXT.vocab.itos[:20])\n",
        "print('英文<unk>编号:', en_TEXT.vocab.stoi['<unk>'])\n",
        "\n",
        "print('\\n中文词典: ')\n",
        "print('中文词数量: ', len(ch_TEXT.vocab))\n",
        "print('中文词典前20个', ch_TEXT.vocab.itos[:20])\n",
        "print('中文<unk>编号:', ch_TEXT.vocab.stoi['<unk>'])"
      ],
      "execution_count": 11,
      "outputs": [
        {
          "output_type": "stream",
          "text": [
            "英文词典: \n",
            "英文词数量:  6288\n",
            "英文词典前20个:  ['<unk>', '<pad>', '<bos>', '<eos>', '.', 'i', 'the', 'to', 'you', 'a', '?', 'is', 'he', \"n't\", 'tom', 'do', 'it', 'in', \"'s\", 'of']\n",
            "英文<unk>编号: 0\n",
            "\n",
            "中文词典: \n",
            "中文词数量:  10742\n",
            "中文词典前20个 ['<unk>', '<pad>', '<bos>', '<eos>', '。', '我', '的', '了', '你', '他', '？', '在', '汤姆', '是', '她', '吗', '我们', '，', '不', '很']\n",
            "中文<unk>编号: 0\n"
          ],
          "name": "stdout"
        }
      ]
    },
    {
      "cell_type": "code",
      "metadata": {
        "id": "jLIjhvZt7n3e",
        "colab": {
          "base_uri": "https://localhost:8080/"
        },
        "outputId": "3393ef0a-4e7f-4445-9b03-42660b5da914"
      },
      "source": [
        "# 利用词典，映射数据 \n",
        "en_num_data = [[en_TEXT.vocab.stoi[token] for token in line ] for line in en_token_list]\n",
        "ch_num_data = [[ch_TEXT.vocab.stoi[token] for token in line] for line in ch_token_list]\n",
        "\n",
        "print('char:', en_data[1])\n",
        "print('index:', en_num_data[1])"
      ],
      "execution_count": 12,
      "outputs": [
        {
          "output_type": "stream",
          "text": [
            "char: hi.\n",
            "index: [1878, 4, 3]\n"
          ],
          "name": "stdout"
        }
      ]
    },
    {
      "cell_type": "markdown",
      "metadata": {
        "id": "IZ5ZtQfN7n3j"
      },
      "source": [
        "# 表示为Dataset"
      ]
    },
    {
      "cell_type": "code",
      "metadata": {
        "id": "PPTYSlOw7n3k"
      },
      "source": [
        "class TranslationDataset(Dataset):\n",
        "    def __init__(self, src_data, trg_data):\n",
        "        self.src_data = src_data\n",
        "        self.trg_data = trg_data\n",
        "\n",
        "        assert len(src_data) == len(trg_data), \\\n",
        "            \"numbers of src_data  and trg_data must be equal!\"\n",
        "\n",
        "    def __len__(self):\n",
        "        return len(self.src_data)\n",
        "\n",
        "    def __getitem__(self, idx):\n",
        "        src_sample =self.src_data[idx]\n",
        "        src_len = len(self.src_data[idx])\n",
        "        trg_sample = self.trg_data[idx]\n",
        "        trg_len = len(self.trg_data[idx])\n",
        "        \n",
        "        return {\"src\": src_sample, \"src_len\": src_len, \"trg\": trg_sample, \"trg_len\": trg_len}"
      ],
      "execution_count": 13,
      "outputs": []
    },
    {
      "cell_type": "code",
      "metadata": {
        "id": "yUKfKfpc7n3p"
      },
      "source": [
        "def padding_batch(batch):\n",
        "    \"\"\"\n",
        "    input: -> list of dict\n",
        "        [{'src': [1, 2, 3], 'trg': [1, 2, 3]}, {'src': [1, 2, 2, 3], 'trg': [1, 2, 2, 3]}]\n",
        "    output: -> dict of tensor \n",
        "        {\n",
        "            \"src\": [[1, 2, 3, 0], [1, 2, 2, 3]].T\n",
        "            \"trg\": [[1, 2, 3, 0], [1, 2, 2, 3]].T\n",
        "        }\n",
        "    \"\"\"\n",
        "    src_lens = [d[\"src_len\"] for d in batch]\n",
        "    trg_lens = [d[\"trg_len\"] for d in batch]\n",
        "    # 根据batch中最长的序列进行padding\n",
        "    src_max = max([d[\"src_len\"] for d in batch])\n",
        "    trg_max = max([d[\"trg_len\"] for d in batch])\n",
        "    for d in batch:\n",
        "        d[\"src\"].extend([en_TEXT.vocab.stoi[\"<pad>\"]] * (src_max-d[\"src_len\"]))\n",
        "        d[\"trg\"].extend([ch_TEXT.vocab.stoi[\"<pad>\"]] * (trg_max-d[\"trg_len\"]))\n",
        "    srcs = torch.tensor([pair[\"src\"] for pair in batch], dtype=torch.long, device=device)\n",
        "    trgs = torch.tensor([pair[\"trg\"] for pair in batch], dtype=torch.long, device=device)\n",
        "    \n",
        "    batch = {\"src\":srcs.T, \"src_len\":src_lens, \"trg\":trgs.T, \"trg_len\":trg_lens}\n",
        "    \n",
        "    return batch"
      ],
      "execution_count": 14,
      "outputs": []
    },
    {
      "cell_type": "markdown",
      "metadata": {
        "id": "Es1g11r09g9v"
      },
      "source": [
        "# Attention机制"
      ]
    },
    {
      "cell_type": "code",
      "metadata": {
        "id": "SBpm6azx_FLe"
      },
      "source": [
        "class Encoder(nn.Module):\n",
        "  \"\"\"\n",
        "  编码器模块\n",
        "  \"\"\"\n",
        "  def __init__(self, input_dim, emb_dim, hid_dim, n_layers, dropout=0.5, bidirectional=True):\n",
        "        super(Encoder, self).__init__()\n",
        "        self.hid_dim = hid_dim  # 隐藏状态维度\n",
        "        self.n_layers = n_layers  # GRU层数\n",
        "        self.embedding = nn.Embedding(input_dim, emb_dim) # 词嵌入\n",
        "        self.gru = nn.GRU(emb_dim, hid_dim, n_layers, dropout=dropout, bidirectional=bidirectional)\n",
        "        \n",
        "  def forward(self, input_seqs, input_lengths, hidden):\n",
        "        # input_seqs = [seq_len, batch]\n",
        "        # input_lengths 对应每个输入序列的长度\n",
        "        embedded = self.embedding(input_seqs)    # embedded = [seq_len, batch, embed_dim] \n",
        "        packed = torch.nn.utils.rnn.pack_padded_sequence(embedded, input_lengths, enforce_sorted=False) \n",
        " \n",
        "        outputs, hidden = self.gru(packed, hidden)        \n",
        "        outputs, output_lengths = torch.nn.utils.rnn.pad_packed_sequence(outputs)\n",
        "        # outputs = [seq_len, batch, hid_dim * n directions]\n",
        "        # output_lengths = [batch]\n",
        "\n",
        "        return outputs, hidden"
      ],
      "execution_count": 15,
      "outputs": []
    },
    {
      "cell_type": "code",
      "metadata": {
        "id": "rMbsHQa38Kv1"
      },
      "source": [
        "class Attn(nn.Module):\n",
        "  \"\"\"\n",
        "  注意力模块\n",
        "  \"\"\"\n",
        "  def __init__(self, method, hidden_size):\n",
        "        super(Attn, self).__init__()\n",
        "        self.method = method\n",
        "        if self.method not in ['dot', 'general', 'concat']:\n",
        "            raise ValueError(self.method, \"is not an appropriate attention method.\")\n",
        "        self.hidden_size = hidden_size\n",
        "        if self.method == 'general':\n",
        "            self.attn = nn.Linear(self.hidden_size, hidden_size)\n",
        "        elif self.method == 'concat':\n",
        "            self.attn = nn.Linear(self.hidden_size * 2, hidden_size)\n",
        "            self.v = nn.Parameter(torch.FloatTensor(hidden_size))\n",
        "\n",
        "  def dot_score(self, hidden, encoder_output):\n",
        "        return torch.sum(hidden * encoder_output, dim=2)  # [seq_len, batch]\n",
        "\n",
        "  def general_score(self, hidden, encoder_output):\n",
        "        energy = self.attn(encoder_output)  # [seq_len, batch, hid_dim]\n",
        "        return torch.sum(hidden * energy, dim=2)  # [seq_len, batch]\n",
        "\n",
        "  def concat_score(self, hidden, encoder_output):\n",
        "        # hidden.expand(encoder_output.size(0), -1, -1) -> [seq_len, batch, N]\n",
        "        energy = self.attn(torch.cat((hidden.expand(encoder_output.size(0), -1, -1), encoder_output), 2)).tanh()\n",
        "        # energy = [sql_len, batch, hidden_size]\n",
        "        return torch.sum(self.v * energy, dim=2)  # [seq_len, batch]\n",
        "\n",
        "  def forward(self, hidden, encoder_outputs):\n",
        "        # hidden = [1, batch,  n_directions * hid_dim]\n",
        "        # encoder_outputs = [seq_len, batch, hid dim * n directions]\n",
        "        if self.method == 'general':\n",
        "            attn_energies = self.general_score(hidden, encoder_outputs)\n",
        "        elif self.method == 'concat':\n",
        "            attn_energies = self.concat_score(hidden, encoder_outputs)\n",
        "        elif self.method == 'dot':\n",
        "            attn_energies = self.dot_score(hidden, encoder_outputs)\n",
        "\n",
        "        attn_energies = attn_energies.t()  # [batch, seq_len]\n",
        " \n",
        "        return F.softmax(attn_energies, dim=1).unsqueeze(1)  # softmax归一化  # [batch, 1, seq_len]"
      ],
      "execution_count": 16,
      "outputs": []
    },
    {
      "cell_type": "code",
      "metadata": {
        "id": "lLbqgxNg8XT4"
      },
      "source": [
        "class AttnDecoder(nn.Module):\n",
        "  \"\"\"\n",
        "  译码器模块\n",
        "  \"\"\"\n",
        "  def __init__(self, output_dim, emb_dim, hid_dim, n_layers=1, dropout=0.5, bidirectional=True, attn_method=\"general\"):\n",
        "        super(AttnDecoder, self).__init__()\n",
        "        self.output_dim = output_dim  # 输出维度: 中文词典大小\n",
        "        self.emb_dim = emb_dim  # 词嵌入维度\n",
        "        self.hid_dim = hid_dim  # 隐藏状态维度\n",
        "        self.n_layers = n_layers  # GRU层数\n",
        "        self.dropout = dropout\n",
        "\n",
        "        self.embedding = nn.Embedding(output_dim, emb_dim)\n",
        "        self.embedding_dropout = nn.Dropout(dropout)\n",
        "        self.gru = nn.GRU(emb_dim, hid_dim, n_layers, dropout=dropout, bidirectional=bidirectional)\n",
        "        \n",
        "        if bidirectional:\n",
        "            self.concat = nn.Linear(hid_dim * 2 * 2, hid_dim*2)\n",
        "            self.out = nn.Linear(hid_dim*2, output_dim)\n",
        "            self.attn = Attn(attn_method, hid_dim*2)\n",
        "        else:\n",
        "            self.concat = nn.Linear(hid_dim * 2, hid_dim)\n",
        "            self.out = nn.Linear(hid_dim, output_dim)\n",
        "            self.attn = Attn(attn_method, hid_dim)\n",
        "        self.softmax = nn.LogSoftmax(dim=1)\n",
        "\n",
        "  def forward(self, token_inputs, last_hidden, encoder_outputs):\n",
        "        batch_size = token_inputs.size(0)\n",
        "        embedded = self.embedding(token_inputs)\n",
        "        embedded = self.embedding_dropout(embedded)\n",
        "        embedded = embedded.view(1, batch_size, -1) # [1, B, hid_dim]\n",
        "\n",
        "        gru_output, hidden = self.gru(embedded, last_hidden)\n",
        "        # gru_output = [1, batch,  n_directions * hid_dim]\n",
        "        # hidden = [n_layers * n_directions, batch, hid_dim]\n",
        "\n",
        "        # encoder_outputs = [sql_len, batch, hid dim * n directions]\n",
        "        attn_weights = self.attn(gru_output, encoder_outputs)\n",
        "        # attn_weights = [batch, 1, sql_len]\n",
        "        context = attn_weights.bmm(encoder_outputs.transpose(0, 1))\n",
        "        # context = [batch, 1, hid_dim * n directions]\n",
        "\n",
        "        # LuongAttention\n",
        "        gru_output = gru_output.squeeze(0)  # [batch, n_directions * hid_dim]\n",
        "        context = context.squeeze(1)       # [batch, n_directions * hid_dim]\n",
        "        concat_input = torch.cat((gru_output, context), 1)  # [batch, n_directions * hid_dim * 2]\n",
        "        concat_output = torch.tanh(self.concat(concat_input))  # [batch, n_directions*hid_dim]\n",
        "\n",
        "        output = self.out(concat_output)  # [batch, output_dim]\n",
        "        output = self.softmax(output)\n",
        "\n",
        "        return output, hidden, attn_weights"
      ],
      "execution_count": 17,
      "outputs": []
    },
    {
      "cell_type": "code",
      "metadata": {
        "id": "y94lk1qX_Cxn"
      },
      "source": [
        "class Seq2Seq(nn.Module):\n",
        "  \"\"\"\n",
        "  序列-序列模型\n",
        "  \"\"\"\n",
        "  def __init__(self, \n",
        "                 encoder, \n",
        "                 decoder, \n",
        "                 device, \n",
        "                 predict=False, \n",
        "                 basic_dict=None,\n",
        "                 max_len=50\n",
        "                 ):\n",
        "        super(Seq2Seq, self).__init__()\n",
        "        \n",
        "        self.device = device\n",
        "\n",
        "        self.encoder = encoder  # 编码器\n",
        "        self.decoder = decoder  # 译码器\n",
        "\n",
        "        self.predict = predict  # 训练阶段还是预测阶段\n",
        "        self.basic_dict = basic_dict  # decoder的字典，存放特殊token对应的id\n",
        "        self.max_len = max_len  # 翻译时最大输出长度\n",
        "        self.attn_info = [] # 为了可视化\n",
        "\n",
        "        assert encoder.hid_dim == decoder.hid_dim, \\\n",
        "            \"Hidden dimensions of encoder and decoder must be equal!\"\n",
        "        assert encoder.n_layers == decoder.n_layers, \\\n",
        "            \"Encoder and decoder must have equal number of layers!\"\n",
        "        assert encoder.gru.bidirectional == decoder.gru.bidirectional, \\\n",
        "            \"Decoder and encoder must had same value of bidirectional attribute!\"\n",
        "        \n",
        "  def forward(self, input_batches, input_lengths, target_batches=None, target_lengths=None, teacher_forcing_ratio=0.5):\n",
        "        # input_batches = [seq_len, batch]\n",
        "        # input_lengths: 对应每个输入序列的长度\n",
        "        # target_batches = [seq_len, batch]\n",
        "        # target_lengths: 对应每个输出序列的长度\n",
        "        # teacher_forcing_ratio: 训练阶段使用, 表示decoder下一个输入来自真实数据的概率\n",
        "        batch_size = input_batches.size(1)\n",
        "        \n",
        "        BOS_token = self.basic_dict[\"<bos>\"]\n",
        "        EOS_token = self.basic_dict[\"<eos>\"]\n",
        "        PAD_token = self.basic_dict[\"<pad>\"]\n",
        "\n",
        "        # 初始化\n",
        "        enc_n_layers = self.encoder.gru.num_layers\n",
        "        enc_n_directions = 2 if self.encoder.gru.bidirectional else 1\n",
        "        encoder_hidden = torch.zeros(enc_n_layers*enc_n_directions, batch_size, self.encoder.hid_dim, device=self.device)\n",
        "        \n",
        "        # encoder_outputs = [input_lengths, batch, hid_dim * n directions]\n",
        "        # encoder_hidden = [n_layers*n_directions, batch, hid_dim]\n",
        "        encoder_outputs, encoder_hidden = self.encoder(\n",
        "            input_batches, input_lengths, encoder_hidden)\n",
        "\n",
        "        # 初始化, 输入都从<bos>开始 beginning of sentence\n",
        "        decoder_input = torch.tensor([BOS_token] * batch_size, dtype=torch.long, device=self.device)\n",
        "        # 隐藏状态传递至译码器\n",
        "        decoder_hidden = encoder_hidden\n",
        "\n",
        "        if self.predict:\n",
        "            # 一次只输入一句话\n",
        "            assert batch_size == 1, \"batch_size of predict phase must be 1!\"\n",
        "            output_tokens = []\n",
        "            self.attn_info = []\n",
        "\n",
        "            while True:\n",
        "                decoder_output, decoder_hidden, decoder_attn = self.decoder(\n",
        "                    decoder_input, decoder_hidden, encoder_outputs\n",
        "                )\n",
        "                self.attn_info.append(decoder_attn[0][0].tolist())\n",
        "                # [1, 1], 选择概率最高\n",
        "                topv, topi = decoder_output.topk(1)\n",
        "                decoder_input = topi.squeeze(1).detach()\n",
        "                output_token = topi.squeeze().detach().item()\n",
        "                # 结束条件: EOS或达到规定最大长度\n",
        "                if output_token == EOS_token or len(output_tokens) == self.max_len:\n",
        "                    break\n",
        "                output_tokens.append(output_token)\n",
        "\n",
        "            return output_tokens\n",
        "\n",
        "        else:\n",
        "            max_target_length = max(target_lengths)\n",
        "            all_decoder_outputs = torch.zeros((max_target_length, batch_size, self.decoder.output_dim), device=self.device)\n",
        "            self.attn_info = []\n",
        "\n",
        "            for t in range(max_target_length):\n",
        "                use_teacher_forcing = True if random.random() < teacher_forcing_ratio else False\n",
        "                if use_teacher_forcing:\n",
        "                    # decoder_output = [batch, output_dim]\n",
        "                    # decoder_hidden = [n_layers*n_directions, batch, hid_dim]\n",
        "                    decoder_output, decoder_hidden, decoder_attn = self.decoder(\n",
        "                        decoder_input, decoder_hidden, encoder_outputs\n",
        "                    )\n",
        "                    all_decoder_outputs[t] = decoder_output\n",
        "                    decoder_input = target_batches[t]  # 下一个输入来自训练数据\n",
        "                else:\n",
        "                    decoder_output, decoder_hidden, decoder_attn = self.decoder(\n",
        "                        decoder_input, decoder_hidden, encoder_outputs\n",
        "                    )\n",
        "                    # [batch, 1]\n",
        "                    topv, topi = decoder_output.topk(1)\n",
        "                    all_decoder_outputs[t] = decoder_output\n",
        "                    decoder_input = topi.squeeze(1).detach()  # 下一个输入来自模型预测\n",
        "            \n",
        "            # 损失函数, 等价于交叉熵\n",
        "            loss_fn = nn.NLLLoss(ignore_index=PAD_token)  \n",
        "            loss = loss_fn(\n",
        "                all_decoder_outputs.reshape(-1, self.decoder.output_dim),  # [batch*seq_len, output_dim]\n",
        "                target_batches.reshape(-1)               # [batch*seq_len]\n",
        "            )\n",
        "\n",
        "            return loss"
      ],
      "execution_count": 18,
      "outputs": []
    },
    {
      "cell_type": "markdown",
      "metadata": {
        "id": "DGIK_4IO7n4G"
      },
      "source": [
        "# 训练和预测代码"
      ]
    },
    {
      "cell_type": "code",
      "metadata": {
        "id": "TvUaEp0Y7n4H"
      },
      "source": [
        "def epoch_time(start_time, end_time):\n",
        "    elapsed_time = end_time - start_time\n",
        "    elapsed_mins = int(elapsed_time / 60)\n",
        "    elapsed_secs = int(elapsed_time - (elapsed_mins * 60))\n",
        "    return elapsed_mins, elapsed_secs"
      ],
      "execution_count": 19,
      "outputs": []
    },
    {
      "cell_type": "code",
      "metadata": {
        "id": "FcB6O0cJ7n4P"
      },
      "source": [
        "def train(\n",
        "    model,\n",
        "    data_loader, \n",
        "    optimizer, \n",
        "    clip=1, \n",
        "    teacher_forcing_ratio=0.5, \n",
        "    print_every=None  # None不打印\n",
        "    ):\n",
        "    model.predict = False\n",
        "    model.train()\n",
        "\n",
        "    if print_every == 0:\n",
        "        print_every = 1\n",
        "\n",
        "    print_loss_total = 0  # 每次打印都重置\n",
        "    start = time.time()\n",
        "    epoch_loss = 0\n",
        "    for i, batch in enumerate(data_loader):\n",
        "        input_batchs = batch[\"src\"]\n",
        "        target_batchs = batch[\"trg\"]\n",
        "        input_lens = batch[\"src_len\"]\n",
        "        target_lens = batch[\"trg_len\"]\n",
        "        # 梯度清零\n",
        "        optimizer.zero_grad()\n",
        "        \n",
        "        loss = model(input_batchs, input_lens, target_batchs, target_lens, teacher_forcing_ratio)\n",
        "        print_loss_total += loss.item()\n",
        "        epoch_loss += loss.item()\n",
        "        \n",
        "        # 反向传播\n",
        "        loss.backward()\n",
        "\n",
        "        # 梯度裁剪\n",
        "        torch.nn.utils.clip_grad_norm_(model.parameters(), clip)\n",
        "\n",
        "        optimizer.step()\n",
        "\n",
        "        if print_every and (i+1) % print_every == 0:\n",
        "            print_loss_avg = print_loss_total / print_every\n",
        "            print_loss_total = 0\n",
        "            print('\\tCurrent Loss: %.4f' % print_loss_avg)\n",
        "\n",
        "    return epoch_loss / len(data_loader)"
      ],
      "execution_count": 20,
      "outputs": []
    },
    {
      "cell_type": "code",
      "metadata": {
        "id": "DgYv7rsp7n4V"
      },
      "source": [
        "def evaluate(\n",
        "    model,\n",
        "    data_loader, \n",
        "    print_every=None\n",
        "    ):\n",
        "    model.predict = False\n",
        "    model.eval()  # 不计drop out...\n",
        "    if print_every == 0:\n",
        "        print_every = 1\n",
        "\n",
        "    print_loss_total = 0  # 每次打印都重置\n",
        "    start = time.time()\n",
        "    epoch_loss = 0\n",
        "    with torch.no_grad():\n",
        "        for i, batch in enumerate(data_loader):\n",
        "            input_batchs = batch[\"src\"]\n",
        "            target_batchs = batch[\"trg\"]\n",
        "            input_lens = batch[\"src_len\"]\n",
        "            target_lens = batch[\"trg_len\"]\n",
        "\n",
        "            loss = model(input_batchs, input_lens, target_batchs, target_lens, teacher_forcing_ratio=0)\n",
        "            print_loss_total += loss.item()\n",
        "            epoch_loss += loss.item()\n",
        "\n",
        "            if print_every and (i+1) % print_every == 0:\n",
        "                print_loss_avg = print_loss_total / print_every\n",
        "                print_loss_total = 0\n",
        "                print('\\tCurrent Loss: %.4f' % print_loss_avg)\n",
        "\n",
        "    return epoch_loss / len(data_loader)"
      ],
      "execution_count": 21,
      "outputs": []
    },
    {
      "cell_type": "code",
      "metadata": {
        "id": "ldcZM35r7n4h"
      },
      "source": [
        "def translate(\n",
        "    model,\n",
        "    sample, \n",
        "    idx2token=None \n",
        "    ):\n",
        "  \"\"\"\n",
        "  根据输入序列进行翻译\n",
        "  \"\"\"\n",
        "  model.predict = True\n",
        "  model.eval()\n",
        "  input_batch = sample[\"src\"]\n",
        "  input_len = sample[\"src_len\"]\n",
        "\n",
        "  output_tokens = model(input_batch, input_len)\n",
        "  output_tokens = [idx2token[t] for t in output_tokens]\n",
        "\n",
        "  return output_tokens, model.attn_info"
      ],
      "execution_count": 22,
      "outputs": []
    },
    {
      "cell_type": "code",
      "metadata": {
        "id": "jSpzIxecnqNZ"
      },
      "source": [
        "def cal_bleu(\n",
        "    model,\n",
        "    data_loader,\n",
        "):\n",
        "  \"\"\" \n",
        "  计算BLEU评价指标\n",
        "  \"\"\"\n",
        "  model.predict = False\n",
        "  model.eval()\n",
        "  candidate_corpus = [] # 机器翻译\n",
        "  references_corpus = []  # 人工参考翻译\n",
        "  with torch.no_grad():\n",
        "    for i, batch in enumerate(data_loader):\n",
        "      input_batches = batch[\"src\"]\n",
        "      target_batches = batch[\"trg\"]\n",
        "      input_lens = batch[\"src_len\"]\n",
        "      target_lens = batch[\"trg_len\"]\n",
        "      \n",
        "      # 转置方便取batch中的序列\n",
        "      input_batches = input_batches.t()\n",
        "      for j in range(input_batches.shape[0]):\n",
        "        sample = {}\n",
        "        en_tokens = [t for t in input_batches[j] if t != 1] # 忽略<pad>\n",
        "        sample[\"src\"] = torch.tensor(en_tokens, dtype=torch.long, device=device).reshape(-1, 1)\n",
        "        sample[\"src_len\"] = [len(en_tokens)]\n",
        "        output_tokens, attn_info = translate(model, sample, ch_TEXT.vocab.itos)\n",
        "        candidate_corpus.append(output_tokens)\n",
        "\n",
        "      # 转置方便取batch中的序列\n",
        "      target_batches = target_batches.t()\n",
        "      for j in range(target_batches.shape[0]):\n",
        "        ch_src = [ch_TEXT.vocab.itos[t] for t in target_batches[j] if t !=1 and t !=3] # 忽略<pad>, <eos>\n",
        "        references_corpus.append([ch_src])\n",
        "\n",
        "  return corpus_bleu(references_corpus, candidate_corpus) * 100"
      ],
      "execution_count": 23,
      "outputs": []
    },
    {
      "cell_type": "markdown",
      "metadata": {
        "id": "kLS0uKiu9WtW"
      },
      "source": [
        "# 开始训练"
      ]
    },
    {
      "cell_type": "code",
      "metadata": {
        "id": "3ALxD62K8a-s"
      },
      "source": [
        "INPUT_DIM = len(en_TEXT.vocab)\n",
        "OUTPUT_DIM = len(ch_TEXT.vocab)\n",
        "# 超参数\n",
        "BATCH_SIZE = 32\n",
        "ENC_EMB_DIM = 256\n",
        "DEC_EMB_DIM = 256\n",
        "HID_DIM = 512\n",
        "N_LAYERS = 3\n",
        "ENC_DROPOUT = 0.5\n",
        "DEC_DROPOUT = 0.5\n",
        "LEARNING_RATE = 1e-4\n",
        "N_EPOCHS = 70\n",
        "CLIP = 1\n",
        "\n",
        "bidirectional = True\n",
        "attn_method = \"general\"\n",
        "enc = Encoder(INPUT_DIM, ENC_EMB_DIM, HID_DIM, N_LAYERS, ENC_DROPOUT, bidirectional)\n",
        "dec = AttnDecoder(OUTPUT_DIM, DEC_EMB_DIM, HID_DIM, N_LAYERS, DEC_DROPOUT, bidirectional, attn_method)\n",
        "model = Seq2Seq(enc, dec, device, basic_dict=ch_TEXT.vocab.stoi).to(device)\n",
        "\n",
        "optimizer = optim.Adam(model.parameters(), lr=LEARNING_RATE)"
      ],
      "execution_count": 24,
      "outputs": []
    },
    {
      "cell_type": "code",
      "metadata": {
        "id": "A1HXlUlz9_oV"
      },
      "source": [
        "# 数据集\n",
        "# 前21622为训练集, 之后为测试集\n",
        "train_set = TranslationDataset(en_num_data[:21622], ch_num_data[:21622])\n",
        "test_set = TranslationDataset(en_num_data[21622:], ch_num_data[21622:])\n",
        "\n",
        "train_loader = DataLoader(train_set, batch_size = BATCH_SIZE, collate_fn=padding_batch)\n",
        "test_loader = DataLoader(test_set, batch_size = BATCH_SIZE, collate_fn=padding_batch)"
      ],
      "execution_count": 25,
      "outputs": []
    },
    {
      "cell_type": "code",
      "metadata": {
        "id": "GbnYsq9p-GbI",
        "colab": {
          "base_uri": "https://localhost:8080/"
        },
        "outputId": "0236ccfe-1243-4df3-9d34-30cabd4c0780"
      },
      "source": [
        "best_valid_loss = float('inf')\n",
        "loss_x = []\n",
        "bleu_x = []\n",
        "train_loss_y = []\n",
        "valid_loss_y = []\n",
        "test_loss_y = []\n",
        "train_bleu_y = []\n",
        "test_bleu_y = []\n",
        "\n",
        "for epoch in range(N_EPOCHS):\n",
        "    \n",
        "    start_time = time.time()\n",
        "    train_loss = train(model, train_loader, optimizer, CLIP)\n",
        "    valid_loss = evaluate(model, train_loader)\n",
        "    test_loss = evaluate(model, test_loader)\n",
        "\n",
        "    end_time = time.time()\n",
        "    \n",
        "    if valid_loss < best_valid_loss:\n",
        "        best_valid_loss = valid_loss\n",
        "        torch.save(model.state_dict(), \"en2ch-attn-model.pt\")\n",
        "\n",
        "    if epoch % 2 == 0:\n",
        "        epoch_mins, epoch_secs = epoch_time(start_time, end_time)\n",
        "        print(f'Epoch: {epoch+1:02} | Time: {epoch_mins}m {epoch_secs}s')\n",
        "        print(f'\\tTrain Loss: {train_loss:.3f} | Val. Loss: {valid_loss:.3f} | Test Loss: {test_loss:.3f}')\n",
        "        # 可视化\n",
        "        loss_x.append(epoch + 1)\n",
        "        train_loss_y.append(train_loss) \n",
        "        valid_loss_y.append(valid_loss)\n",
        "        test_loss_y.append(test_loss)\n",
        "        \n",
        "        if epoch % 4 == 0:\n",
        "          train_bleu = cal_bleu(model, train_loader)\n",
        "          test_bleu = cal_bleu(model, test_loader)\n",
        "          print(f'\\tTrain Bleu:{train_bleu:.3f} | Test Bleu: {test_bleu:.3f}')\n",
        "          # 可视化\n",
        "          bleu_x.append(epoch + 1)\n",
        "          train_bleu_y.append(train_bleu)\n",
        "          test_bleu_y.append(test_bleu)"
      ],
      "execution_count": 26,
      "outputs": [
        {
          "output_type": "stream",
          "text": [
            "Epoch: 01 | Time: 0m 59s\n",
            "\tTrain Loss: 5.122 | Val. Loss: 5.812 | Test Loss: 6.051\n",
            "\tTrain Bleu:0.258 | Test Bleu: 0.369\n",
            "Epoch: 03 | Time: 0m 58s\n",
            "\tTrain Loss: 4.065 | Val. Loss: 4.964 | Test Loss: 5.482\n",
            "Epoch: 05 | Time: 0m 58s\n",
            "\tTrain Loss: 3.572 | Val. Loss: 4.549 | Test Loss: 5.309\n",
            "\tTrain Bleu:2.555 | Test Bleu: 2.397\n",
            "Epoch: 07 | Time: 0m 58s\n",
            "\tTrain Loss: 3.160 | Val. Loss: 4.099 | Test Loss: 5.106\n",
            "Epoch: 09 | Time: 0m 58s\n",
            "\tTrain Loss: 2.826 | Val. Loss: 3.552 | Test Loss: 4.816\n",
            "\tTrain Bleu:7.155 | Test Bleu: 5.233\n",
            "Epoch: 11 | Time: 0m 58s\n",
            "\tTrain Loss: 2.538 | Val. Loss: 3.298 | Test Loss: 4.841\n",
            "Epoch: 13 | Time: 0m 58s\n",
            "\tTrain Loss: 2.277 | Val. Loss: 3.034 | Test Loss: 4.769\n",
            "\tTrain Bleu:12.231 | Test Bleu: 7.474\n",
            "Epoch: 15 | Time: 0m 58s\n",
            "\tTrain Loss: 2.048 | Val. Loss: 2.795 | Test Loss: 4.703\n",
            "Epoch: 17 | Time: 0m 58s\n",
            "\tTrain Loss: 1.848 | Val. Loss: 2.556 | Test Loss: 4.668\n",
            "\tTrain Bleu:18.247 | Test Bleu: 9.611\n",
            "Epoch: 19 | Time: 0m 58s\n",
            "\tTrain Loss: 1.662 | Val. Loss: 2.323 | Test Loss: 4.603\n",
            "Epoch: 21 | Time: 0m 57s\n",
            "\tTrain Loss: 1.495 | Val. Loss: 2.085 | Test Loss: 4.580\n",
            "\tTrain Bleu:27.136 | Test Bleu: 11.896\n",
            "Epoch: 23 | Time: 0m 57s\n",
            "\tTrain Loss: 1.351 | Val. Loss: 1.938 | Test Loss: 4.619\n",
            "Epoch: 25 | Time: 0m 57s\n",
            "\tTrain Loss: 1.223 | Val. Loss: 1.705 | Test Loss: 4.577\n",
            "\tTrain Bleu:35.772 | Test Bleu: 14.338\n",
            "Epoch: 27 | Time: 0m 57s\n",
            "\tTrain Loss: 1.094 | Val. Loss: 1.649 | Test Loss: 4.672\n",
            "Epoch: 29 | Time: 0m 57s\n",
            "\tTrain Loss: 0.991 | Val. Loss: 1.558 | Test Loss: 4.738\n",
            "\tTrain Bleu:41.242 | Test Bleu: 14.832\n",
            "Epoch: 31 | Time: 0m 57s\n",
            "\tTrain Loss: 0.890 | Val. Loss: 1.433 | Test Loss: 4.758\n",
            "Epoch: 33 | Time: 0m 57s\n",
            "\tTrain Loss: 0.795 | Val. Loss: 1.319 | Test Loss: 4.794\n",
            "\tTrain Bleu:47.527 | Test Bleu: 15.618\n",
            "Epoch: 35 | Time: 0m 57s\n",
            "\tTrain Loss: 0.714 | Val. Loss: 1.291 | Test Loss: 4.852\n",
            "Epoch: 37 | Time: 0m 57s\n",
            "\tTrain Loss: 0.631 | Val. Loss: 1.251 | Test Loss: 4.987\n",
            "\tTrain Bleu:51.278 | Test Bleu: 15.538\n",
            "Epoch: 39 | Time: 0m 57s\n",
            "\tTrain Loss: 0.561 | Val. Loss: 1.101 | Test Loss: 5.024\n",
            "Epoch: 41 | Time: 0m 57s\n",
            "\tTrain Loss: 0.505 | Val. Loss: 1.093 | Test Loss: 5.124\n",
            "\tTrain Bleu:57.594 | Test Bleu: 16.101\n",
            "Epoch: 43 | Time: 0m 57s\n",
            "\tTrain Loss: 0.468 | Val. Loss: 1.227 | Test Loss: 5.317\n",
            "Epoch: 45 | Time: 0m 57s\n",
            "\tTrain Loss: 0.414 | Val. Loss: 0.963 | Test Loss: 5.286\n",
            "\tTrain Bleu:62.729 | Test Bleu: 16.662\n",
            "Epoch: 47 | Time: 0m 57s\n",
            "\tTrain Loss: 0.372 | Val. Loss: 0.636 | Test Loss: 5.222\n",
            "Epoch: 49 | Time: 0m 57s\n",
            "\tTrain Loss: 0.324 | Val. Loss: 0.501 | Test Loss: 5.275\n",
            "\tTrain Bleu:75.664 | Test Bleu: 19.039\n",
            "Epoch: 51 | Time: 0m 57s\n",
            "\tTrain Loss: 0.285 | Val. Loss: 0.351 | Test Loss: 5.261\n",
            "Epoch: 53 | Time: 0m 57s\n",
            "\tTrain Loss: 0.257 | Val. Loss: 0.318 | Test Loss: 5.338\n",
            "\tTrain Bleu:81.264 | Test Bleu: 20.186\n",
            "Epoch: 55 | Time: 0m 57s\n",
            "\tTrain Loss: 0.237 | Val. Loss: 0.280 | Test Loss: 5.401\n",
            "Epoch: 57 | Time: 0m 57s\n",
            "\tTrain Loss: 0.212 | Val. Loss: 0.272 | Test Loss: 5.453\n",
            "\tTrain Bleu:83.943 | Test Bleu: 20.723\n",
            "Epoch: 59 | Time: 0m 57s\n",
            "\tTrain Loss: 0.194 | Val. Loss: 0.427 | Test Loss: 5.618\n",
            "Epoch: 61 | Time: 0m 57s\n",
            "\tTrain Loss: 0.178 | Val. Loss: 0.459 | Test Loss: 5.705\n",
            "\tTrain Bleu:81.108 | Test Bleu: 19.288\n",
            "Epoch: 63 | Time: 0m 57s\n",
            "\tTrain Loss: 0.165 | Val. Loss: 0.249 | Test Loss: 5.666\n",
            "Epoch: 65 | Time: 0m 57s\n",
            "\tTrain Loss: 0.156 | Val. Loss: 0.193 | Test Loss: 5.728\n",
            "\tTrain Bleu:88.024 | Test Bleu: 21.368\n",
            "Epoch: 67 | Time: 0m 57s\n",
            "\tTrain Loss: 0.144 | Val. Loss: 0.191 | Test Loss: 5.746\n",
            "Epoch: 69 | Time: 0m 57s\n",
            "\tTrain Loss: 0.134 | Val. Loss: 0.203 | Test Loss: 5.758\n",
            "\tTrain Bleu:88.503 | Test Bleu: 21.291\n"
          ],
          "name": "stdout"
        }
      ]
    },
    {
      "cell_type": "code",
      "metadata": {
        "id": "hGfQRo3Y6Lnm",
        "outputId": "80948d22-fb9e-49ae-8bef-23f76d9acc63",
        "colab": {
          "base_uri": "https://localhost:8080/",
          "height": 295
        }
      },
      "source": [
        "# 可视化\n",
        "# loss\n",
        "fig, ax = plt.subplots()\n",
        "plt.title('loss figure(general)')\n",
        "plt.xlabel('epoch')\n",
        "plt.ylabel('loss')\n",
        "plt.plot(loss_x, train_loss_y, label='train loss')\n",
        "plt.plot(loss_x, valid_loss_y, label='valid loss')\n",
        "plt.plot(loss_x, test_loss_y, label='test loss' )\n",
        "plt.legend()\n",
        "plt.show()"
      ],
      "execution_count": 27,
      "outputs": [
        {
          "output_type": "display_data",
          "data": {
            "image/png": "[encoded data removed]",
            "text/plain": [
              "<Figure size 432x288 with 1 Axes>"
            ]
          },
          "metadata": {
            "tags": [],
            "needs_background": "light"
          }
        }
      ]
    },
    {
      "cell_type": "code",
      "metadata": {
        "id": "-Sax8GisQ5VC",
        "outputId": "9279febc-5881-4e9a-de5d-4ed076378a11",
        "colab": {
          "base_uri": "https://localhost:8080/",
          "height": 295
        }
      },
      "source": [
        "# 可视化\n",
        "# bleu\n",
        "fig, ax = plt.subplots()\n",
        "plt.title('bleu figure(general)')\n",
        "plt.xlabel('epoch')\n",
        "plt.ylabel('bleu')\n",
        "plt.plot(bleu_x, train_bleu_y, label='train bleu')\n",
        "plt.plot(bleu_x, test_bleu_y, label='test bleu')\n",
        "plt.legend()\n",
        "plt.show()"
      ],
      "execution_count": 28,
      "outputs": [
        {
          "output_type": "display_data",
          "data": {
            "image/png": "[encoded data removed]",
            "text/plain": [
              "<Figure size 432x288 with 1 Axes>"
            ]
          },
          "metadata": {
            "tags": [],
            "needs_background": "light"
          }
        }
      ]
    },
    {
      "cell_type": "code",
      "metadata": {
        "id": "2aw5nHpOdm5J",
        "colab": {
          "base_uri": "https://localhost:8080/"
        },
        "outputId": "36b99bdd-5659-4cc8-f53e-38a75009ce44"
      },
      "source": [
        "print(\"best valid loss：\", best_valid_loss)\n",
        "# 加载最优权重\n",
        "model.load_state_dict(torch.load(\"en2ch-attn-model.pt\"))"
      ],
      "execution_count": 29,
      "outputs": [
        {
          "output_type": "stream",
          "text": [
            "best valid loss： 0.16828834125427694\n"
          ],
          "name": "stdout"
        },
        {
          "output_type": "execute_result",
          "data": {
            "text/plain": [
              "<All keys matched successfully>"
            ]
          },
          "metadata": {
            "tags": []
          },
          "execution_count": 29
        }
      ]
    },
    {
      "cell_type": "code",
      "metadata": {
        "id": "RhyuqeKla8lD"
      },
      "source": [
        "font = FontProperties(fname=r\"./simheittf/simheittf/simhei.ttf\", size=11)\n",
        "\n",
        "def att_show(input, output, attn): \n",
        "    fig, ax = plt.subplots()\n",
        "    fig.set_figheight(len(output))\n",
        "    fig.set_figwidth(len(input))\n",
        "    im = ax.imshow(attn)\n",
        "    ax.set_xticks(np.arange(len(input)))\n",
        "    ax.set_yticks(np.arange(len(output)))\n",
        "    ax.set_xticklabels(input, fontproperties=font)\n",
        "    ax.set_yticklabels(output, fontproperties=font)\n",
        "    plt.colorbar(im)\n",
        "    plt.show()"
      ],
      "execution_count": 30,
      "outputs": []
    },
    {
      "cell_type": "code",
      "metadata": {
        "id": "8hGVhGBydm5R",
        "colab": {
          "base_uri": "https://localhost:8080/",
          "height": 1000
        },
        "outputId": "4be4dc07-9672-47f1-ef5b-e6bff08a43e0"
      },
      "source": [
        "random.seed(2020)\n",
        "for i in random.sample(range(len(en_num_data)), 10):  # 随机看10个\n",
        "    en_tokens = list(filter(lambda x: x!=1, en_num_data[i]))  # 过滤零\n",
        "    ch_tokens = list(filter(lambda x: x!=3 and x!=1, ch_num_data[i]))  # 和机器翻译作对照\n",
        "    sentence = [en_TEXT.vocab.itos[t] for t in en_tokens]\n",
        "    print(\"[原文]\")\n",
        "    print(sentence)\n",
        "    translation = [ch_TEXT.vocab.itos[t] for t in ch_tokens]\n",
        "    print(\"[人工翻译]\")\n",
        "    print(translation)\n",
        "    test_sample = {}\n",
        "    test_sample[\"src\"] = torch.tensor(en_tokens, dtype=torch.long, device=device).reshape(-1, 1)\n",
        "    test_sample[\"src_len\"] = [len(en_tokens)]\n",
        "    print(\"[机器翻译]\")\n",
        "    output_tokens, attn_info = translate(model, test_sample, ch_TEXT.vocab.itos)\n",
        "    print(output_tokens, end=\"\\n\\n\")\n",
        "    att_show(sentence, output_tokens+['<eos>'], attn_info)"
      ],
      "execution_count": 31,
      "outputs": [
        {
          "output_type": "stream",
          "text": [
            "[原文]\n",
            "['it', 'took', 'me', 'half', 'an', 'hour', 'to', 'work', 'out', 'this', 'problem', '.', '<eos>']\n",
            "[人工翻译]\n",
            "['我花', '了', '一个半', '小时', '的', '时间', '解决', '这个', '问题', '。']\n",
            "[机器翻译]\n",
            "['我花', '了', '一个半', '小时', '的', '时间', '解决', '这个', '问题', '。']\n",
            "\n"
          ],
          "name": "stdout"
        },
        {
          "output_type": "display_data",
          "data": {
            "image/png": "[encoded data removed]",
            "text/plain": [
              "<Figure size 936x792 with 2 Axes>"
            ]
          },
          "metadata": {
            "tags": [],
            "needs_background": "light"
          }
        },
        {
          "output_type": "stream",
          "text": [
            "[原文]\n",
            "['in', 'this', 'case', ',', 'the', 'adjective', 'goes', 'before', 'the', 'noun', '.', '<eos>']\n",
            "[人工翻译]\n",
            "['在', '这种', '情况', '下', '，', '形容词', '放在', '名词', '前面', '。']\n",
            "[机器翻译]\n",
            "['在', '这种', '情况', '下', '，', '形容词', '在', '名词', '前面', '。']\n",
            "\n"
          ],
          "name": "stdout"
        },
        {
          "output_type": "display_data",
          "data": {
            "image/png": "[encoded data removed]",
            "text/plain": [
              "<Figure size 864x792 with 2 Axes>"
            ]
          },
          "metadata": {
            "tags": [],
            "needs_background": "light"
          }
        },
        {
          "output_type": "stream",
          "text": [
            "[原文]\n",
            "['they', 'did', \"n't\", 'act', 'quickly', '.', '<eos>']\n",
            "[人工翻译]\n",
            "['他们', '没有', '立刻', '行动', '。']\n",
            "[机器翻译]\n",
            "['他们', '没有', '立刻', '出门', '。']\n",
            "\n"
          ],
          "name": "stdout"
        },
        {
          "output_type": "display_data",
          "data": {
            "image/png": "[encoded data removed]",
            "text/plain": [
              "<Figure size 504x432 with 2 Axes>"
            ]
          },
          "metadata": {
            "tags": [],
            "needs_background": "light"
          }
        },
        {
          "output_type": "stream",
          "text": [
            "[原文]\n",
            "['she', 'tried', 'to', 'commit', 'suicide', '.', '<eos>']\n",
            "[人工翻译]\n",
            "['她', '企图', '自杀', '。']\n",
            "[机器翻译]\n",
            "['她', '试图', '试图', '。']\n",
            "\n"
          ],
          "name": "stdout"
        },
        {
          "output_type": "display_data",
          "data": {
            "image/png": "[encoded data removed]",
            "text/plain": [
              "<Figure size 504x360 with 2 Axes>"
            ]
          },
          "metadata": {
            "tags": [],
            "needs_background": "light"
          }
        },
        {
          "output_type": "stream",
          "text": [
            "[原文]\n",
            "['this', 'sofa', 'takes', 'up', 'too', 'much', 'space', '.', '<eos>']\n",
            "[人工翻译]\n",
            "['这张', '沙发', '占', '了', '太', '多', '空间', '。']\n",
            "[机器翻译]\n",
            "['这张', '沙发', '占', '了', '太', '多', '空间', '。']\n",
            "\n"
          ],
          "name": "stdout"
        },
        {
          "output_type": "display_data",
          "data": {
            "image/png": "[encoded data removed]",
            "text/plain": [
              "<Figure size 648x648 with 2 Axes>"
            ]
          },
          "metadata": {
            "tags": [],
            "needs_background": "light"
          }
        },
        {
          "output_type": "stream",
          "text": [
            "[原文]\n",
            "['have', 'you', 'ever', 'eaten', 'japanese', 'food', '?', '<eos>']\n",
            "[人工翻译]\n",
            "['你', '吃', '过', '日本料理', '吗', '？']\n",
            "[机器翻译]\n",
            "['你', '吃', '过', '日本料理', '吗', '？']\n",
            "\n"
          ],
          "name": "stdout"
        },
        {
          "output_type": "display_data",
          "data": {
            "image/png": "[encoded data removed]",
            "text/plain": [
              "<Figure size 576x504 with 2 Axes>"
            ]
          },
          "metadata": {
            "tags": [],
            "needs_background": "light"
          }
        },
        {
          "output_type": "stream",
          "text": [
            "[原文]\n",
            "['i', 'do', \"n't\", 'plan', 'to', 'stay', 'for', 'very', 'long', '.', '<eos>']\n",
            "[人工翻译]\n",
            "['我', '没有', '打算', '停留', '太久', '。']\n",
            "[机器翻译]\n",
            "['我', '没有', '打算', '停留', '太久', '。']\n",
            "\n"
          ],
          "name": "stdout"
        },
        {
          "output_type": "display_data",
          "data": {
            "image/png": "[encoded data removed]",
            "text/plain": [
              "<Figure size 792x504 with 2 Axes>"
            ]
          },
          "metadata": {
            "tags": [],
            "needs_background": "light"
          }
        },
        {
          "output_type": "stream",
          "text": [
            "[原文]\n",
            "['tom', 'was', 'afraid', 'to', 'ask', 'for', 'help', '.', '<eos>']\n",
            "[人工翻译]\n",
            "['汤姆', '不敢', '求助', '。']\n",
            "[机器翻译]\n",
            "['汤姆', '不敢', '求助', '。']\n",
            "\n"
          ],
          "name": "stdout"
        },
        {
          "output_type": "display_data",
          "data": {
            "image/png": "[encoded data removed]",
            "text/plain": [
              "<Figure size 648x360 with 2 Axes>"
            ]
          },
          "metadata": {
            "tags": [],
            "needs_background": "light"
          }
        },
        {
          "output_type": "stream",
          "text": [
            "[原文]\n",
            "['i', 'was', 'just', 'trying', 'to', 'protect', 'you', '.', '<eos>']\n",
            "[人工翻译]\n",
            "['我', '只是', '试著', '保护', '你', '。']\n",
            "[机器翻译]\n",
            "['我', '只是', '试著', '保护', '你', '。']\n",
            "\n"
          ],
          "name": "stdout"
        },
        {
          "output_type": "display_data",
          "data": {
            "image/png": "[encoded data removed]",
            "text/plain": [
              "<Figure size 648x504 with 2 Axes>"
            ]
          },
          "metadata": {
            "tags": [],
            "needs_background": "light"
          }
        },
        {
          "output_type": "stream",
          "text": [
            "[原文]\n",
            "['i', 'truly', 'do', 'not', 'understand', 'the', 'question', '.', '<eos>']\n",
            "[人工翻译]\n",
            "['我', '真的', '不', '懂', '这个', '问题', '。']\n",
            "[机器翻译]\n",
            "['我', '真的', '不', '懂', '这个', '问题', '。']\n",
            "\n"
          ],
          "name": "stdout"
        },
        {
          "output_type": "display_data",
          "data": {
            "image/png": "[encoded data removed]",
            "text/plain": [
              "<Figure size 648x576 with 2 Axes>"
            ]
          },
          "metadata": {
            "tags": [],
            "needs_background": "light"
          }
        }
      ]
    }
  ]
}