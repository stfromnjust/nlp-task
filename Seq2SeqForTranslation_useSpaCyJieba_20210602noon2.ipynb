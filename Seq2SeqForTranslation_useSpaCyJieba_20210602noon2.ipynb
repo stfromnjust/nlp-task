{
  "nbformat": 4,
  "nbformat_minor": 0,
  "metadata": {
    "accelerator": "GPU",
    "colab": {
      "name": "Seq2SeqForTranslation.ipynb",
      "provenance": [],
      "collapsed_sections": [],
      "include_colab_link": true
    },
    "kernelspec": {
      "display_name": "Python 3",
      "language": "python",
      "name": "python3"
    },
    "language_info": {
      "codemirror_mode": {
        "name": "ipython",
        "version": 3
      },
      "file_extension": ".py",
      "mimetype": "text/x-python",
      "name": "python",
      "nbconvert_exporter": "python",
      "pygments_lexer": "ipython3",
      "version": "3.6.8"
    }
  },
  "cells": [
    {
      "cell_type": "markdown",
      "metadata": {
        "id": "view-in-github",
        "colab_type": "text"
      },
      "source": [
        "<a href=\"https://colab.research.google.com/github/stfromnjust/nlp-task/blob/main/Seq2SeqForTranslation_useSpaCyJieba_20210602noon2.ipynb\" target=\"_parent\"><img src=\"https://colab.research.google.com/assets/colab-badge.svg\" alt=\"Open In Colab\"/></a>"
      ]
    },
    {
      "cell_type": "markdown",
      "metadata": {
        "id": "LyLu9jiPmg2v"
      },
      "source": [
        "# 下载数据 必要配置"
      ]
    },
    {
      "cell_type": "code",
      "metadata": {
        "id": "6q7dDydT7n2d",
        "colab": {
          "base_uri": "https://localhost:8080/"
        },
        "outputId": "b016a455-7fc6-42e5-f374-62d8a79f2426"
      },
      "source": [
        "!wget http://www.manythings.org/anki/cmn-eng.zip\n",
        "!unzip -d ./cmn-eng cmn-eng.zip"
      ],
      "execution_count": 1,
      "outputs": [
        {
          "output_type": "stream",
          "text": [
            "--2021-06-02 10:16:47--  http://www.manythings.org/anki/cmn-eng.zip\n",
            "Resolving www.manythings.org (www.manythings.org)... 104.21.55.222, 172.67.173.198, 2606:4700:3031::6815:37de, ...\n",
            "Connecting to www.manythings.org (www.manythings.org)|104.21.55.222|:80... connected.\n",
            "HTTP request sent, awaiting response... 200 OK\n",
            "Length: 1062383 (1.0M) [application/zip]\n",
            "Saving to: ‘cmn-eng.zip’\n",
            "\n",
            "cmn-eng.zip         100%[===================>]   1.01M  3.58MB/s    in 0.3s    \n",
            "\n",
            "2021-06-02 10:16:48 (3.58 MB/s) - ‘cmn-eng.zip’ saved [1062383/1062383]\n",
            "\n",
            "Archive:  cmn-eng.zip\n",
            "  inflating: ./cmn-eng/cmn.txt       \n",
            "  inflating: ./cmn-eng/_about.txt    \n"
          ],
          "name": "stdout"
        }
      ]
    },
    {
      "cell_type": "code",
      "metadata": {
        "id": "Zo7QCacp7n2s"
      },
      "source": [
        "seed = 2021"
      ],
      "execution_count": 2,
      "outputs": []
    },
    {
      "cell_type": "code",
      "metadata": {
        "id": "q2fEi0_oNVGl",
        "outputId": "45fbd11a-697a-4768-8eef-f503bb8748fa",
        "colab": {
          "base_uri": "https://localhost:8080/"
        }
      },
      "source": [
        "!pip install opencc"
      ],
      "execution_count": 3,
      "outputs": [
        {
          "output_type": "stream",
          "text": [
            "Collecting opencc\n",
            "\u001b[?25l  Downloading https://files.pythonhosted.org/packages/25/a1/83402033399c7bc61482f45e186156f6c51c8ca5cf4a66f22039a586a520/OpenCC-1.1.2-cp37-cp37m-manylinux1_x86_64.whl (765kB)\n",
            "\r\u001b[K     |▍                               | 10kB 23.5MB/s eta 0:00:01\r\u001b[K     |▉                               | 20kB 16.7MB/s eta 0:00:01\r\u001b[K     |█▎                              | 30kB 14.6MB/s eta 0:00:01\r\u001b[K     |█▊                              | 40kB 13.6MB/s eta 0:00:01\r\u001b[K     |██▏                             | 51kB 7.6MB/s eta 0:00:01\r\u001b[K     |██▋                             | 61kB 7.4MB/s eta 0:00:01\r\u001b[K     |███                             | 71kB 8.3MB/s eta 0:00:01\r\u001b[K     |███▍                            | 81kB 8.8MB/s eta 0:00:01\r\u001b[K     |███▉                            | 92kB 9.1MB/s eta 0:00:01\r\u001b[K     |████▎                           | 102kB 7.4MB/s eta 0:00:01\r\u001b[K     |████▊                           | 112kB 7.4MB/s eta 0:00:01\r\u001b[K     |█████▏                          | 122kB 7.4MB/s eta 0:00:01\r\u001b[K     |█████▋                          | 133kB 7.4MB/s eta 0:00:01\r\u001b[K     |██████                          | 143kB 7.4MB/s eta 0:00:01\r\u001b[K     |██████▍                         | 153kB 7.4MB/s eta 0:00:01\r\u001b[K     |██████▉                         | 163kB 7.4MB/s eta 0:00:01\r\u001b[K     |███████▎                        | 174kB 7.4MB/s eta 0:00:01\r\u001b[K     |███████▊                        | 184kB 7.4MB/s eta 0:00:01\r\u001b[K     |████████▏                       | 194kB 7.4MB/s eta 0:00:01\r\u001b[K     |████████▋                       | 204kB 7.4MB/s eta 0:00:01\r\u001b[K     |█████████                       | 215kB 7.4MB/s eta 0:00:01\r\u001b[K     |█████████▍                      | 225kB 7.4MB/s eta 0:00:01\r\u001b[K     |█████████▉                      | 235kB 7.4MB/s eta 0:00:01\r\u001b[K     |██████████▎                     | 245kB 7.4MB/s eta 0:00:01\r\u001b[K     |██████████▊                     | 256kB 7.4MB/s eta 0:00:01\r\u001b[K     |███████████▏                    | 266kB 7.4MB/s eta 0:00:01\r\u001b[K     |███████████▌                    | 276kB 7.4MB/s eta 0:00:01\r\u001b[K     |████████████                    | 286kB 7.4MB/s eta 0:00:01\r\u001b[K     |████████████▍                   | 296kB 7.4MB/s eta 0:00:01\r\u001b[K     |████████████▉                   | 307kB 7.4MB/s eta 0:00:01\r\u001b[K     |█████████████▎                  | 317kB 7.4MB/s eta 0:00:01\r\u001b[K     |█████████████▊                  | 327kB 7.4MB/s eta 0:00:01\r\u001b[K     |██████████████▏                 | 337kB 7.4MB/s eta 0:00:01\r\u001b[K     |██████████████▌                 | 348kB 7.4MB/s eta 0:00:01\r\u001b[K     |███████████████                 | 358kB 7.4MB/s eta 0:00:01\r\u001b[K     |███████████████▍                | 368kB 7.4MB/s eta 0:00:01\r\u001b[K     |███████████████▉                | 378kB 7.4MB/s eta 0:00:01\r\u001b[K     |████████████████▎               | 389kB 7.4MB/s eta 0:00:01\r\u001b[K     |████████████████▊               | 399kB 7.4MB/s eta 0:00:01\r\u001b[K     |█████████████████▏              | 409kB 7.4MB/s eta 0:00:01\r\u001b[K     |█████████████████▌              | 419kB 7.4MB/s eta 0:00:01\r\u001b[K     |██████████████████              | 430kB 7.4MB/s eta 0:00:01\r\u001b[K     |██████████████████▍             | 440kB 7.4MB/s eta 0:00:01\r\u001b[K     |██████████████████▉             | 450kB 7.4MB/s eta 0:00:01\r\u001b[K     |███████████████████▎            | 460kB 7.4MB/s eta 0:00:01\r\u001b[K     |███████████████████▊            | 471kB 7.4MB/s eta 0:00:01\r\u001b[K     |████████████████████            | 481kB 7.4MB/s eta 0:00:01\r\u001b[K     |████████████████████▌           | 491kB 7.4MB/s eta 0:00:01\r\u001b[K     |█████████████████████           | 501kB 7.4MB/s eta 0:00:01\r\u001b[K     |█████████████████████▍          | 512kB 7.4MB/s eta 0:00:01\r\u001b[K     |█████████████████████▉          | 522kB 7.4MB/s eta 0:00:01\r\u001b[K     |██████████████████████▎         | 532kB 7.4MB/s eta 0:00:01\r\u001b[K     |██████████████████████▊         | 542kB 7.4MB/s eta 0:00:01\r\u001b[K     |███████████████████████         | 552kB 7.4MB/s eta 0:00:01\r\u001b[K     |███████████████████████▌        | 563kB 7.4MB/s eta 0:00:01\r\u001b[K     |████████████████████████        | 573kB 7.4MB/s eta 0:00:01\r\u001b[K     |████████████████████████▍       | 583kB 7.4MB/s eta 0:00:01\r\u001b[K     |████████████████████████▉       | 593kB 7.4MB/s eta 0:00:01\r\u001b[K     |█████████████████████████▎      | 604kB 7.4MB/s eta 0:00:01\r\u001b[K     |█████████████████████████▊      | 614kB 7.4MB/s eta 0:00:01\r\u001b[K     |██████████████████████████      | 624kB 7.4MB/s eta 0:00:01\r\u001b[K     |██████████████████████████▌     | 634kB 7.4MB/s eta 0:00:01\r\u001b[K     |███████████████████████████     | 645kB 7.4MB/s eta 0:00:01\r\u001b[K     |███████████████████████████▍    | 655kB 7.4MB/s eta 0:00:01\r\u001b[K     |███████████████████████████▉    | 665kB 7.4MB/s eta 0:00:01\r\u001b[K     |████████████████████████████▎   | 675kB 7.4MB/s eta 0:00:01\r\u001b[K     |████████████████████████████▋   | 686kB 7.4MB/s eta 0:00:01\r\u001b[K     |█████████████████████████████   | 696kB 7.4MB/s eta 0:00:01\r\u001b[K     |█████████████████████████████▌  | 706kB 7.4MB/s eta 0:00:01\r\u001b[K     |██████████████████████████████  | 716kB 7.4MB/s eta 0:00:01\r\u001b[K     |██████████████████████████████▍ | 727kB 7.4MB/s eta 0:00:01\r\u001b[K     |██████████████████████████████▉ | 737kB 7.4MB/s eta 0:00:01\r\u001b[K     |███████████████████████████████▎| 747kB 7.4MB/s eta 0:00:01\r\u001b[K     |███████████████████████████████▋| 757kB 7.4MB/s eta 0:00:01\r\u001b[K     |████████████████████████████████| 768kB 7.4MB/s \n",
            "\u001b[?25hInstalling collected packages: opencc\n",
            "Successfully installed opencc-1.1.2\n"
          ],
          "name": "stdout"
        }
      ]
    },
    {
      "cell_type": "code",
      "metadata": {
        "id": "05LtExs57n20"
      },
      "source": [
        "import torch\n",
        "import torch.nn as nn\n",
        "import torch.optim as optim\n",
        "import torch.nn.functional as F\n",
        "from torch.utils.data import Dataset, DataLoader\n",
        "from torchtext.legacy.data import *\n",
        "\n",
        "\n",
        "import time\n",
        "import math\n",
        "import random\n",
        "import jieba\n",
        "import spacy\n",
        "import opencc"
      ],
      "execution_count": 4,
      "outputs": []
    },
    {
      "cell_type": "code",
      "metadata": {
        "id": "B7h691pQdmyW",
        "colab": {
          "base_uri": "https://localhost:8080/"
        },
        "outputId": "b3be2bff-4763-400e-9773-965eeeaa1dd3"
      },
      "source": [
        "device = torch.device('cuda' if torch.cuda.is_available() else 'cpu')\n",
        "device"
      ],
      "execution_count": 5,
      "outputs": [
        {
          "output_type": "execute_result",
          "data": {
            "text/plain": [
              "device(type='cuda')"
            ]
          },
          "metadata": {
            "tags": []
          },
          "execution_count": 5
        }
      ]
    },
    {
      "cell_type": "markdown",
      "metadata": {
        "id": "QW9iTQeF7n2-"
      },
      "source": [
        "# 读取数据"
      ]
    },
    {
      "cell_type": "code",
      "metadata": {
        "id": "9TBhsBe27n3A",
        "colab": {
          "base_uri": "https://localhost:8080/",
          "height": 101
        },
        "outputId": "726ba7cb-9ddc-4d67-bdb9-593f5981c4a7"
      },
      "source": [
        "# 每一行数据如下\n",
        "# 'Hi.\\t嗨。\\tCC-BY 2.0 (France) Attribution: tatoeba.org #538123 (CM) & #891077 (Martha)'\n",
        "with open('./cmn-eng/cmn.txt', 'r', encoding='utf-8') as f:\n",
        "    data = f.read()\n",
        "data = data.strip()\n",
        "data = data.split('\\n')\n",
        "print('样本数:\\n', len(data))\n",
        "print('\\n样本示例:')\n",
        "data[0]"
      ],
      "execution_count": 6,
      "outputs": [
        {
          "output_type": "stream",
          "text": [
            "样本数:\n",
            " 24360\n",
            "\n",
            "样本示例:\n"
          ],
          "name": "stdout"
        },
        {
          "output_type": "execute_result",
          "data": {
            "application/vnd.google.colaboratory.intrinsic+json": {
              "type": "string"
            },
            "text/plain": [
              "'Hi.\\t嗨。\\tCC-BY 2.0 (France) Attribution: tatoeba.org #538123 (CM) & #891077 (Martha)'"
            ]
          },
          "metadata": {
            "tags": []
          },
          "execution_count": 6
        }
      ]
    },
    {
      "cell_type": "code",
      "metadata": {
        "id": "vXXhro447n3F",
        "colab": {
          "base_uri": "https://localhost:8080/"
        },
        "outputId": "2fab566b-c4c9-4285-bd68-869aba0239a3"
      },
      "source": [
        "# 分割英文数据和中文数据\n",
        "cc = opencc.OpenCC('t2s')\n",
        "\n",
        "en_data = [line.split('\\t')[0] for line in data]\n",
        "ch_data = [cc.convert(line.split('\\t')[1]) for line in data]\n",
        "print('英文数据:\\n', en_data[:10])\n",
        "print('\\n中文数据:\\n', ch_data[:10])"
      ],
      "execution_count": 7,
      "outputs": [
        {
          "output_type": "stream",
          "text": [
            "英文数据:\n",
            " ['Hi.', 'Hi.', 'Run.', 'Wait!', 'Wait!', 'Begin.', 'Hello!', 'I won!', 'Oh no!', 'Cheers!']\n",
            "\n",
            "中文数据:\n",
            " ['嗨。', '你好。', '你用跑的。', '等等！', '等一下！', '开始！', '你好。', '我赢了。', '不会吧。', '干杯!']\n"
          ],
          "name": "stdout"
        }
      ]
    },
    {
      "cell_type": "markdown",
      "metadata": {
        "id": "Vx-jKO_vuZbM"
      },
      "source": [
        "# 分词"
      ]
    },
    {
      "cell_type": "code",
      "metadata": {
        "id": "k1ioMRh17n3O",
        "colab": {
          "base_uri": "https://localhost:8080/"
        },
        "outputId": "7007aca9-fb62-4341-a050-b1300c76ce67"
      },
      "source": [
        "# 中文使用jieba分词\n",
        "ch_token_list = []\n",
        "for line in ch_data:\n",
        "  ch_token_list.append(list(jieba.cut(line)) + ['<eos>'])\n",
        "\n",
        "# 测试\n",
        "print('\\n中文数据:\\n', ch_token_list[:3])\n",
        "\n",
        "# 英文使用spacy分词\n",
        "nlp = spacy.load('en')\n",
        "en_token_list = []\n",
        "for line in en_data:\n",
        "  doc = nlp(line)\n",
        "  en_new = []\n",
        "  for token in doc:\n",
        "    en_new.append(token.text)\n",
        "  en_token_list.append(en_new + ['<eos>'])\n",
        "\n",
        "# 测试\n",
        "print('英文数据:\\n', en_token_list[:3])"
      ],
      "execution_count": 8,
      "outputs": [
        {
          "output_type": "stream",
          "text": [
            "Building prefix dict from the default dictionary ...\n",
            "Dumping model to file cache /tmp/jieba.cache\n",
            "Loading model cost 0.811 seconds.\n",
            "Prefix dict has been built successfully.\n"
          ],
          "name": "stderr"
        },
        {
          "output_type": "stream",
          "text": [
            "\n",
            "中文数据:\n",
            " [['嗨', '。', '<eos>'], ['你好', '。', '<eos>'], ['你', '用', '跑', '的', '。', '<eos>']]\n",
            "英文数据:\n",
            " [['Hi', '.', '<eos>'], ['Hi', '.', '<eos>'], ['Run', '.', '<eos>']]\n"
          ],
          "name": "stdout"
        }
      ]
    },
    {
      "cell_type": "markdown",
      "metadata": {
        "id": "jwip6aLDueJb"
      },
      "source": [
        "# 建立词典"
      ]
    },
    {
      "cell_type": "code",
      "metadata": {
        "colab": {
          "base_uri": "https://localhost:8080/"
        },
        "id": "-j9z6q06phw3",
        "outputId": "cfdd40b1-c25b-47ff-f2a4-4a95510cff50"
      },
      "source": [
        "ch_TEXT = Field()\n",
        "ch_TEXT.build_vocab(ch_token_list, specials=['<pad>', '<unk>', '<bos>', '<eos>'])\n",
        "en_TEXT = Field()\n",
        "en_TEXT.build_vocab(en_token_list, specials=['<pad>', '<unk>', '<bos>', '<eos>'])\n",
        "\n",
        "print('中文词典: ')\n",
        "print(len(ch_TEXT.vocab))\n",
        "print(ch_TEXT)\n",
        "print(ch_TEXT.vocab.itos[:20])\n",
        "print(ch_TEXT.vocab.stoi['<unk>'])\n",
        "print('\\n英文词典: ')\n",
        "print(len(en_TEXT.vocab))\n",
        "print(en_TEXT)\n",
        "print(en_TEXT.vocab.itos[:20])\n",
        "print(en_TEXT.vocab.stoi['<unk>'])"
      ],
      "execution_count": 9,
      "outputs": [
        {
          "output_type": "stream",
          "text": [
            "中文词典: \n",
            "11392\n",
            "<torchtext.legacy.data.field.Field object at 0x7fb1c6bbf350>\n",
            "['<unk>', '<pad>', '<bos>', '<eos>', '。', '我', '的', '了', '你', '他', '？', '汤姆', '在', '是', '她', '吗', '我们', '，', '不', '很']\n",
            "0\n",
            "\n",
            "英文词典: \n",
            "7346\n",
            "<torchtext.legacy.data.field.Field object at 0x7fb1d7ff0e50>\n",
            "['<unk>', '<pad>', '<bos>', '<eos>', '.', 'I', 'to', 'the', 'you', 'a', '?', 'is', \"n't\", 'Tom', 'He', 'in', \"'s\", 'of', 'do', 'me']\n",
            "0\n"
          ],
          "name": "stdout"
        }
      ]
    },
    {
      "cell_type": "code",
      "metadata": {
        "id": "jLIjhvZt7n3e",
        "colab": {
          "base_uri": "https://localhost:8080/"
        },
        "outputId": "a5470f0c-1936-47f2-d269-869a2bf2f033"
      },
      "source": [
        "# 利用字典，映射数据 \n",
        "en_num_data = [[en_TEXT.vocab.stoi[token] for token in line ] for line in en_token_list]\n",
        "ch_num_data = [[ch_TEXT.vocab.stoi[token] for token in line] for line in ch_token_list]\n",
        "\n",
        "print('char:', en_data[1])\n",
        "print('index:', en_num_data[1])"
      ],
      "execution_count": 10,
      "outputs": [
        {
          "output_type": "stream",
          "text": [
            "char: Hi.\n",
            "index: [2310, 4, 3]\n"
          ],
          "name": "stdout"
        }
      ]
    },
    {
      "cell_type": "markdown",
      "metadata": {
        "id": "IZ5ZtQfN7n3j"
      },
      "source": [
        "# 表示为Dataset"
      ]
    },
    {
      "cell_type": "code",
      "metadata": {
        "id": "PPTYSlOw7n3k"
      },
      "source": [
        "class TranslationDataset(Dataset):\n",
        "    def __init__(self, src_data, trg_data):\n",
        "        self.src_data = src_data\n",
        "        self.trg_data = trg_data\n",
        "\n",
        "        assert len(src_data) == len(trg_data), \\\n",
        "            \"numbers of src_data  and trg_data must be equal!\"\n",
        "\n",
        "    def __len__(self):\n",
        "        return len(self.src_data)\n",
        "\n",
        "    def __getitem__(self, idx):\n",
        "        src_sample =self.src_data[idx]\n",
        "        src_len = len(self.src_data[idx])\n",
        "        trg_sample = self.trg_data[idx]\n",
        "        trg_len = len(self.trg_data[idx])\n",
        "        return {\"src\": src_sample, \"src_len\": src_len, \"trg\": trg_sample, \"trg_len\": trg_len}"
      ],
      "execution_count": 11,
      "outputs": []
    },
    {
      "cell_type": "code",
      "metadata": {
        "id": "yUKfKfpc7n3p"
      },
      "source": [
        "def padding_batch(batch):\n",
        "    \"\"\"\n",
        "    input: -> list of dict\n",
        "        [{'src': [1, 2, 3], 'trg': [1, 2, 3]}, {'src': [1, 2, 2, 3], 'trg': [1, 2, 2, 3]}]\n",
        "    output: -> dict of tensor \n",
        "        {\n",
        "            \"src\": [[1, 2, 3, 0], [1, 2, 2, 3]].T\n",
        "            \"trg\": [[1, 2, 3, 0], [1, 2, 2, 3]].T\n",
        "        }\n",
        "    \"\"\"\n",
        "    src_lens = [d[\"src_len\"] for d in batch]\n",
        "    trg_lens = [d[\"trg_len\"] for d in batch]\n",
        "    \n",
        "    src_max = max([d[\"src_len\"] for d in batch])\n",
        "    trg_max = max([d[\"trg_len\"] for d in batch])\n",
        "    for d in batch:\n",
        "        d[\"src\"].extend([en_TEXT.vocab.stoi[\"<pad>\"]] * (src_max-d[\"src_len\"]))\n",
        "        d[\"trg\"].extend([ch_TEXT.vocab.stoi[\"<pad>\"]] * (trg_max-d[\"trg_len\"]))\n",
        "    srcs = torch.tensor([pair[\"src\"] for pair in batch], dtype=torch.long, device=device)\n",
        "    trgs = torch.tensor([pair[\"trg\"] for pair in batch], dtype=torch.long, device=device)\n",
        "    \n",
        "    batch = {\"src\":srcs.T, \"src_len\":src_lens, \"trg\":trgs.T, \"trg_len\":trg_lens}\n",
        "    return batch"
      ],
      "execution_count": 12,
      "outputs": []
    },
    {
      "cell_type": "markdown",
      "metadata": {
        "id": "Es1g11r09g9v"
      },
      "source": [
        "# Attention机制"
      ]
    },
    {
      "cell_type": "code",
      "metadata": {
        "id": "SBpm6azx_FLe"
      },
      "source": [
        "class Encoder(nn.Module):\n",
        "    def __init__(self, input_dim, emb_dim, hid_dim, n_layers, dropout=0.5, bidirectional=True):\n",
        "        super(Encoder, self).__init__()\n",
        "        \n",
        "        self.hid_dim = hid_dim\n",
        "        self.n_layers = n_layers\n",
        "        \n",
        "        self.embedding = nn.Embedding(input_dim, emb_dim)\n",
        "        self.gru = nn.GRU(emb_dim, hid_dim, n_layers, dropout=dropout, bidirectional=bidirectional)\n",
        "        \n",
        "    def forward(self, input_seqs, input_lengths, hidden):\n",
        "        # input_seqs = [seq_len, batch]\n",
        "        embedded = self.embedding(input_seqs)\n",
        "        # embedded = [seq_len, batch, embed_dim]\n",
        "        packed = torch.nn.utils.rnn.pack_padded_sequence(embedded, input_lengths, enforce_sorted=False)\n",
        "        \n",
        "        outputs, hidden = self.gru(packed, hidden)        \n",
        "        outputs, output_lengths = torch.nn.utils.rnn.pad_packed_sequence(outputs)\n",
        "        # outputs = [seq_len, batch, hid_dim * n directions]\n",
        "        # output_lengths = [batch]\n",
        "        return outputs, hidden"
      ],
      "execution_count": 13,
      "outputs": []
    },
    {
      "cell_type": "code",
      "metadata": {
        "id": "rMbsHQa38Kv1"
      },
      "source": [
        "class Attn(nn.Module):\n",
        "    def __init__(self, method, hidden_size):\n",
        "        super(Attn, self).__init__()\n",
        "        self.method = method\n",
        "        if self.method not in ['dot', 'general', 'concat']:\n",
        "            raise ValueError(self.method, \"is not an appropriate attention method.\")\n",
        "        self.hidden_size = hidden_size\n",
        "        if self.method == 'general':\n",
        "            self.attn = nn.Linear(self.hidden_size, hidden_size)\n",
        "        elif self.method == 'concat':\n",
        "            self.attn = nn.Linear(self.hidden_size * 2, hidden_size)\n",
        "            self.v = nn.Parameter(torch.FloatTensor(hidden_size))\n",
        "\n",
        "    def dot_score(self, hidden, encoder_output):\n",
        "        return torch.sum(hidden * encoder_output, dim=2)  # [seq_len, batch]\n",
        "\n",
        "    def general_score(self, hidden, encoder_output):\n",
        "        energy = self.attn(encoder_output)  # [seq_len, batch, hid_dim]\n",
        "        return torch.sum(hidden * energy, dim=2)  # [seq_len, batch]\n",
        "\n",
        "    def concat_score(self, hidden, encoder_output):\n",
        "        # hidden.expand(encoder_output.size(0), -1, -1) -> [seq_len, batch, N]\n",
        "        energy = self.attn(torch.cat((hidden.expand(encoder_output.size(0), -1, -1), encoder_output), 2)).tanh()\n",
        "        # energy = [sql_len, batch, hidden_size]\n",
        "        return torch.sum(self.v * energy, dim=2)  # [seq_len, batch]\n",
        "\n",
        "    def forward(self, hidden, encoder_outputs):\n",
        "        # hidden = [1, batch,  n_directions * hid_dim]\n",
        "        # encoder_outputs = [seq_len, batch, hid dim * n directions]\n",
        "        if self.method == 'general':\n",
        "            attn_energies = self.general_score(hidden, encoder_outputs)\n",
        "        elif self.method == 'concat':\n",
        "            attn_energies = self.concat_score(hidden, encoder_outputs)\n",
        "        elif self.method == 'dot':\n",
        "            attn_energies = self.dot_score(hidden, encoder_outputs)\n",
        "\n",
        "        attn_energies = attn_energies.t()  # [batch, seq_len]\n",
        " \n",
        "        return F.softmax(attn_energies, dim=1).unsqueeze(1)  # softmax归一化# [batch, 1, seq_len]"
      ],
      "execution_count": 14,
      "outputs": []
    },
    {
      "cell_type": "code",
      "metadata": {
        "id": "lLbqgxNg8XT4"
      },
      "source": [
        "class AttnDecoder(nn.Module):\n",
        "    def __init__(self, output_dim, emb_dim, hid_dim, n_layers=1, dropout=0.5, bidirectional=True, attn_method=\"general\"):\n",
        "        super(AttnDecoder, self).__init__()\n",
        "\n",
        "        self.output_dim = output_dim\n",
        "        self.emb_dim = emb_dim\n",
        "        self.hid_dim = hid_dim\n",
        "        self.n_layers = n_layers\n",
        "        self.dropout = dropout\n",
        "\n",
        "        self.embedding = nn.Embedding(output_dim, emb_dim)\n",
        "        self.embedding_dropout = nn.Dropout(dropout)\n",
        "        self.gru = nn.GRU(emb_dim, hid_dim, n_layers, dropout=dropout, bidirectional=bidirectional)\n",
        "        \n",
        "        if bidirectional:\n",
        "            self.concat = nn.Linear(hid_dim * 2 * 2, hid_dim*2)\n",
        "            self.out = nn.Linear(hid_dim*2, output_dim)\n",
        "            self.attn = Attn(attn_method, hid_dim*2)\n",
        "        else:\n",
        "            self.concat = nn.Linear(hid_dim * 2, hid_dim)\n",
        "            self.out = nn.Linear(hid_dim, output_dim)\n",
        "            self.attn = Attn(attn_method, hid_dim)\n",
        "        self.softmax = nn.LogSoftmax(dim=1)\n",
        "\n",
        "    def forward(self, token_inputs, last_hidden, encoder_outputs):\n",
        "        batch_size = token_inputs.size(0)\n",
        "        embedded = self.embedding(token_inputs)\n",
        "        embedded = self.embedding_dropout(embedded)\n",
        "        embedded = embedded.view(1, batch_size, -1) # [1, B, hid_dim]\n",
        "\n",
        "        gru_output, hidden = self.gru(embedded, last_hidden)\n",
        "        # gru_output = [1, batch,  n_directions * hid_dim]\n",
        "        # hidden = [n_layers * n_directions, batch, hid_dim]\n",
        "\n",
        "        # encoder_outputs = [sql_len, batch, hid dim * n directions]\n",
        "        attn_weights = self.attn(gru_output, encoder_outputs)\n",
        "        # attn_weights = [batch, 1, sql_len]\n",
        "        context = attn_weights.bmm(encoder_outputs.transpose(0, 1))\n",
        "        # [batch, 1, hid_dim * n directions]\n",
        "\n",
        "        # LuongAttention\n",
        "        gru_output = gru_output.squeeze(0) # [batch, n_directions * hid_dim]\n",
        "        context = context.squeeze(1)       # [batch, n_directions * hid_dim]\n",
        "        concat_input = torch.cat((gru_output, context), 1)  # [batch, n_directions * hid_dim * 2]\n",
        "        concat_output = torch.tanh(self.concat(concat_input))  # [batch, n_directions*hid_dim]\n",
        "\n",
        "        output = self.out(concat_output)  # [batch, output_dim]\n",
        "        output = self.softmax(output)\n",
        "\n",
        "        return output, hidden, attn_weights"
      ],
      "execution_count": 15,
      "outputs": []
    },
    {
      "cell_type": "code",
      "metadata": {
        "id": "y94lk1qX_Cxn"
      },
      "source": [
        "class Seq2Seq(nn.Module):\n",
        "    def __init__(self, \n",
        "                 encoder, \n",
        "                 decoder, \n",
        "                 device, \n",
        "                 predict=False, \n",
        "                 basic_dict=None,\n",
        "                 max_len=100\n",
        "                 ):\n",
        "        super(Seq2Seq, self).__init__()\n",
        "        \n",
        "        self.device = device\n",
        "\n",
        "        self.encoder = encoder\n",
        "        self.decoder = decoder\n",
        "\n",
        "        self.predict = predict  # 训练阶段还是预测阶段\n",
        "        self.basic_dict = basic_dict  # decoder的字典，存放特殊token对应的id\n",
        "        self.max_len = max_len  # 翻译时最大输出长度\n",
        "\n",
        "        assert encoder.hid_dim == decoder.hid_dim, \\\n",
        "            \"Hidden dimensions of encoder and decoder must be equal!\"\n",
        "        assert encoder.n_layers == decoder.n_layers, \\\n",
        "            \"Encoder and decoder must have equal number of layers!\"\n",
        "        assert encoder.gru.bidirectional == decoder.gru.bidirectional, \\\n",
        "            \"Decoder and encoder must had same value of bidirectional attribute!\"\n",
        "        \n",
        "    def forward(self, input_batches, input_lengths, target_batches=None, target_lengths=None, teacher_forcing_ratio=0.5):\n",
        "        # input_batches = [seq_len, batch]\n",
        "        # target_batches = [seq_len, batch]\n",
        "        batch_size = input_batches.size(1)\n",
        "        \n",
        "        BOS_token = self.basic_dict[\"<bos>\"]\n",
        "        EOS_token = self.basic_dict[\"<eos>\"]\n",
        "        PAD_token = self.basic_dict[\"<pad>\"]\n",
        "\n",
        "        # 初始化\n",
        "        enc_n_layers = self.encoder.gru.num_layers\n",
        "        enc_n_directions = 2 if self.encoder.gru.bidirectional else 1\n",
        "        encoder_hidden = torch.zeros(enc_n_layers*enc_n_directions, batch_size, self.encoder.hid_dim, device=self.device)\n",
        "        \n",
        "        # encoder_outputs = [input_lengths, batch, hid_dim * n directions]\n",
        "        # encoder_hidden = [n_layers*n_directions, batch, hid_dim]\n",
        "        encoder_outputs, encoder_hidden = self.encoder(\n",
        "            input_batches, input_lengths, encoder_hidden)\n",
        "\n",
        "        # 初始化\n",
        "        decoder_input = torch.tensor([BOS_token] * batch_size, dtype=torch.long, device=self.device)\n",
        "        decoder_hidden = encoder_hidden\n",
        "\n",
        "        if self.predict:\n",
        "            # 一次只输入一句话\n",
        "            assert batch_size == 1, \"batch_size of predict phase must be 1!\"\n",
        "            output_tokens = []\n",
        "\n",
        "            while True:\n",
        "                decoder_output, decoder_hidden, decoder_attn = self.decoder(\n",
        "                    decoder_input, decoder_hidden, encoder_outputs\n",
        "                )\n",
        "                # [1, 1]\n",
        "                topv, topi = decoder_output.topk(1)\n",
        "                decoder_input = topi.squeeze(1).detach()\n",
        "                output_token = topi.squeeze().detach().item()\n",
        "                if output_token == EOS_token or len(output_tokens) == self.max_len:\n",
        "                    break\n",
        "                output_tokens.append(output_token)\n",
        "            return output_tokens\n",
        "\n",
        "        else:\n",
        "            max_target_length = max(target_lengths)\n",
        "            all_decoder_outputs = torch.zeros((max_target_length, batch_size, self.decoder.output_dim), device=self.device)\n",
        "\n",
        "            for t in range(max_target_length):\n",
        "                use_teacher_forcing = True if random.random() < teacher_forcing_ratio else False\n",
        "                if use_teacher_forcing:\n",
        "                    # decoder_output = [batch, output_dim]\n",
        "                    # decoder_hidden = [n_layers*n_directions, batch, hid_dim]\n",
        "                    decoder_output, decoder_hidden, decoder_attn = self.decoder(\n",
        "                        decoder_input, decoder_hidden, encoder_outputs\n",
        "                    )\n",
        "                    all_decoder_outputs[t] = decoder_output\n",
        "                    decoder_input = target_batches[t]  # 下一个输入来自训练数据\n",
        "                else:\n",
        "                    decoder_output, decoder_hidden, decoder_attn = self.decoder(\n",
        "                        decoder_input, decoder_hidden, encoder_outputs\n",
        "                    )\n",
        "                    # [batch, 1]\n",
        "                    topv, topi = decoder_output.topk(1)\n",
        "                    all_decoder_outputs[t] = decoder_output\n",
        "                    decoder_input = topi.squeeze(1).detach()  # 下一个输入来自模型预测\n",
        "            \n",
        "            loss_fn = nn.NLLLoss(ignore_index=PAD_token)\n",
        "            loss = loss_fn(\n",
        "                all_decoder_outputs.reshape(-1, self.decoder.output_dim),  # [batch*seq_len, output_dim]\n",
        "                target_batches.reshape(-1)               # [batch*seq_len]\n",
        "            )\n",
        "            return loss"
      ],
      "execution_count": 16,
      "outputs": []
    },
    {
      "cell_type": "markdown",
      "metadata": {
        "id": "DGIK_4IO7n4G"
      },
      "source": [
        "# 训练和预测代码"
      ]
    },
    {
      "cell_type": "code",
      "metadata": {
        "id": "TvUaEp0Y7n4H"
      },
      "source": [
        "def epoch_time(start_time, end_time):\n",
        "    elapsed_time = end_time - start_time\n",
        "    elapsed_mins = int(elapsed_time / 60)\n",
        "    elapsed_secs = int(elapsed_time - (elapsed_mins * 60))\n",
        "    return elapsed_mins, elapsed_secs"
      ],
      "execution_count": 17,
      "outputs": []
    },
    {
      "cell_type": "code",
      "metadata": {
        "id": "FcB6O0cJ7n4P"
      },
      "source": [
        "def train(\n",
        "    model,\n",
        "    data_loader, \n",
        "    optimizer, \n",
        "    clip=1, \n",
        "    teacher_forcing_ratio=0.5, \n",
        "    print_every=None  # None不打印\n",
        "    ):\n",
        "    model.predict = False\n",
        "    model.train()\n",
        "\n",
        "    if print_every == 0:\n",
        "        print_every = 1\n",
        "\n",
        "    print_loss_total = 0  # 每次打印都重置\n",
        "    start = time.time()\n",
        "    epoch_loss = 0\n",
        "    for i, batch in enumerate(data_loader):\n",
        "\n",
        "        # shape = [seq_len, batch]\n",
        "        input_batchs = batch[\"src\"]\n",
        "        target_batchs = batch[\"trg\"]\n",
        "        # list\n",
        "        input_lens = batch[\"src_len\"]\n",
        "        target_lens = batch[\"trg_len\"]\n",
        "        \n",
        "        optimizer.zero_grad()\n",
        "        \n",
        "        loss = model(input_batchs, input_lens, target_batchs, target_lens, teacher_forcing_ratio)\n",
        "        print_loss_total += loss.item()\n",
        "        epoch_loss += loss.item()\n",
        "        loss.backward()\n",
        "\n",
        "        # 梯度裁剪\n",
        "        torch.nn.utils.clip_grad_norm_(model.parameters(), clip)\n",
        "\n",
        "        optimizer.step()\n",
        "\n",
        "        if print_every and (i+1) % print_every == 0:\n",
        "            print_loss_avg = print_loss_total / print_every\n",
        "            print_loss_total = 0\n",
        "            print('\\tCurrent Loss: %.4f' % print_loss_avg)\n",
        "\n",
        "    return epoch_loss / len(data_loader)"
      ],
      "execution_count": 18,
      "outputs": []
    },
    {
      "cell_type": "code",
      "metadata": {
        "id": "DgYv7rsp7n4V"
      },
      "source": [
        "def evaluate(\n",
        "    model,\n",
        "    data_loader, \n",
        "    print_every=None\n",
        "    ):\n",
        "    model.predict = False\n",
        "    model.eval()\n",
        "    if print_every == 0:\n",
        "        print_every = 1\n",
        "\n",
        "    print_loss_total = 0  # 每次打印都重置\n",
        "    start = time.time()\n",
        "    epoch_loss = 0\n",
        "    with torch.no_grad():\n",
        "        for i, batch in enumerate(data_loader):\n",
        "\n",
        "            # shape = [seq_len, batch]\n",
        "            input_batchs = batch[\"src\"]\n",
        "            target_batchs = batch[\"trg\"]\n",
        "            # list\n",
        "            input_lens = batch[\"src_len\"]\n",
        "            target_lens = batch[\"trg_len\"]\n",
        "\n",
        "            loss = model(input_batchs, input_lens, target_batchs, target_lens, teacher_forcing_ratio=0)\n",
        "            print_loss_total += loss.item()\n",
        "            epoch_loss += loss.item()\n",
        "\n",
        "            if print_every and (i+1) % print_every == 0:\n",
        "                print_loss_avg = print_loss_total / print_every\n",
        "                print_loss_total = 0\n",
        "                print('\\tCurrent Loss: %.4f' % print_loss_avg)\n",
        "\n",
        "    return epoch_loss / len(data_loader)"
      ],
      "execution_count": 19,
      "outputs": []
    },
    {
      "cell_type": "code",
      "metadata": {
        "id": "ldcZM35r7n4h"
      },
      "source": [
        "def translate(\n",
        "    model,\n",
        "    sample, \n",
        "    idx2token=None\n",
        "    ):\n",
        "    model.predict = True\n",
        "    model.eval()\n",
        "\n",
        "    # shape = [seq_len, 1]\n",
        "    input_batch = sample[\"src\"]\n",
        "    # list\n",
        "    input_len = sample[\"src_len\"]\n",
        "\n",
        "    output_tokens = model(input_batch, input_len)\n",
        "    output_tokens = [idx2token[t] for t in output_tokens]\n",
        "\n",
        "    return \"\".join(output_tokens)"
      ],
      "execution_count": 20,
      "outputs": []
    },
    {
      "cell_type": "markdown",
      "metadata": {
        "id": "kLS0uKiu9WtW"
      },
      "source": [
        "# 开始训练"
      ]
    },
    {
      "cell_type": "code",
      "metadata": {
        "id": "3ALxD62K8a-s"
      },
      "source": [
        "INPUT_DIM = len(en_TEXT.vocab)\n",
        "OUTPUT_DIM = len(ch_TEXT.vocab)\n",
        "# 超参数\n",
        "BATCH_SIZE = 32\n",
        "ENC_EMB_DIM = 256\n",
        "DEC_EMB_DIM = 256\n",
        "HID_DIM = 512\n",
        "N_LAYERS = 2\n",
        "ENC_DROPOUT = 0.5\n",
        "DEC_DROPOUT = 0.5\n",
        "LEARNING_RATE = 1e-4\n",
        "N_EPOCHS = 50\n",
        "CLIP = 1\n",
        "\n",
        "bidirectional = True\n",
        "attn_method = \"general\"\n",
        "enc = Encoder(INPUT_DIM, ENC_EMB_DIM, HID_DIM, N_LAYERS, ENC_DROPOUT, bidirectional)\n",
        "dec = AttnDecoder(OUTPUT_DIM, DEC_EMB_DIM, HID_DIM, N_LAYERS, DEC_DROPOUT, bidirectional, attn_method)\n",
        "model = Seq2Seq(enc, dec, device, basic_dict=ch_TEXT.vocab.stoi).to(device)\n",
        "\n",
        "optimizer = optim.Adam(model.parameters(), lr=LEARNING_RATE)"
      ],
      "execution_count": 21,
      "outputs": []
    },
    {
      "cell_type": "code",
      "metadata": {
        "id": "A1HXlUlz9_oV"
      },
      "source": [
        "# 数据集\n",
        "data_set = TranslationDataset(en_num_data, ch_num_data)\n",
        "train_size = int(len(data_set) * 0.6)\n",
        "valid_size = int(len(data_set) * 0.2)\n",
        "test_size = len(data_set) - train_size - valid_size\n",
        "\n",
        "train_set, valid_set, test_set = torch.utils.data.random_split(data_set, [train_size, valid_size, test_size])\n",
        "train_loader = DataLoader(train_set, batch_size = BATCH_SIZE, collate_fn=padding_batch)\n",
        "valid_loader = DataLoader(valid_set, batch_size = BATCH_SIZE, collate_fn=padding_batch)\n",
        "test_loader = DataLoader(test_set, batch_size = BATCH_SIZE, collate_fn=padding_batch)\n",
        "\n",
        "# train_set = TranslationDataset(en_num_data, ch_num_data)\n",
        "# train_loader = DataLoader(train_set, batch_size=BATCH_SIZE, collate_fn=padding_batch)"
      ],
      "execution_count": 22,
      "outputs": []
    },
    {
      "cell_type": "code",
      "metadata": {
        "id": "GbnYsq9p-GbI",
        "colab": {
          "base_uri": "https://localhost:8080/"
        },
        "outputId": "a371ada6-546e-42f7-8a63-f61558692ce7"
      },
      "source": [
        "best_valid_loss = float('inf')\n",
        "\n",
        "for epoch in range(N_EPOCHS):\n",
        "    \n",
        "    start_time = time.time()\n",
        "    train_loss = train(model, train_loader, optimizer, CLIP)\n",
        "    valid_loss = evaluate(model, valid_loader)\n",
        "    end_time = time.time()\n",
        "    \n",
        "    if valid_loss < best_valid_loss:\n",
        "        best_valid_loss = valid_loss\n",
        "        torch.save(model.state_dict(), \"en2ch-attn-model.pt\")\n",
        "\n",
        "    if epoch %2 == 0:\n",
        "        epoch_mins, epoch_secs = epoch_time(start_time, end_time)\n",
        "        print(f'Epoch: {epoch+1:02} | Time: {epoch_mins}m {epoch_secs}s')\n",
        "        print(f'\\tTrain Loss: {train_loss:.3f} | Val. Loss: {valid_loss:.3f}')"
      ],
      "execution_count": null,
      "outputs": [
        {
          "output_type": "stream",
          "text": [
            "Epoch: 01 | Time: 0m 34s\n",
            "\tTrain Loss: 5.264 | Val. Loss: 4.902\n"
          ],
          "name": "stdout"
        }
      ]
    },
    {
      "cell_type": "code",
      "metadata": {
        "id": "2aw5nHpOdm5J"
      },
      "source": [
        "print(\"best valid loss：\", best_valid_loss)\n",
        "# 加载最优权重\n",
        "model.load_state_dict(torch.load(\"en2ch-attn-model.pt\"))"
      ],
      "execution_count": null,
      "outputs": []
    },
    {
      "cell_type": "code",
      "metadata": {
        "id": "8hGVhGBydm5R"
      },
      "source": [
        "random.seed(2030)\n",
        "for i in random.sample(range(len(en_num_data)), 10):  # 随机看10个\n",
        "    en_tokens = list(filter(lambda x: x!=1, en_num_data[i]))  # 过滤零\n",
        "    ch_tokens = list(filter(lambda x: x!=3 and x!=1, ch_num_data[i]))  # 和机器翻译作对照\n",
        "    sentence = [en_TEXT.vocab.itos[t] for t in en_tokens]\n",
        "    print(type(sentence[0]))\n",
        "    print(\"【原文】\")\n",
        "    print(\"\".join(sentence))\n",
        "    translation = [ch_TEXT.vocab.itos[t] for t in ch_tokens]\n",
        "    print(\"【原文】\")\n",
        "    print(\" \".join(translation))\n",
        "    test_sample = {}\n",
        "    test_sample[\"src\"] = torch.tensor(en_tokens, dtype=torch.long, device=device).reshape(-1, 1)\n",
        "    test_sample[\"src_len\"] = [len(en_tokens)]\n",
        "    print(\"【机器翻译】\")\n",
        "    print(translate(model, test_sample, ch_TEXT.vocab.itos), end=\"\\n\\n\")"
      ],
      "execution_count": null,
      "outputs": []
    },
    {
      "cell_type": "code",
      "metadata": {
        "id": "k0_5yNr-dm5a"
      },
      "source": [
        ""
      ],
      "execution_count": null,
      "outputs": []
    }
  ]
}